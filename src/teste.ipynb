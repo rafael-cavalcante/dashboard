{
 "cells": [
  {
   "cell_type": "code",
   "execution_count": 1,
   "metadata": {},
   "outputs": [],
   "source": [
    "from dash import Dash, dcc, html, Input, Output\n",
    "import pandas as pd\n",
    "import plotly.express as px\n",
    "import json"
   ]
  },
  {
   "cell_type": "code",
   "execution_count": 2,
   "metadata": {},
   "outputs": [],
   "source": [
    "df = pd.read_csv('../database/acidentes2023_todas_causas_tipos.csv')"
   ]
  },
  {
   "cell_type": "code",
   "execution_count": 3,
   "metadata": {},
   "outputs": [
    {
     "data": {
      "text/plain": [
       "0       177\n",
       "1        72\n",
       "2        12\n",
       "3        29\n",
       "4        12\n",
       "       ... \n",
       "1250      7\n",
       "1251    121\n",
       "1252     36\n",
       "1253     58\n",
       "1254      2\n",
       "Name: 0, Length: 1255, dtype: int64"
      ]
     },
     "execution_count": 3,
     "metadata": {},
     "output_type": "execute_result"
    }
   ],
   "source": [
    "df.groupby([\"dia_semana\", \"horario\"]).sum().reset_index()\n",
    "\n",
    "df.groupby([\"dia_semana\"]).size().reset_index()\n",
    "\n",
    "b = df.groupby([\"horario\"]).size().reset_index()\n",
    "\n",
    "b[0]"
   ]
  },
  {
   "cell_type": "code",
   "execution_count": 4,
   "metadata": {},
   "outputs": [
    {
     "data": {
      "application/vnd.plotly.v1+json": {
       "config": {
        "plotlyServerURL": "https://plot.ly"
       },
       "data": [
        {
         "alignmentgroup": "True",
         "hovertemplate": "dia_semana=%{x}<br>horario=%{y}<extra></extra>",
         "legendgroup": "",
         "marker": {
          "color": "#636efa",
          "pattern": {
           "shape": ""
          }
         },
         "name": "",
         "offsetgroup": "",
         "orientation": "v",
         "showlegend": false,
         "textposition": "auto",
         "type": "bar",
         "x": [
          "domingo",
          "domingo",
          "domingo",
          "domingo",
          "domingo",
          "domingo",
          "domingo",
          "domingo",
          "domingo",
          "domingo",
          "domingo",
          "domingo",
          "domingo",
          "domingo",
          "domingo",
          "domingo",
          "domingo",
          "domingo",
          "domingo",
          "domingo",
          "domingo",
          "domingo",
          "domingo",
          "domingo",
          "domingo",
          "domingo",
          "domingo",
          "domingo",
          "domingo",
          "domingo",
          "domingo",
          "domingo",
          "domingo",
          "domingo",
          "domingo",
          "domingo",
          "domingo",
          "domingo",
          "domingo",
          "domingo",
          "domingo",
          "domingo",
          "domingo",
          "domingo",
          "domingo",
          "domingo",
          "domingo",
          "domingo",
          "domingo",
          "domingo",
          "domingo",
          "domingo",
          "domingo",
          "domingo",
          "domingo",
          "domingo",
          "domingo",
          "domingo",
          "domingo",
          "domingo",
          "domingo",
          "domingo",
          "domingo",
          "domingo",
          "domingo",
          "domingo",
          "domingo",
          "domingo",
          "domingo",
          "domingo",
          "domingo",
          "domingo",
          "domingo",
          "domingo",
          "domingo",
          "domingo",
          "domingo",
          "domingo",
          "domingo",
          "domingo",
          "domingo",
          "domingo",
          "domingo",
          "domingo",
          "domingo",
          "domingo",
          "domingo",
          "domingo",
          "domingo",
          "domingo",
          "domingo",
          "domingo",
          "domingo",
          "domingo",
          "domingo",
          "domingo",
          "domingo",
          "domingo",
          "domingo",
          "domingo",
          "domingo",
          "domingo",
          "domingo",
          "domingo",
          "domingo",
          "domingo",
          "domingo",
          "domingo",
          "domingo",
          "domingo",
          "domingo",
          "domingo",
          "domingo",
          "domingo",
          "domingo",
          "domingo",
          "domingo",
          "domingo",
          "domingo",
          "domingo",
          "domingo",
          "domingo",
          "domingo",
          "domingo",
          "domingo",
          "domingo",
          "domingo",
          "domingo",
          "domingo",
          "domingo",
          "domingo",
          "domingo",
          "domingo",
          "domingo",
          "domingo",
          "domingo",
          "domingo",
          "domingo",
          "domingo",
          "domingo",
          "domingo",
          "domingo",
          "domingo",
          "domingo",
          "domingo",
          "domingo",
          "domingo",
          "domingo",
          "domingo",
          "domingo",
          "domingo",
          "domingo",
          "domingo",
          "domingo",
          "domingo",
          "domingo",
          "domingo",
          "domingo",
          "domingo",
          "domingo",
          "domingo",
          "domingo",
          "domingo",
          "domingo",
          "domingo",
          "domingo",
          "domingo",
          "domingo",
          "domingo",
          "domingo",
          "domingo",
          "domingo",
          "domingo",
          "domingo",
          "domingo",
          "domingo",
          "domingo",
          "domingo",
          "domingo",
          "domingo",
          "domingo",
          "domingo",
          "domingo",
          "domingo",
          "domingo",
          "domingo",
          "domingo",
          "domingo",
          "domingo",
          "domingo",
          "domingo",
          "domingo",
          "domingo",
          "domingo",
          "domingo",
          "domingo",
          "domingo",
          "domingo",
          "domingo",
          "domingo",
          "domingo",
          "domingo",
          "domingo",
          "domingo",
          "domingo",
          "domingo",
          "domingo",
          "domingo",
          "domingo",
          "domingo",
          "domingo",
          "domingo",
          "domingo",
          "domingo",
          "domingo",
          "domingo",
          "domingo",
          "domingo",
          "domingo",
          "domingo",
          "domingo",
          "domingo",
          "domingo",
          "domingo",
          "domingo",
          "domingo",
          "domingo",
          "domingo",
          "domingo",
          "domingo",
          "domingo",
          "domingo",
          "domingo",
          "domingo",
          "domingo",
          "domingo",
          "domingo",
          "domingo",
          "domingo",
          "domingo",
          "domingo",
          "domingo",
          "domingo",
          "domingo",
          "domingo",
          "domingo",
          "domingo",
          "domingo",
          "domingo",
          "domingo",
          "domingo",
          "domingo",
          "domingo",
          "domingo",
          "domingo",
          "domingo",
          "domingo",
          "domingo",
          "domingo",
          "domingo",
          "domingo",
          "domingo",
          "domingo",
          "domingo",
          "domingo",
          "domingo",
          "domingo",
          "domingo",
          "domingo",
          "domingo",
          "domingo",
          "domingo",
          "domingo",
          "domingo",
          "domingo",
          "domingo",
          "domingo",
          "domingo",
          "domingo",
          "domingo",
          "domingo",
          "domingo",
          "domingo",
          "domingo",
          "domingo",
          "domingo",
          "domingo",
          "domingo",
          "domingo",
          "domingo",
          "domingo",
          "domingo",
          "domingo",
          "domingo",
          "domingo",
          "domingo",
          "domingo",
          "domingo",
          "domingo",
          "domingo",
          "domingo",
          "domingo",
          "domingo",
          "domingo",
          "domingo",
          "domingo",
          "domingo",
          "domingo",
          "domingo",
          "domingo",
          "domingo",
          "domingo",
          "domingo",
          "domingo",
          "domingo",
          "domingo",
          "domingo",
          "domingo",
          "domingo",
          "domingo",
          "domingo",
          "domingo",
          "domingo",
          "domingo",
          "domingo",
          "domingo",
          "domingo",
          "domingo",
          "domingo",
          "domingo",
          "domingo",
          "domingo",
          "domingo",
          "domingo",
          "domingo",
          "domingo",
          "domingo",
          "domingo",
          "domingo",
          "domingo",
          "domingo",
          "domingo",
          "domingo",
          "domingo",
          "domingo",
          "domingo",
          "domingo",
          "domingo",
          "domingo",
          "domingo",
          "domingo",
          "domingo",
          "domingo",
          "domingo",
          "domingo",
          "domingo",
          "domingo",
          "domingo",
          "domingo",
          "domingo",
          "domingo",
          "domingo",
          "domingo",
          "domingo",
          "domingo",
          "domingo",
          "domingo",
          "domingo",
          "domingo",
          "domingo",
          "domingo",
          "domingo",
          "domingo",
          "domingo",
          "domingo",
          "domingo",
          "domingo",
          "domingo",
          "domingo",
          "domingo",
          "domingo",
          "domingo",
          "domingo",
          "domingo",
          "domingo",
          "domingo",
          "domingo",
          "domingo",
          "domingo",
          "domingo",
          "domingo",
          "domingo",
          "domingo",
          "domingo",
          "domingo",
          "domingo",
          "domingo",
          "domingo",
          "domingo",
          "domingo",
          "domingo",
          "domingo",
          "domingo",
          "domingo",
          "domingo",
          "domingo",
          "domingo",
          "domingo",
          "domingo",
          "domingo",
          "domingo",
          "domingo",
          "domingo",
          "domingo",
          "domingo",
          "domingo",
          "domingo",
          "domingo",
          "domingo",
          "domingo",
          "domingo",
          "domingo",
          "domingo",
          "domingo",
          "domingo",
          "domingo",
          "domingo",
          "domingo",
          "domingo",
          "domingo",
          "domingo",
          "domingo",
          "domingo",
          "domingo",
          "domingo",
          "domingo",
          "domingo",
          "domingo",
          "domingo",
          "domingo",
          "domingo",
          "domingo",
          "domingo",
          "domingo",
          "domingo",
          "domingo",
          "domingo",
          "domingo",
          "domingo",
          "domingo",
          "domingo",
          "domingo",
          "domingo",
          "domingo",
          "domingo",
          "domingo",
          "domingo",
          "domingo",
          "domingo",
          "domingo",
          "domingo",
          "domingo",
          "domingo",
          "domingo",
          "domingo",
          "domingo",
          "domingo",
          "domingo",
          "domingo",
          "domingo",
          "domingo",
          "domingo",
          "domingo",
          "domingo",
          "domingo",
          "domingo",
          "domingo",
          "domingo",
          "domingo",
          "domingo",
          "domingo",
          "domingo",
          "domingo",
          "domingo",
          "domingo",
          "domingo",
          "domingo",
          "domingo",
          "domingo",
          "domingo",
          "domingo",
          "domingo",
          "domingo",
          "domingo",
          "domingo",
          "domingo",
          "domingo",
          "domingo",
          "domingo",
          "domingo",
          "domingo",
          "domingo",
          "domingo",
          "domingo",
          "domingo",
          "domingo",
          "domingo",
          "domingo",
          "domingo",
          "domingo",
          "domingo",
          "domingo",
          "domingo",
          "domingo",
          "domingo",
          "domingo",
          "domingo",
          "domingo",
          "domingo",
          "domingo",
          "domingo",
          "domingo",
          "domingo",
          "domingo",
          "domingo",
          "domingo",
          "domingo",
          "domingo",
          "domingo",
          "domingo",
          "domingo",
          "domingo",
          "domingo",
          "domingo",
          "domingo",
          "domingo",
          "domingo",
          "domingo",
          "domingo",
          "domingo",
          "domingo",
          "domingo",
          "domingo",
          "domingo",
          "domingo",
          "domingo",
          "domingo",
          "domingo",
          "domingo",
          "domingo",
          "domingo",
          "domingo",
          "domingo",
          "domingo",
          "domingo",
          "domingo",
          "domingo",
          "domingo",
          "domingo",
          "domingo",
          "domingo",
          "domingo",
          "domingo",
          "domingo",
          "domingo",
          "domingo",
          "domingo",
          "domingo",
          "domingo",
          "domingo",
          "domingo",
          "domingo",
          "domingo",
          "domingo",
          "domingo",
          "domingo",
          "domingo",
          "domingo",
          "domingo",
          "domingo",
          "domingo",
          "domingo",
          "domingo",
          "domingo",
          "domingo",
          "domingo",
          "domingo",
          "domingo",
          "domingo",
          "domingo",
          "domingo",
          "domingo",
          "domingo",
          "domingo",
          "domingo",
          "domingo",
          "domingo",
          "domingo",
          "domingo",
          "domingo",
          "domingo",
          "domingo",
          "domingo",
          "domingo",
          "domingo",
          "domingo",
          "domingo",
          "domingo",
          "domingo",
          "domingo",
          "domingo",
          "quarta-feira",
          "quarta-feira",
          "quarta-feira",
          "quarta-feira",
          "quarta-feira",
          "quarta-feira",
          "quarta-feira",
          "quarta-feira",
          "quarta-feira",
          "quarta-feira",
          "quarta-feira",
          "quarta-feira",
          "quarta-feira",
          "quarta-feira",
          "quarta-feira",
          "quarta-feira",
          "quarta-feira",
          "quarta-feira",
          "quarta-feira",
          "quarta-feira",
          "quarta-feira",
          "quarta-feira",
          "quarta-feira",
          "quarta-feira",
          "quarta-feira",
          "quarta-feira",
          "quarta-feira",
          "quarta-feira",
          "quarta-feira",
          "quarta-feira",
          "quarta-feira",
          "quarta-feira",
          "quarta-feira",
          "quarta-feira",
          "quarta-feira",
          "quarta-feira",
          "quarta-feira",
          "quarta-feira",
          "quarta-feira",
          "quarta-feira",
          "quarta-feira",
          "quarta-feira",
          "quarta-feira",
          "quarta-feira",
          "quarta-feira",
          "quarta-feira",
          "quarta-feira",
          "quarta-feira",
          "quarta-feira",
          "quarta-feira",
          "quarta-feira",
          "quarta-feira",
          "quarta-feira",
          "quarta-feira",
          "quarta-feira",
          "quarta-feira",
          "quarta-feira",
          "quarta-feira",
          "quarta-feira",
          "quarta-feira",
          "quarta-feira",
          "quarta-feira",
          "quarta-feira",
          "quarta-feira",
          "quarta-feira",
          "quarta-feira",
          "quarta-feira",
          "quarta-feira",
          "quarta-feira",
          "quarta-feira",
          "quarta-feira",
          "quarta-feira",
          "quarta-feira",
          "quarta-feira",
          "quarta-feira",
          "quarta-feira",
          "quarta-feira",
          "quarta-feira",
          "quarta-feira",
          "quarta-feira",
          "quarta-feira",
          "quarta-feira",
          "quarta-feira",
          "quarta-feira",
          "quarta-feira",
          "quarta-feira",
          "quarta-feira",
          "quarta-feira",
          "quarta-feira",
          "quarta-feira",
          "quarta-feira",
          "quarta-feira",
          "quarta-feira",
          "quarta-feira",
          "quarta-feira",
          "quarta-feira",
          "quarta-feira",
          "quarta-feira",
          "quarta-feira",
          "quarta-feira",
          "quarta-feira",
          "quarta-feira",
          "quarta-feira",
          "quarta-feira",
          "quarta-feira",
          "quarta-feira",
          "quarta-feira",
          "quarta-feira",
          "quarta-feira",
          "quarta-feira",
          "quarta-feira",
          "quarta-feira",
          "quarta-feira",
          "quarta-feira",
          "quarta-feira",
          "quarta-feira",
          "quarta-feira",
          "quarta-feira",
          "quarta-feira",
          "quarta-feira",
          "quarta-feira",
          "quarta-feira",
          "quarta-feira",
          "quarta-feira",
          "quarta-feira",
          "quarta-feira",
          "quarta-feira",
          "quarta-feira",
          "quarta-feira",
          "quarta-feira",
          "quarta-feira",
          "quarta-feira",
          "quarta-feira",
          "quarta-feira",
          "quarta-feira",
          "quarta-feira",
          "quarta-feira",
          "quarta-feira",
          "quarta-feira",
          "quarta-feira",
          "quarta-feira",
          "quarta-feira",
          "quarta-feira",
          "quarta-feira",
          "quarta-feira",
          "quarta-feira",
          "quarta-feira",
          "quarta-feira",
          "quarta-feira",
          "quarta-feira",
          "quarta-feira",
          "quarta-feira",
          "quarta-feira",
          "quarta-feira",
          "quarta-feira",
          "quarta-feira",
          "quarta-feira",
          "quarta-feira",
          "quarta-feira",
          "quarta-feira",
          "quarta-feira",
          "quarta-feira",
          "quarta-feira",
          "quarta-feira",
          "quarta-feira",
          "quarta-feira",
          "quarta-feira",
          "quarta-feira",
          "quarta-feira",
          "quarta-feira",
          "quarta-feira",
          "quarta-feira",
          "quarta-feira",
          "quarta-feira",
          "quarta-feira",
          "quarta-feira",
          "quarta-feira",
          "quarta-feira",
          "quarta-feira",
          "quarta-feira",
          "quarta-feira",
          "quarta-feira",
          "quarta-feira",
          "quarta-feira",
          "quarta-feira",
          "quarta-feira",
          "quarta-feira",
          "quarta-feira",
          "quarta-feira",
          "quarta-feira",
          "quarta-feira",
          "quarta-feira",
          "quarta-feira",
          "quarta-feira",
          "quarta-feira",
          "quarta-feira",
          "quarta-feira",
          "quarta-feira",
          "quarta-feira",
          "quarta-feira",
          "quarta-feira",
          "quarta-feira",
          "quarta-feira",
          "quarta-feira",
          "quarta-feira",
          "quarta-feira",
          "quarta-feira",
          "quarta-feira",
          "quarta-feira",
          "quarta-feira",
          "quarta-feira",
          "quarta-feira",
          "quarta-feira",
          "quarta-feira",
          "quarta-feira",
          "quarta-feira",
          "quarta-feira",
          "quarta-feira",
          "quarta-feira",
          "quarta-feira",
          "quarta-feira",
          "quarta-feira",
          "quarta-feira",
          "quarta-feira",
          "quarta-feira",
          "quarta-feira",
          "quarta-feira",
          "quarta-feira",
          "quarta-feira",
          "quarta-feira",
          "quarta-feira",
          "quarta-feira",
          "quarta-feira",
          "quarta-feira",
          "quarta-feira",
          "quarta-feira",
          "quarta-feira",
          "quarta-feira",
          "quarta-feira",
          "quarta-feira",
          "quarta-feira",
          "quarta-feira",
          "quarta-feira",
          "quarta-feira",
          "quarta-feira",
          "quarta-feira",
          "quarta-feira",
          "quarta-feira",
          "quarta-feira",
          "quarta-feira",
          "quarta-feira",
          "quarta-feira",
          "quarta-feira",
          "quarta-feira",
          "quarta-feira",
          "quarta-feira",
          "quarta-feira",
          "quarta-feira",
          "quarta-feira",
          "quarta-feira",
          "quarta-feira",
          "quarta-feira",
          "quarta-feira",
          "quarta-feira",
          "quarta-feira",
          "quarta-feira",
          "quarta-feira",
          "quarta-feira",
          "quarta-feira",
          "quarta-feira",
          "quarta-feira",
          "quarta-feira",
          "quarta-feira",
          "quarta-feira",
          "quarta-feira",
          "quarta-feira",
          "quarta-feira",
          "quarta-feira",
          "quarta-feira",
          "quarta-feira",
          "quarta-feira",
          "quarta-feira",
          "quarta-feira",
          "quarta-feira",
          "quarta-feira",
          "quarta-feira",
          "quarta-feira",
          "quarta-feira",
          "quarta-feira",
          "quarta-feira",
          "quarta-feira",
          "quarta-feira",
          "quarta-feira",
          "quarta-feira",
          "quarta-feira",
          "quarta-feira",
          "quarta-feira",
          "quarta-feira",
          "quarta-feira",
          "quarta-feira",
          "quarta-feira",
          "quarta-feira",
          "quarta-feira",
          "quarta-feira",
          "quarta-feira",
          "quarta-feira",
          "quarta-feira",
          "quarta-feira",
          "quarta-feira",
          "quarta-feira",
          "quarta-feira",
          "quarta-feira",
          "quarta-feira",
          "quarta-feira",
          "quarta-feira",
          "quarta-feira",
          "quarta-feira",
          "quarta-feira",
          "quarta-feira",
          "quarta-feira",
          "quarta-feira",
          "quarta-feira",
          "quarta-feira",
          "quarta-feira",
          "quarta-feira",
          "quarta-feira",
          "quarta-feira",
          "quarta-feira",
          "quarta-feira",
          "quarta-feira",
          "quarta-feira",
          "quarta-feira",
          "quarta-feira",
          "quarta-feira",
          "quarta-feira",
          "quarta-feira",
          "quarta-feira",
          "quarta-feira",
          "quarta-feira",
          "quarta-feira",
          "quarta-feira",
          "quarta-feira",
          "quarta-feira",
          "quarta-feira",
          "quarta-feira",
          "quarta-feira",
          "quarta-feira",
          "quarta-feira",
          "quarta-feira",
          "quarta-feira",
          "quarta-feira",
          "quarta-feira",
          "quarta-feira",
          "quarta-feira",
          "quarta-feira",
          "quarta-feira",
          "quarta-feira",
          "quarta-feira",
          "quarta-feira",
          "quarta-feira",
          "quarta-feira",
          "quarta-feira",
          "quarta-feira",
          "quarta-feira",
          "quarta-feira",
          "quarta-feira",
          "quarta-feira",
          "quarta-feira",
          "quarta-feira",
          "quarta-feira",
          "quarta-feira",
          "quarta-feira",
          "quarta-feira",
          "quarta-feira",
          "quarta-feira",
          "quarta-feira",
          "quarta-feira",
          "quarta-feira",
          "quarta-feira",
          "quarta-feira",
          "quarta-feira",
          "quarta-feira",
          "quarta-feira",
          "quarta-feira",
          "quarta-feira",
          "quarta-feira",
          "quarta-feira",
          "quarta-feira",
          "quarta-feira",
          "quarta-feira",
          "quarta-feira",
          "quarta-feira",
          "quarta-feira",
          "quarta-feira",
          "quarta-feira",
          "quarta-feira",
          "quarta-feira",
          "quarta-feira",
          "quarta-feira",
          "quarta-feira",
          "quarta-feira",
          "quarta-feira",
          "quarta-feira",
          "quarta-feira",
          "quarta-feira",
          "quarta-feira",
          "quarta-feira",
          "quarta-feira",
          "quarta-feira",
          "quarta-feira",
          "quarta-feira",
          "quarta-feira",
          "quarta-feira",
          "quarta-feira",
          "quarta-feira",
          "quarta-feira",
          "quarta-feira",
          "quarta-feira",
          "quarta-feira",
          "quarta-feira",
          "quarta-feira",
          "quarta-feira",
          "quarta-feira",
          "quarta-feira",
          "quarta-feira",
          "quarta-feira",
          "quarta-feira",
          "quarta-feira",
          "quarta-feira",
          "quarta-feira",
          "quarta-feira",
          "quarta-feira",
          "quarta-feira",
          "quarta-feira",
          "quarta-feira",
          "quarta-feira",
          "quarta-feira",
          "quarta-feira",
          "quarta-feira",
          "quarta-feira",
          "quarta-feira",
          "quarta-feira",
          "quarta-feira",
          "quarta-feira",
          "quarta-feira",
          "quarta-feira",
          "quarta-feira",
          "quarta-feira",
          "quarta-feira",
          "quarta-feira",
          "quarta-feira",
          "quarta-feira",
          "quarta-feira",
          "quarta-feira",
          "quarta-feira",
          "quarta-feira",
          "quarta-feira",
          "quarta-feira",
          "quarta-feira",
          "quarta-feira",
          "quarta-feira",
          "quarta-feira",
          "quarta-feira",
          "quarta-feira",
          "quarta-feira",
          "quarta-feira",
          "quarta-feira",
          "quarta-feira",
          "quarta-feira",
          "quarta-feira",
          "quarta-feira",
          "quarta-feira",
          "quarta-feira",
          "quarta-feira",
          "quarta-feira",
          "quarta-feira",
          "quarta-feira",
          "quarta-feira",
          "quarta-feira",
          "quarta-feira",
          "quarta-feira",
          "quarta-feira",
          "quarta-feira",
          "quarta-feira",
          "quarta-feira",
          "quarta-feira",
          "quarta-feira",
          "quarta-feira",
          "quarta-feira",
          "quarta-feira",
          "quarta-feira",
          "quarta-feira",
          "quarta-feira",
          "quarta-feira",
          "quarta-feira",
          "quarta-feira",
          "quarta-feira",
          "quarta-feira",
          "quarta-feira",
          "quarta-feira",
          "quarta-feira",
          "quarta-feira",
          "quarta-feira",
          "quarta-feira",
          "quarta-feira",
          "quarta-feira",
          "quarta-feira",
          "quarta-feira",
          "quarta-feira",
          "quarta-feira",
          "quarta-feira",
          "quarta-feira",
          "quarta-feira",
          "quinta-feira",
          "quinta-feira",
          "quinta-feira",
          "quinta-feira",
          "quinta-feira",
          "quinta-feira",
          "quinta-feira",
          "quinta-feira",
          "quinta-feira",
          "quinta-feira",
          "quinta-feira",
          "quinta-feira",
          "quinta-feira",
          "quinta-feira",
          "quinta-feira",
          "quinta-feira",
          "quinta-feira",
          "quinta-feira",
          "quinta-feira",
          "quinta-feira",
          "quinta-feira",
          "quinta-feira",
          "quinta-feira",
          "quinta-feira",
          "quinta-feira",
          "quinta-feira",
          "quinta-feira",
          "quinta-feira",
          "quinta-feira",
          "quinta-feira",
          "quinta-feira",
          "quinta-feira",
          "quinta-feira",
          "quinta-feira",
          "quinta-feira",
          "quinta-feira",
          "quinta-feira",
          "quinta-feira",
          "quinta-feira",
          "quinta-feira",
          "quinta-feira",
          "quinta-feira",
          "quinta-feira",
          "quinta-feira",
          "quinta-feira",
          "quinta-feira",
          "quinta-feira",
          "quinta-feira",
          "quinta-feira",
          "quinta-feira",
          "quinta-feira",
          "quinta-feira",
          "quinta-feira",
          "quinta-feira",
          "quinta-feira",
          "quinta-feira",
          "quinta-feira",
          "quinta-feira",
          "quinta-feira",
          "quinta-feira",
          "quinta-feira",
          "quinta-feira",
          "quinta-feira",
          "quinta-feira",
          "quinta-feira",
          "quinta-feira",
          "quinta-feira",
          "quinta-feira",
          "quinta-feira",
          "quinta-feira",
          "quinta-feira",
          "quinta-feira",
          "quinta-feira",
          "quinta-feira",
          "quinta-feira",
          "quinta-feira",
          "quinta-feira",
          "quinta-feira",
          "quinta-feira",
          "quinta-feira",
          "quinta-feira",
          "quinta-feira",
          "quinta-feira",
          "quinta-feira",
          "quinta-feira",
          "quinta-feira",
          "quinta-feira",
          "quinta-feira",
          "quinta-feira",
          "quinta-feira",
          "quinta-feira",
          "quinta-feira",
          "quinta-feira",
          "quinta-feira",
          "quinta-feira",
          "quinta-feira",
          "quinta-feira",
          "quinta-feira",
          "quinta-feira",
          "quinta-feira",
          "quinta-feira",
          "quinta-feira",
          "quinta-feira",
          "quinta-feira",
          "quinta-feira",
          "quinta-feira",
          "quinta-feira",
          "quinta-feira",
          "quinta-feira",
          "quinta-feira",
          "quinta-feira",
          "quinta-feira",
          "quinta-feira",
          "quinta-feira",
          "quinta-feira",
          "quinta-feira",
          "quinta-feira",
          "quinta-feira",
          "quinta-feira",
          "quinta-feira",
          "quinta-feira",
          "quinta-feira",
          "quinta-feira",
          "quinta-feira",
          "quinta-feira",
          "quinta-feira",
          "quinta-feira",
          "quinta-feira",
          "quinta-feira",
          "quinta-feira",
          "quinta-feira",
          "quinta-feira",
          "quinta-feira",
          "quinta-feira",
          "quinta-feira",
          "quinta-feira",
          "quinta-feira",
          "quinta-feira",
          "quinta-feira",
          "quinta-feira",
          "quinta-feira",
          "quinta-feira",
          "quinta-feira",
          "quinta-feira",
          "quinta-feira",
          "quinta-feira",
          "quinta-feira",
          "quinta-feira",
          "quinta-feira",
          "quinta-feira",
          "quinta-feira",
          "quinta-feira",
          "quinta-feira",
          "quinta-feira",
          "quinta-feira",
          "quinta-feira",
          "quinta-feira",
          "quinta-feira",
          "quinta-feira",
          "quinta-feira",
          "quinta-feira",
          "quinta-feira",
          "quinta-feira",
          "quinta-feira",
          "quinta-feira",
          "quinta-feira",
          "quinta-feira",
          "quinta-feira",
          "quinta-feira",
          "quinta-feira",
          "quinta-feira",
          "quinta-feira",
          "quinta-feira",
          "quinta-feira",
          "quinta-feira",
          "quinta-feira",
          "quinta-feira",
          "quinta-feira",
          "quinta-feira",
          "quinta-feira",
          "quinta-feira",
          "quinta-feira",
          "quinta-feira",
          "quinta-feira",
          "quinta-feira",
          "quinta-feira",
          "quinta-feira",
          "quinta-feira",
          "quinta-feira",
          "quinta-feira",
          "quinta-feira",
          "quinta-feira",
          "quinta-feira",
          "quinta-feira",
          "quinta-feira",
          "quinta-feira",
          "quinta-feira",
          "quinta-feira",
          "quinta-feira",
          "quinta-feira",
          "quinta-feira",
          "quinta-feira",
          "quinta-feira",
          "quinta-feira",
          "quinta-feira",
          "quinta-feira",
          "quinta-feira",
          "quinta-feira",
          "quinta-feira",
          "quinta-feira",
          "quinta-feira",
          "quinta-feira",
          "quinta-feira",
          "quinta-feira",
          "quinta-feira",
          "quinta-feira",
          "quinta-feira",
          "quinta-feira",
          "quinta-feira",
          "quinta-feira",
          "quinta-feira",
          "quinta-feira",
          "quinta-feira",
          "quinta-feira",
          "quinta-feira",
          "quinta-feira",
          "quinta-feira",
          "quinta-feira",
          "quinta-feira",
          "quinta-feira",
          "quinta-feira",
          "quinta-feira",
          "quinta-feira",
          "quinta-feira",
          "quinta-feira",
          "quinta-feira",
          "quinta-feira",
          "quinta-feira",
          "quinta-feira",
          "quinta-feira",
          "quinta-feira",
          "quinta-feira",
          "quinta-feira",
          "quinta-feira",
          "quinta-feira",
          "quinta-feira",
          "quinta-feira",
          "quinta-feira",
          "quinta-feira",
          "quinta-feira",
          "quinta-feira",
          "quinta-feira",
          "quinta-feira",
          "quinta-feira",
          "quinta-feira",
          "quinta-feira",
          "quinta-feira",
          "quinta-feira",
          "quinta-feira",
          "quinta-feira",
          "quinta-feira",
          "quinta-feira",
          "quinta-feira",
          "quinta-feira",
          "quinta-feira",
          "quinta-feira",
          "quinta-feira",
          "quinta-feira",
          "quinta-feira",
          "quinta-feira",
          "quinta-feira",
          "quinta-feira",
          "quinta-feira",
          "quinta-feira",
          "quinta-feira",
          "quinta-feira",
          "quinta-feira",
          "quinta-feira",
          "quinta-feira",
          "quinta-feira",
          "quinta-feira",
          "quinta-feira",
          "quinta-feira",
          "quinta-feira",
          "quinta-feira",
          "quinta-feira",
          "quinta-feira",
          "quinta-feira",
          "quinta-feira",
          "quinta-feira",
          "quinta-feira",
          "quinta-feira",
          "quinta-feira",
          "quinta-feira",
          "quinta-feira",
          "quinta-feira",
          "quinta-feira",
          "quinta-feira",
          "quinta-feira",
          "quinta-feira",
          "quinta-feira",
          "quinta-feira",
          "quinta-feira",
          "quinta-feira",
          "quinta-feira",
          "quinta-feira",
          "quinta-feira",
          "quinta-feira",
          "quinta-feira",
          "quinta-feira",
          "quinta-feira",
          "quinta-feira",
          "quinta-feira",
          "quinta-feira",
          "quinta-feira",
          "quinta-feira",
          "quinta-feira",
          "quinta-feira",
          "quinta-feira",
          "quinta-feira",
          "quinta-feira",
          "quinta-feira",
          "quinta-feira",
          "quinta-feira",
          "quinta-feira",
          "quinta-feira",
          "quinta-feira",
          "quinta-feira",
          "quinta-feira",
          "quinta-feira",
          "quinta-feira",
          "quinta-feira",
          "quinta-feira",
          "quinta-feira",
          "quinta-feira",
          "quinta-feira",
          "quinta-feira",
          "quinta-feira",
          "quinta-feira",
          "quinta-feira",
          "quinta-feira",
          "quinta-feira",
          "quinta-feira",
          "quinta-feira",
          "quinta-feira",
          "quinta-feira",
          "quinta-feira",
          "quinta-feira",
          "quinta-feira",
          "quinta-feira",
          "quinta-feira",
          "quinta-feira",
          "quinta-feira",
          "quinta-feira",
          "quinta-feira",
          "quinta-feira",
          "quinta-feira",
          "quinta-feira",
          "quinta-feira",
          "quinta-feira",
          "quinta-feira",
          "quinta-feira",
          "quinta-feira",
          "quinta-feira",
          "quinta-feira",
          "quinta-feira",
          "quinta-feira",
          "quinta-feira",
          "quinta-feira",
          "quinta-feira",
          "quinta-feira",
          "quinta-feira",
          "quinta-feira",
          "quinta-feira",
          "quinta-feira",
          "quinta-feira",
          "quinta-feira",
          "quinta-feira",
          "quinta-feira",
          "quinta-feira",
          "quinta-feira",
          "quinta-feira",
          "quinta-feira",
          "quinta-feira",
          "quinta-feira",
          "quinta-feira",
          "quinta-feira",
          "quinta-feira",
          "quinta-feira",
          "quinta-feira",
          "quinta-feira",
          "quinta-feira",
          "quinta-feira",
          "quinta-feira",
          "quinta-feira",
          "quinta-feira",
          "quinta-feira",
          "quinta-feira",
          "quinta-feira",
          "quinta-feira",
          "quinta-feira",
          "quinta-feira",
          "quinta-feira",
          "quinta-feira",
          "quinta-feira",
          "quinta-feira",
          "quinta-feira",
          "quinta-feira",
          "quinta-feira",
          "quinta-feira",
          "quinta-feira",
          "quinta-feira",
          "quinta-feira",
          "quinta-feira",
          "quinta-feira",
          "quinta-feira",
          "quinta-feira",
          "quinta-feira",
          "quinta-feira",
          "quinta-feira",
          "quinta-feira",
          "quinta-feira",
          "quinta-feira",
          "quinta-feira",
          "quinta-feira",
          "quinta-feira",
          "quinta-feira",
          "quinta-feira",
          "quinta-feira",
          "quinta-feira",
          "quinta-feira",
          "quinta-feira",
          "quinta-feira",
          "quinta-feira",
          "quinta-feira",
          "quinta-feira",
          "quinta-feira",
          "quinta-feira",
          "quinta-feira",
          "quinta-feira",
          "quinta-feira",
          "quinta-feira",
          "quinta-feira",
          "quinta-feira",
          "quinta-feira",
          "quinta-feira",
          "quinta-feira",
          "quinta-feira",
          "quinta-feira",
          "quinta-feira",
          "quinta-feira",
          "quinta-feira",
          "quinta-feira",
          "quinta-feira",
          "quinta-feira",
          "quinta-feira",
          "quinta-feira",
          "quinta-feira",
          "quinta-feira",
          "quinta-feira",
          "quinta-feira",
          "quinta-feira",
          "quinta-feira",
          "quinta-feira",
          "quinta-feira",
          "quinta-feira",
          "quinta-feira",
          "quinta-feira",
          "quinta-feira",
          "quinta-feira",
          "quinta-feira",
          "quinta-feira",
          "quinta-feira",
          "quinta-feira",
          "quinta-feira",
          "quinta-feira",
          "quinta-feira",
          "quinta-feira",
          "quinta-feira",
          "quinta-feira",
          "quinta-feira",
          "quinta-feira",
          "quinta-feira",
          "quinta-feira",
          "quinta-feira",
          "quinta-feira",
          "quinta-feira",
          "quinta-feira",
          "quinta-feira",
          "quinta-feira",
          "quinta-feira",
          "quinta-feira",
          "quinta-feira",
          "quinta-feira",
          "quinta-feira",
          "quinta-feira",
          "quinta-feira",
          "quinta-feira",
          "quinta-feira",
          "quinta-feira",
          "quinta-feira",
          "quinta-feira",
          "quinta-feira",
          "quinta-feira",
          "quinta-feira",
          "quinta-feira",
          "quinta-feira",
          "quinta-feira",
          "quinta-feira",
          "quinta-feira",
          "quinta-feira",
          "quinta-feira",
          "quinta-feira",
          "quinta-feira",
          "quinta-feira",
          "quinta-feira",
          "quinta-feira",
          "quinta-feira",
          "quinta-feira",
          "quinta-feira",
          "quinta-feira",
          "quinta-feira",
          "quinta-feira",
          "quinta-feira",
          "quinta-feira",
          "quinta-feira",
          "quinta-feira",
          "quinta-feira",
          "quinta-feira",
          "quinta-feira",
          "quinta-feira",
          "quinta-feira",
          "quinta-feira",
          "quinta-feira",
          "quinta-feira",
          "quinta-feira",
          "quinta-feira",
          "quinta-feira",
          "quinta-feira",
          "quinta-feira",
          "quinta-feira",
          "quinta-feira",
          "quinta-feira",
          "quinta-feira",
          "quinta-feira",
          "quinta-feira",
          "quinta-feira",
          "quinta-feira",
          "quinta-feira",
          "quinta-feira",
          "quinta-feira",
          "quinta-feira",
          "quinta-feira",
          "quinta-feira",
          "quinta-feira",
          "quinta-feira",
          "quinta-feira",
          "quinta-feira",
          "quinta-feira",
          "quinta-feira",
          "quinta-feira",
          "quinta-feira",
          "quinta-feira",
          "quinta-feira",
          "quinta-feira",
          "quinta-feira",
          "quinta-feira",
          "quinta-feira",
          "quinta-feira",
          "quinta-feira",
          "quinta-feira",
          "quinta-feira",
          "quinta-feira",
          "quinta-feira",
          "quinta-feira",
          "quinta-feira",
          "quinta-feira",
          "quinta-feira",
          "quinta-feira",
          "quinta-feira",
          "quinta-feira",
          "quinta-feira",
          "quinta-feira",
          "quinta-feira",
          "quinta-feira",
          "segunda-feira",
          "segunda-feira",
          "segunda-feira",
          "segunda-feira",
          "segunda-feira",
          "segunda-feira",
          "segunda-feira",
          "segunda-feira",
          "segunda-feira",
          "segunda-feira",
          "segunda-feira",
          "segunda-feira",
          "segunda-feira",
          "segunda-feira",
          "segunda-feira",
          "segunda-feira",
          "segunda-feira",
          "segunda-feira",
          "segunda-feira",
          "segunda-feira",
          "segunda-feira",
          "segunda-feira",
          "segunda-feira",
          "segunda-feira",
          "segunda-feira",
          "segunda-feira",
          "segunda-feira",
          "segunda-feira",
          "segunda-feira",
          "segunda-feira",
          "segunda-feira",
          "segunda-feira",
          "segunda-feira",
          "segunda-feira",
          "segunda-feira",
          "segunda-feira",
          "segunda-feira",
          "segunda-feira",
          "segunda-feira",
          "segunda-feira",
          "segunda-feira",
          "segunda-feira",
          "segunda-feira",
          "segunda-feira",
          "segunda-feira",
          "segunda-feira",
          "segunda-feira",
          "segunda-feira",
          "segunda-feira",
          "segunda-feira",
          "segunda-feira",
          "segunda-feira",
          "segunda-feira",
          "segunda-feira",
          "segunda-feira",
          "segunda-feira",
          "segunda-feira",
          "segunda-feira",
          "segunda-feira",
          "segunda-feira",
          "segunda-feira",
          "segunda-feira",
          "segunda-feira",
          "segunda-feira",
          "segunda-feira",
          "segunda-feira",
          "segunda-feira",
          "segunda-feira",
          "segunda-feira",
          "segunda-feira",
          "segunda-feira",
          "segunda-feira",
          "segunda-feira",
          "segunda-feira",
          "segunda-feira",
          "segunda-feira",
          "segunda-feira",
          "segunda-feira",
          "segunda-feira",
          "segunda-feira",
          "segunda-feira",
          "segunda-feira",
          "segunda-feira",
          "segunda-feira",
          "segunda-feira",
          "segunda-feira",
          "segunda-feira",
          "segunda-feira",
          "segunda-feira",
          "segunda-feira",
          "segunda-feira",
          "segunda-feira",
          "segunda-feira",
          "segunda-feira",
          "segunda-feira",
          "segunda-feira",
          "segunda-feira",
          "segunda-feira",
          "segunda-feira",
          "segunda-feira",
          "segunda-feira",
          "segunda-feira",
          "segunda-feira",
          "segunda-feira",
          "segunda-feira",
          "segunda-feira",
          "segunda-feira",
          "segunda-feira",
          "segunda-feira",
          "segunda-feira",
          "segunda-feira",
          "segunda-feira",
          "segunda-feira",
          "segunda-feira",
          "segunda-feira",
          "segunda-feira",
          "segunda-feira",
          "segunda-feira",
          "segunda-feira",
          "segunda-feira",
          "segunda-feira",
          "segunda-feira",
          "segunda-feira",
          "segunda-feira",
          "segunda-feira",
          "segunda-feira",
          "segunda-feira",
          "segunda-feira",
          "segunda-feira",
          "segunda-feira",
          "segunda-feira",
          "segunda-feira",
          "segunda-feira",
          "segunda-feira",
          "segunda-feira",
          "segunda-feira",
          "segunda-feira",
          "segunda-feira",
          "segunda-feira",
          "segunda-feira",
          "segunda-feira",
          "segunda-feira",
          "segunda-feira",
          "segunda-feira",
          "segunda-feira",
          "segunda-feira",
          "segunda-feira",
          "segunda-feira",
          "segunda-feira",
          "segunda-feira",
          "segunda-feira",
          "segunda-feira",
          "segunda-feira",
          "segunda-feira",
          "segunda-feira",
          "segunda-feira",
          "segunda-feira",
          "segunda-feira",
          "segunda-feira",
          "segunda-feira",
          "segunda-feira",
          "segunda-feira",
          "segunda-feira",
          "segunda-feira",
          "segunda-feira",
          "segunda-feira",
          "segunda-feira",
          "segunda-feira",
          "segunda-feira",
          "segunda-feira",
          "segunda-feira",
          "segunda-feira",
          "segunda-feira",
          "segunda-feira",
          "segunda-feira",
          "segunda-feira",
          "segunda-feira",
          "segunda-feira",
          "segunda-feira",
          "segunda-feira",
          "segunda-feira",
          "segunda-feira",
          "segunda-feira",
          "segunda-feira",
          "segunda-feira",
          "segunda-feira",
          "segunda-feira",
          "segunda-feira",
          "segunda-feira",
          "segunda-feira",
          "segunda-feira",
          "segunda-feira",
          "segunda-feira",
          "segunda-feira",
          "segunda-feira",
          "segunda-feira",
          "segunda-feira",
          "segunda-feira",
          "segunda-feira",
          "segunda-feira",
          "segunda-feira",
          "segunda-feira",
          "segunda-feira",
          "segunda-feira",
          "segunda-feira",
          "segunda-feira",
          "segunda-feira",
          "segunda-feira",
          "segunda-feira",
          "segunda-feira",
          "segunda-feira",
          "segunda-feira",
          "segunda-feira",
          "segunda-feira",
          "segunda-feira",
          "segunda-feira",
          "segunda-feira",
          "segunda-feira",
          "segunda-feira",
          "segunda-feira",
          "segunda-feira",
          "segunda-feira",
          "segunda-feira",
          "segunda-feira",
          "segunda-feira",
          "segunda-feira",
          "segunda-feira",
          "segunda-feira",
          "segunda-feira",
          "segunda-feira",
          "segunda-feira",
          "segunda-feira",
          "segunda-feira",
          "segunda-feira",
          "segunda-feira",
          "segunda-feira",
          "segunda-feira",
          "segunda-feira",
          "segunda-feira",
          "segunda-feira",
          "segunda-feira",
          "segunda-feira",
          "segunda-feira",
          "segunda-feira",
          "segunda-feira",
          "segunda-feira",
          "segunda-feira",
          "segunda-feira",
          "segunda-feira",
          "segunda-feira",
          "segunda-feira",
          "segunda-feira",
          "segunda-feira",
          "segunda-feira",
          "segunda-feira",
          "segunda-feira",
          "segunda-feira",
          "segunda-feira",
          "segunda-feira",
          "segunda-feira",
          "segunda-feira",
          "segunda-feira",
          "segunda-feira",
          "segunda-feira",
          "segunda-feira",
          "segunda-feira",
          "segunda-feira",
          "segunda-feira",
          "segunda-feira",
          "segunda-feira",
          "segunda-feira",
          "segunda-feira",
          "segunda-feira",
          "segunda-feira",
          "segunda-feira",
          "segunda-feira",
          "segunda-feira",
          "segunda-feira",
          "segunda-feira",
          "segunda-feira",
          "segunda-feira",
          "segunda-feira",
          "segunda-feira",
          "segunda-feira",
          "segunda-feira",
          "segunda-feira",
          "segunda-feira",
          "segunda-feira",
          "segunda-feira",
          "segunda-feira",
          "segunda-feira",
          "segunda-feira",
          "segunda-feira",
          "segunda-feira",
          "segunda-feira",
          "segunda-feira",
          "segunda-feira",
          "segunda-feira",
          "segunda-feira",
          "segunda-feira",
          "segunda-feira",
          "segunda-feira",
          "segunda-feira",
          "segunda-feira",
          "segunda-feira",
          "segunda-feira",
          "segunda-feira",
          "segunda-feira",
          "segunda-feira",
          "segunda-feira",
          "segunda-feira",
          "segunda-feira",
          "segunda-feira",
          "segunda-feira",
          "segunda-feira",
          "segunda-feira",
          "segunda-feira",
          "segunda-feira",
          "segunda-feira",
          "segunda-feira",
          "segunda-feira",
          "segunda-feira",
          "segunda-feira",
          "segunda-feira",
          "segunda-feira",
          "segunda-feira",
          "segunda-feira",
          "segunda-feira",
          "segunda-feira",
          "segunda-feira",
          "segunda-feira",
          "segunda-feira",
          "segunda-feira",
          "segunda-feira",
          "segunda-feira",
          "segunda-feira",
          "segunda-feira",
          "segunda-feira",
          "segunda-feira",
          "segunda-feira",
          "segunda-feira",
          "segunda-feira",
          "segunda-feira",
          "segunda-feira",
          "segunda-feira",
          "segunda-feira",
          "segunda-feira",
          "segunda-feira",
          "segunda-feira",
          "segunda-feira",
          "segunda-feira",
          "segunda-feira",
          "segunda-feira",
          "segunda-feira",
          "segunda-feira",
          "segunda-feira",
          "segunda-feira",
          "segunda-feira",
          "segunda-feira",
          "segunda-feira",
          "segunda-feira",
          "segunda-feira",
          "segunda-feira",
          "segunda-feira",
          "segunda-feira",
          "segunda-feira",
          "segunda-feira",
          "segunda-feira",
          "segunda-feira",
          "segunda-feira",
          "segunda-feira",
          "segunda-feira",
          "segunda-feira",
          "segunda-feira",
          "segunda-feira",
          "segunda-feira",
          "segunda-feira",
          "segunda-feira",
          "segunda-feira",
          "segunda-feira",
          "segunda-feira",
          "segunda-feira",
          "segunda-feira",
          "segunda-feira",
          "segunda-feira",
          "segunda-feira",
          "segunda-feira",
          "segunda-feira",
          "segunda-feira",
          "segunda-feira",
          "segunda-feira",
          "segunda-feira",
          "segunda-feira",
          "segunda-feira",
          "segunda-feira",
          "segunda-feira",
          "segunda-feira",
          "segunda-feira",
          "segunda-feira",
          "segunda-feira",
          "segunda-feira",
          "segunda-feira",
          "segunda-feira",
          "segunda-feira",
          "segunda-feira",
          "segunda-feira",
          "segunda-feira",
          "segunda-feira",
          "segunda-feira",
          "segunda-feira",
          "segunda-feira",
          "segunda-feira",
          "segunda-feira",
          "segunda-feira",
          "segunda-feira",
          "segunda-feira",
          "segunda-feira",
          "segunda-feira",
          "segunda-feira",
          "segunda-feira",
          "segunda-feira",
          "segunda-feira",
          "segunda-feira",
          "segunda-feira",
          "segunda-feira",
          "segunda-feira",
          "segunda-feira",
          "segunda-feira",
          "segunda-feira",
          "segunda-feira",
          "segunda-feira",
          "segunda-feira",
          "segunda-feira",
          "segunda-feira",
          "segunda-feira",
          "segunda-feira",
          "segunda-feira",
          "segunda-feira",
          "segunda-feira",
          "segunda-feira",
          "segunda-feira",
          "segunda-feira",
          "segunda-feira",
          "segunda-feira",
          "segunda-feira",
          "segunda-feira",
          "segunda-feira",
          "segunda-feira",
          "segunda-feira",
          "segunda-feira",
          "segunda-feira",
          "segunda-feira",
          "segunda-feira",
          "segunda-feira",
          "segunda-feira",
          "segunda-feira",
          "segunda-feira",
          "segunda-feira",
          "segunda-feira",
          "segunda-feira",
          "segunda-feira",
          "segunda-feira",
          "segunda-feira",
          "segunda-feira",
          "segunda-feira",
          "segunda-feira",
          "segunda-feira",
          "segunda-feira",
          "segunda-feira",
          "segunda-feira",
          "segunda-feira",
          "segunda-feira",
          "segunda-feira",
          "segunda-feira",
          "segunda-feira",
          "segunda-feira",
          "segunda-feira",
          "segunda-feira",
          "segunda-feira",
          "segunda-feira",
          "segunda-feira",
          "segunda-feira",
          "segunda-feira",
          "segunda-feira",
          "segunda-feira",
          "segunda-feira",
          "segunda-feira",
          "segunda-feira",
          "segunda-feira",
          "segunda-feira",
          "segunda-feira",
          "segunda-feira",
          "segunda-feira",
          "segunda-feira",
          "segunda-feira",
          "segunda-feira",
          "segunda-feira",
          "segunda-feira",
          "segunda-feira",
          "segunda-feira",
          "segunda-feira",
          "segunda-feira",
          "segunda-feira",
          "segunda-feira",
          "segunda-feira",
          "segunda-feira",
          "segunda-feira",
          "segunda-feira",
          "segunda-feira",
          "segunda-feira",
          "segunda-feira",
          "segunda-feira",
          "segunda-feira",
          "segunda-feira",
          "segunda-feira",
          "segunda-feira",
          "segunda-feira",
          "segunda-feira",
          "segunda-feira",
          "segunda-feira",
          "segunda-feira",
          "segunda-feira",
          "segunda-feira",
          "segunda-feira",
          "segunda-feira",
          "segunda-feira",
          "segunda-feira",
          "segunda-feira",
          "segunda-feira",
          "segunda-feira",
          "segunda-feira",
          "segunda-feira",
          "segunda-feira",
          "segunda-feira",
          "segunda-feira",
          "segunda-feira",
          "segunda-feira",
          "segunda-feira",
          "segunda-feira",
          "segunda-feira",
          "segunda-feira",
          "segunda-feira",
          "segunda-feira",
          "segunda-feira",
          "segunda-feira",
          "segunda-feira",
          "segunda-feira",
          "segunda-feira",
          "segunda-feira",
          "segunda-feira",
          "segunda-feira",
          "segunda-feira",
          "segunda-feira",
          "segunda-feira",
          "segunda-feira",
          "segunda-feira",
          "segunda-feira",
          "segunda-feira",
          "segunda-feira",
          "segunda-feira",
          "segunda-feira",
          "segunda-feira",
          "segunda-feira",
          "segunda-feira",
          "segunda-feira",
          "segunda-feira",
          "segunda-feira",
          "segunda-feira",
          "segunda-feira",
          "segunda-feira",
          "segunda-feira",
          "segunda-feira",
          "segunda-feira",
          "segunda-feira",
          "segunda-feira",
          "segunda-feira",
          "segunda-feira",
          "segunda-feira",
          "segunda-feira",
          "segunda-feira",
          "segunda-feira",
          "segunda-feira",
          "segunda-feira",
          "segunda-feira",
          "segunda-feira",
          "segunda-feira",
          "sexta-feira",
          "sexta-feira",
          "sexta-feira",
          "sexta-feira",
          "sexta-feira",
          "sexta-feira",
          "sexta-feira",
          "sexta-feira",
          "sexta-feira",
          "sexta-feira",
          "sexta-feira",
          "sexta-feira",
          "sexta-feira",
          "sexta-feira",
          "sexta-feira",
          "sexta-feira",
          "sexta-feira",
          "sexta-feira",
          "sexta-feira",
          "sexta-feira",
          "sexta-feira",
          "sexta-feira",
          "sexta-feira",
          "sexta-feira",
          "sexta-feira",
          "sexta-feira",
          "sexta-feira",
          "sexta-feira",
          "sexta-feira",
          "sexta-feira",
          "sexta-feira",
          "sexta-feira",
          "sexta-feira",
          "sexta-feira",
          "sexta-feira",
          "sexta-feira",
          "sexta-feira",
          "sexta-feira",
          "sexta-feira",
          "sexta-feira",
          "sexta-feira",
          "sexta-feira",
          "sexta-feira",
          "sexta-feira",
          "sexta-feira",
          "sexta-feira",
          "sexta-feira",
          "sexta-feira",
          "sexta-feira",
          "sexta-feira",
          "sexta-feira",
          "sexta-feira",
          "sexta-feira",
          "sexta-feira",
          "sexta-feira",
          "sexta-feira",
          "sexta-feira",
          "sexta-feira",
          "sexta-feira",
          "sexta-feira",
          "sexta-feira",
          "sexta-feira",
          "sexta-feira",
          "sexta-feira",
          "sexta-feira",
          "sexta-feira",
          "sexta-feira",
          "sexta-feira",
          "sexta-feira",
          "sexta-feira",
          "sexta-feira",
          "sexta-feira",
          "sexta-feira",
          "sexta-feira",
          "sexta-feira",
          "sexta-feira",
          "sexta-feira",
          "sexta-feira",
          "sexta-feira",
          "sexta-feira",
          "sexta-feira",
          "sexta-feira",
          "sexta-feira",
          "sexta-feira",
          "sexta-feira",
          "sexta-feira",
          "sexta-feira",
          "sexta-feira",
          "sexta-feira",
          "sexta-feira",
          "sexta-feira",
          "sexta-feira",
          "sexta-feira",
          "sexta-feira",
          "sexta-feira",
          "sexta-feira",
          "sexta-feira",
          "sexta-feira",
          "sexta-feira",
          "sexta-feira",
          "sexta-feira",
          "sexta-feira",
          "sexta-feira",
          "sexta-feira",
          "sexta-feira",
          "sexta-feira",
          "sexta-feira",
          "sexta-feira",
          "sexta-feira",
          "sexta-feira",
          "sexta-feira",
          "sexta-feira",
          "sexta-feira",
          "sexta-feira",
          "sexta-feira",
          "sexta-feira",
          "sexta-feira",
          "sexta-feira",
          "sexta-feira",
          "sexta-feira",
          "sexta-feira",
          "sexta-feira",
          "sexta-feira",
          "sexta-feira",
          "sexta-feira",
          "sexta-feira",
          "sexta-feira",
          "sexta-feira",
          "sexta-feira",
          "sexta-feira",
          "sexta-feira",
          "sexta-feira",
          "sexta-feira",
          "sexta-feira",
          "sexta-feira",
          "sexta-feira",
          "sexta-feira",
          "sexta-feira",
          "sexta-feira",
          "sexta-feira",
          "sexta-feira",
          "sexta-feira",
          "sexta-feira",
          "sexta-feira",
          "sexta-feira",
          "sexta-feira",
          "sexta-feira",
          "sexta-feira",
          "sexta-feira",
          "sexta-feira",
          "sexta-feira",
          "sexta-feira",
          "sexta-feira",
          "sexta-feira",
          "sexta-feira",
          "sexta-feira",
          "sexta-feira",
          "sexta-feira",
          "sexta-feira",
          "sexta-feira",
          "sexta-feira",
          "sexta-feira",
          "sexta-feira",
          "sexta-feira",
          "sexta-feira",
          "sexta-feira",
          "sexta-feira",
          "sexta-feira",
          "sexta-feira",
          "sexta-feira",
          "sexta-feira",
          "sexta-feira",
          "sexta-feira",
          "sexta-feira",
          "sexta-feira",
          "sexta-feira",
          "sexta-feira",
          "sexta-feira",
          "sexta-feira",
          "sexta-feira",
          "sexta-feira",
          "sexta-feira",
          "sexta-feira",
          "sexta-feira",
          "sexta-feira",
          "sexta-feira",
          "sexta-feira",
          "sexta-feira",
          "sexta-feira",
          "sexta-feira",
          "sexta-feira",
          "sexta-feira",
          "sexta-feira",
          "sexta-feira",
          "sexta-feira",
          "sexta-feira",
          "sexta-feira",
          "sexta-feira",
          "sexta-feira",
          "sexta-feira",
          "sexta-feira",
          "sexta-feira",
          "sexta-feira",
          "sexta-feira",
          "sexta-feira",
          "sexta-feira",
          "sexta-feira",
          "sexta-feira",
          "sexta-feira",
          "sexta-feira",
          "sexta-feira",
          "sexta-feira",
          "sexta-feira",
          "sexta-feira",
          "sexta-feira",
          "sexta-feira",
          "sexta-feira",
          "sexta-feira",
          "sexta-feira",
          "sexta-feira",
          "sexta-feira",
          "sexta-feira",
          "sexta-feira",
          "sexta-feira",
          "sexta-feira",
          "sexta-feira",
          "sexta-feira",
          "sexta-feira",
          "sexta-feira",
          "sexta-feira",
          "sexta-feira",
          "sexta-feira",
          "sexta-feira",
          "sexta-feira",
          "sexta-feira",
          "sexta-feira",
          "sexta-feira",
          "sexta-feira",
          "sexta-feira",
          "sexta-feira",
          "sexta-feira",
          "sexta-feira",
          "sexta-feira",
          "sexta-feira",
          "sexta-feira",
          "sexta-feira",
          "sexta-feira",
          "sexta-feira",
          "sexta-feira",
          "sexta-feira",
          "sexta-feira",
          "sexta-feira",
          "sexta-feira",
          "sexta-feira",
          "sexta-feira",
          "sexta-feira",
          "sexta-feira",
          "sexta-feira",
          "sexta-feira",
          "sexta-feira",
          "sexta-feira",
          "sexta-feira",
          "sexta-feira",
          "sexta-feira",
          "sexta-feira",
          "sexta-feira",
          "sexta-feira",
          "sexta-feira",
          "sexta-feira",
          "sexta-feira",
          "sexta-feira",
          "sexta-feira",
          "sexta-feira",
          "sexta-feira",
          "sexta-feira",
          "sexta-feira",
          "sexta-feira",
          "sexta-feira",
          "sexta-feira",
          "sexta-feira",
          "sexta-feira",
          "sexta-feira",
          "sexta-feira",
          "sexta-feira",
          "sexta-feira",
          "sexta-feira",
          "sexta-feira",
          "sexta-feira",
          "sexta-feira",
          "sexta-feira",
          "sexta-feira",
          "sexta-feira",
          "sexta-feira",
          "sexta-feira",
          "sexta-feira",
          "sexta-feira",
          "sexta-feira",
          "sexta-feira",
          "sexta-feira",
          "sexta-feira",
          "sexta-feira",
          "sexta-feira",
          "sexta-feira",
          "sexta-feira",
          "sexta-feira",
          "sexta-feira",
          "sexta-feira",
          "sexta-feira",
          "sexta-feira",
          "sexta-feira",
          "sexta-feira",
          "sexta-feira",
          "sexta-feira",
          "sexta-feira",
          "sexta-feira",
          "sexta-feira",
          "sexta-feira",
          "sexta-feira",
          "sexta-feira",
          "sexta-feira",
          "sexta-feira",
          "sexta-feira",
          "sexta-feira",
          "sexta-feira",
          "sexta-feira",
          "sexta-feira",
          "sexta-feira",
          "sexta-feira",
          "sexta-feira",
          "sexta-feira",
          "sexta-feira",
          "sexta-feira",
          "sexta-feira",
          "sexta-feira",
          "sexta-feira",
          "sexta-feira",
          "sexta-feira",
          "sexta-feira",
          "sexta-feira",
          "sexta-feira",
          "sexta-feira",
          "sexta-feira",
          "sexta-feira",
          "sexta-feira",
          "sexta-feira",
          "sexta-feira",
          "sexta-feira",
          "sexta-feira",
          "sexta-feira",
          "sexta-feira",
          "sexta-feira",
          "sexta-feira",
          "sexta-feira",
          "sexta-feira",
          "sexta-feira",
          "sexta-feira",
          "sexta-feira",
          "sexta-feira",
          "sexta-feira",
          "sexta-feira",
          "sexta-feira",
          "sexta-feira",
          "sexta-feira",
          "sexta-feira",
          "sexta-feira",
          "sexta-feira",
          "sexta-feira",
          "sexta-feira",
          "sexta-feira",
          "sexta-feira",
          "sexta-feira",
          "sexta-feira",
          "sexta-feira",
          "sexta-feira",
          "sexta-feira",
          "sexta-feira",
          "sexta-feira",
          "sexta-feira",
          "sexta-feira",
          "sexta-feira",
          "sexta-feira",
          "sexta-feira",
          "sexta-feira",
          "sexta-feira",
          "sexta-feira",
          "sexta-feira",
          "sexta-feira",
          "sexta-feira",
          "sexta-feira",
          "sexta-feira",
          "sexta-feira",
          "sexta-feira",
          "sexta-feira",
          "sexta-feira",
          "sexta-feira",
          "sexta-feira",
          "sexta-feira",
          "sexta-feira",
          "sexta-feira",
          "sexta-feira",
          "sexta-feira",
          "sexta-feira",
          "sexta-feira",
          "sexta-feira",
          "sexta-feira",
          "sexta-feira",
          "sexta-feira",
          "sexta-feira",
          "sexta-feira",
          "sexta-feira",
          "sexta-feira",
          "sexta-feira",
          "sexta-feira",
          "sexta-feira",
          "sexta-feira",
          "sexta-feira",
          "sexta-feira",
          "sexta-feira",
          "sexta-feira",
          "sexta-feira",
          "sexta-feira",
          "sexta-feira",
          "sexta-feira",
          "sexta-feira",
          "sexta-feira",
          "sexta-feira",
          "sexta-feira",
          "sexta-feira",
          "sexta-feira",
          "sexta-feira",
          "sexta-feira",
          "sexta-feira",
          "sexta-feira",
          "sexta-feira",
          "sexta-feira",
          "sexta-feira",
          "sexta-feira",
          "sexta-feira",
          "sexta-feira",
          "sexta-feira",
          "sexta-feira",
          "sexta-feira",
          "sexta-feira",
          "sexta-feira",
          "sexta-feira",
          "sexta-feira",
          "sexta-feira",
          "sexta-feira",
          "sexta-feira",
          "sexta-feira",
          "sexta-feira",
          "sexta-feira",
          "sexta-feira",
          "sexta-feira",
          "sexta-feira",
          "sexta-feira",
          "sexta-feira",
          "sexta-feira",
          "sexta-feira",
          "sexta-feira",
          "sexta-feira",
          "sexta-feira",
          "sexta-feira",
          "sexta-feira",
          "sexta-feira",
          "sexta-feira",
          "sexta-feira",
          "sexta-feira",
          "sexta-feira",
          "sexta-feira",
          "sexta-feira",
          "sexta-feira",
          "sexta-feira",
          "sexta-feira",
          "sexta-feira",
          "sexta-feira",
          "sexta-feira",
          "sexta-feira",
          "sexta-feira",
          "sexta-feira",
          "sexta-feira",
          "sexta-feira",
          "sexta-feira",
          "sexta-feira",
          "sexta-feira",
          "sexta-feira",
          "sexta-feira",
          "sexta-feira",
          "sexta-feira",
          "sexta-feira",
          "sexta-feira",
          "sexta-feira",
          "sexta-feira",
          "sexta-feira",
          "sexta-feira",
          "sexta-feira",
          "sexta-feira",
          "sexta-feira",
          "sexta-feira",
          "sexta-feira",
          "sexta-feira",
          "sexta-feira",
          "sexta-feira",
          "sexta-feira",
          "sexta-feira",
          "sexta-feira",
          "sexta-feira",
          "sexta-feira",
          "sexta-feira",
          "sexta-feira",
          "sexta-feira",
          "sexta-feira",
          "sexta-feira",
          "sexta-feira",
          "sexta-feira",
          "sexta-feira",
          "sexta-feira",
          "sexta-feira",
          "sexta-feira",
          "sexta-feira",
          "sexta-feira",
          "sexta-feira",
          "sexta-feira",
          "sexta-feira",
          "sexta-feira",
          "sexta-feira",
          "sexta-feira",
          "sexta-feira",
          "sexta-feira",
          "sexta-feira",
          "sexta-feira",
          "sexta-feira",
          "sexta-feira",
          "sexta-feira",
          "sexta-feira",
          "sexta-feira",
          "sexta-feira",
          "sexta-feira",
          "sexta-feira",
          "sexta-feira",
          "sexta-feira",
          "sexta-feira",
          "sexta-feira",
          "sexta-feira",
          "sexta-feira",
          "sexta-feira",
          "sexta-feira",
          "sexta-feira",
          "sexta-feira",
          "sexta-feira",
          "sexta-feira",
          "sexta-feira",
          "sexta-feira",
          "sexta-feira",
          "sexta-feira",
          "sexta-feira",
          "sexta-feira",
          "sexta-feira",
          "sexta-feira",
          "sexta-feira",
          "sexta-feira",
          "sexta-feira",
          "sexta-feira",
          "sexta-feira",
          "sexta-feira",
          "sexta-feira",
          "sexta-feira",
          "sexta-feira",
          "sexta-feira",
          "sexta-feira",
          "sexta-feira",
          "sexta-feira",
          "sexta-feira",
          "sexta-feira",
          "sexta-feira",
          "sexta-feira",
          "sexta-feira",
          "sexta-feira",
          "sexta-feira",
          "sexta-feira",
          "sexta-feira",
          "sexta-feira",
          "sexta-feira",
          "sexta-feira",
          "sexta-feira",
          "sexta-feira",
          "sexta-feira",
          "sexta-feira",
          "sexta-feira",
          "sexta-feira",
          "sexta-feira",
          "sexta-feira",
          "sexta-feira",
          "sexta-feira",
          "sexta-feira",
          "sexta-feira",
          "sexta-feira",
          "sexta-feira",
          "sexta-feira",
          "sexta-feira",
          "sexta-feira",
          "sexta-feira",
          "sexta-feira",
          "sexta-feira",
          "sábado",
          "sábado",
          "sábado",
          "sábado",
          "sábado",
          "sábado",
          "sábado",
          "sábado",
          "sábado",
          "sábado",
          "sábado",
          "sábado",
          "sábado",
          "sábado",
          "sábado",
          "sábado",
          "sábado",
          "sábado",
          "sábado",
          "sábado",
          "sábado",
          "sábado",
          "sábado",
          "sábado",
          "sábado",
          "sábado",
          "sábado",
          "sábado",
          "sábado",
          "sábado",
          "sábado",
          "sábado",
          "sábado",
          "sábado",
          "sábado",
          "sábado",
          "sábado",
          "sábado",
          "sábado",
          "sábado",
          "sábado",
          "sábado",
          "sábado",
          "sábado",
          "sábado",
          "sábado",
          "sábado",
          "sábado",
          "sábado",
          "sábado",
          "sábado",
          "sábado",
          "sábado",
          "sábado",
          "sábado",
          "sábado",
          "sábado",
          "sábado",
          "sábado",
          "sábado",
          "sábado",
          "sábado",
          "sábado",
          "sábado",
          "sábado",
          "sábado",
          "sábado",
          "sábado",
          "sábado",
          "sábado",
          "sábado",
          "sábado",
          "sábado",
          "sábado",
          "sábado",
          "sábado",
          "sábado",
          "sábado",
          "sábado",
          "sábado",
          "sábado",
          "sábado",
          "sábado",
          "sábado",
          "sábado",
          "sábado",
          "sábado",
          "sábado",
          "sábado",
          "sábado",
          "sábado",
          "sábado",
          "sábado",
          "sábado",
          "sábado",
          "sábado",
          "sábado",
          "sábado",
          "sábado",
          "sábado",
          "sábado",
          "sábado",
          "sábado",
          "sábado",
          "sábado",
          "sábado",
          "sábado",
          "sábado",
          "sábado",
          "sábado",
          "sábado",
          "sábado",
          "sábado",
          "sábado",
          "sábado",
          "sábado",
          "sábado",
          "sábado",
          "sábado",
          "sábado",
          "sábado",
          "sábado",
          "sábado",
          "sábado",
          "sábado",
          "sábado",
          "sábado",
          "sábado",
          "sábado",
          "sábado",
          "sábado",
          "sábado",
          "sábado",
          "sábado",
          "sábado",
          "sábado",
          "sábado",
          "sábado",
          "sábado",
          "sábado",
          "sábado",
          "sábado",
          "sábado",
          "sábado",
          "sábado",
          "sábado",
          "sábado",
          "sábado",
          "sábado",
          "sábado",
          "sábado",
          "sábado",
          "sábado",
          "sábado",
          "sábado",
          "sábado",
          "sábado",
          "sábado",
          "sábado",
          "sábado",
          "sábado",
          "sábado",
          "sábado",
          "sábado",
          "sábado",
          "sábado",
          "sábado",
          "sábado",
          "sábado",
          "sábado",
          "sábado",
          "sábado",
          "sábado",
          "sábado",
          "sábado",
          "sábado",
          "sábado",
          "sábado",
          "sábado",
          "sábado",
          "sábado",
          "sábado",
          "sábado",
          "sábado",
          "sábado",
          "sábado",
          "sábado",
          "sábado",
          "sábado",
          "sábado",
          "sábado",
          "sábado",
          "sábado",
          "sábado",
          "sábado",
          "sábado",
          "sábado",
          "sábado",
          "sábado",
          "sábado",
          "sábado",
          "sábado",
          "sábado",
          "sábado",
          "sábado",
          "sábado",
          "sábado",
          "sábado",
          "sábado",
          "sábado",
          "sábado",
          "sábado",
          "sábado",
          "sábado",
          "sábado",
          "sábado",
          "sábado",
          "sábado",
          "sábado",
          "sábado",
          "sábado",
          "sábado",
          "sábado",
          "sábado",
          "sábado",
          "sábado",
          "sábado",
          "sábado",
          "sábado",
          "sábado",
          "sábado",
          "sábado",
          "sábado",
          "sábado",
          "sábado",
          "sábado",
          "sábado",
          "sábado",
          "sábado",
          "sábado",
          "sábado",
          "sábado",
          "sábado",
          "sábado",
          "sábado",
          "sábado",
          "sábado",
          "sábado",
          "sábado",
          "sábado",
          "sábado",
          "sábado",
          "sábado",
          "sábado",
          "sábado",
          "sábado",
          "sábado",
          "sábado",
          "sábado",
          "sábado",
          "sábado",
          "sábado",
          "sábado",
          "sábado",
          "sábado",
          "sábado",
          "sábado",
          "sábado",
          "sábado",
          "sábado",
          "sábado",
          "sábado",
          "sábado",
          "sábado",
          "sábado",
          "sábado",
          "sábado",
          "sábado",
          "sábado",
          "sábado",
          "sábado",
          "sábado",
          "sábado",
          "sábado",
          "sábado",
          "sábado",
          "sábado",
          "sábado",
          "sábado",
          "sábado",
          "sábado",
          "sábado",
          "sábado",
          "sábado",
          "sábado",
          "sábado",
          "sábado",
          "sábado",
          "sábado",
          "sábado",
          "sábado",
          "sábado",
          "sábado",
          "sábado",
          "sábado",
          "sábado",
          "sábado",
          "sábado",
          "sábado",
          "sábado",
          "sábado",
          "sábado",
          "sábado",
          "sábado",
          "sábado",
          "sábado",
          "sábado",
          "sábado",
          "sábado",
          "sábado",
          "sábado",
          "sábado",
          "sábado",
          "sábado",
          "sábado",
          "sábado",
          "sábado",
          "sábado",
          "sábado",
          "sábado",
          "sábado",
          "sábado",
          "sábado",
          "sábado",
          "sábado",
          "sábado",
          "sábado",
          "sábado",
          "sábado",
          "sábado",
          "sábado",
          "sábado",
          "sábado",
          "sábado",
          "sábado",
          "sábado",
          "sábado",
          "sábado",
          "sábado",
          "sábado",
          "sábado",
          "sábado",
          "sábado",
          "sábado",
          "sábado",
          "sábado",
          "sábado",
          "sábado",
          "sábado",
          "sábado",
          "sábado",
          "sábado",
          "sábado",
          "sábado",
          "sábado",
          "sábado",
          "sábado",
          "sábado",
          "sábado",
          "sábado",
          "sábado",
          "sábado",
          "sábado",
          "sábado",
          "sábado",
          "sábado",
          "sábado",
          "sábado",
          "sábado",
          "sábado",
          "sábado",
          "sábado",
          "sábado",
          "sábado",
          "sábado",
          "sábado",
          "sábado",
          "sábado",
          "sábado",
          "sábado",
          "sábado",
          "sábado",
          "sábado",
          "sábado",
          "sábado",
          "sábado",
          "sábado",
          "sábado",
          "sábado",
          "sábado",
          "sábado",
          "sábado",
          "sábado",
          "sábado",
          "sábado",
          "sábado",
          "sábado",
          "sábado",
          "sábado",
          "sábado",
          "sábado",
          "sábado",
          "sábado",
          "sábado",
          "sábado",
          "sábado",
          "sábado",
          "sábado",
          "sábado",
          "sábado",
          "sábado",
          "sábado",
          "sábado",
          "sábado",
          "sábado",
          "sábado",
          "sábado",
          "sábado",
          "sábado",
          "sábado",
          "sábado",
          "sábado",
          "sábado",
          "sábado",
          "sábado",
          "sábado",
          "sábado",
          "sábado",
          "sábado",
          "sábado",
          "sábado",
          "sábado",
          "sábado",
          "sábado",
          "sábado",
          "sábado",
          "sábado",
          "sábado",
          "sábado",
          "sábado",
          "sábado",
          "sábado",
          "sábado",
          "sábado",
          "sábado",
          "sábado",
          "sábado",
          "sábado",
          "sábado",
          "sábado",
          "sábado",
          "sábado",
          "sábado",
          "sábado",
          "sábado",
          "sábado",
          "sábado",
          "sábado",
          "sábado",
          "sábado",
          "sábado",
          "sábado",
          "sábado",
          "sábado",
          "sábado",
          "sábado",
          "sábado",
          "sábado",
          "sábado",
          "sábado",
          "sábado",
          "sábado",
          "sábado",
          "sábado",
          "sábado",
          "sábado",
          "sábado",
          "sábado",
          "sábado",
          "sábado",
          "sábado",
          "sábado",
          "sábado",
          "sábado",
          "sábado",
          "sábado",
          "sábado",
          "sábado",
          "sábado",
          "sábado",
          "sábado",
          "sábado",
          "sábado",
          "sábado",
          "sábado",
          "sábado",
          "sábado",
          "sábado",
          "sábado",
          "sábado",
          "sábado",
          "sábado",
          "sábado",
          "sábado",
          "sábado",
          "sábado",
          "sábado",
          "sábado",
          "sábado",
          "sábado",
          "sábado",
          "sábado",
          "sábado",
          "sábado",
          "sábado",
          "sábado",
          "sábado",
          "sábado",
          "sábado",
          "sábado",
          "sábado",
          "sábado",
          "sábado",
          "sábado",
          "sábado",
          "sábado",
          "sábado",
          "sábado",
          "sábado",
          "sábado",
          "sábado",
          "sábado",
          "sábado",
          "sábado",
          "sábado",
          "sábado",
          "sábado",
          "sábado",
          "sábado",
          "sábado",
          "sábado",
          "sábado",
          "sábado",
          "sábado",
          "sábado",
          "sábado",
          "sábado",
          "sábado",
          "sábado",
          "sábado",
          "sábado",
          "sábado",
          "sábado",
          "sábado",
          "sábado",
          "sábado",
          "sábado",
          "sábado",
          "sábado",
          "sábado",
          "sábado",
          "sábado",
          "sábado",
          "sábado",
          "sábado",
          "sábado",
          "sábado",
          "sábado",
          "sábado",
          "sábado",
          "sábado",
          "sábado",
          "sábado",
          "sábado",
          "sábado",
          "sábado",
          "sábado",
          "sábado",
          "sábado",
          "sábado",
          "sábado",
          "sábado",
          "sábado",
          "sábado",
          "sábado",
          "sábado",
          "sábado",
          "sábado",
          "sábado",
          "sábado",
          "terça-feira",
          "terça-feira",
          "terça-feira",
          "terça-feira",
          "terça-feira",
          "terça-feira",
          "terça-feira",
          "terça-feira",
          "terça-feira",
          "terça-feira",
          "terça-feira",
          "terça-feira",
          "terça-feira",
          "terça-feira",
          "terça-feira",
          "terça-feira",
          "terça-feira",
          "terça-feira",
          "terça-feira",
          "terça-feira",
          "terça-feira",
          "terça-feira",
          "terça-feira",
          "terça-feira",
          "terça-feira",
          "terça-feira",
          "terça-feira",
          "terça-feira",
          "terça-feira",
          "terça-feira",
          "terça-feira",
          "terça-feira",
          "terça-feira",
          "terça-feira",
          "terça-feira",
          "terça-feira",
          "terça-feira",
          "terça-feira",
          "terça-feira",
          "terça-feira",
          "terça-feira",
          "terça-feira",
          "terça-feira",
          "terça-feira",
          "terça-feira",
          "terça-feira",
          "terça-feira",
          "terça-feira",
          "terça-feira",
          "terça-feira",
          "terça-feira",
          "terça-feira",
          "terça-feira",
          "terça-feira",
          "terça-feira",
          "terça-feira",
          "terça-feira",
          "terça-feira",
          "terça-feira",
          "terça-feira",
          "terça-feira",
          "terça-feira",
          "terça-feira",
          "terça-feira",
          "terça-feira",
          "terça-feira",
          "terça-feira",
          "terça-feira",
          "terça-feira",
          "terça-feira",
          "terça-feira",
          "terça-feira",
          "terça-feira",
          "terça-feira",
          "terça-feira",
          "terça-feira",
          "terça-feira",
          "terça-feira",
          "terça-feira",
          "terça-feira",
          "terça-feira",
          "terça-feira",
          "terça-feira",
          "terça-feira",
          "terça-feira",
          "terça-feira",
          "terça-feira",
          "terça-feira",
          "terça-feira",
          "terça-feira",
          "terça-feira",
          "terça-feira",
          "terça-feira",
          "terça-feira",
          "terça-feira",
          "terça-feira",
          "terça-feira",
          "terça-feira",
          "terça-feira",
          "terça-feira",
          "terça-feira",
          "terça-feira",
          "terça-feira",
          "terça-feira",
          "terça-feira",
          "terça-feira",
          "terça-feira",
          "terça-feira",
          "terça-feira",
          "terça-feira",
          "terça-feira",
          "terça-feira",
          "terça-feira",
          "terça-feira",
          "terça-feira",
          "terça-feira",
          "terça-feira",
          "terça-feira",
          "terça-feira",
          "terça-feira",
          "terça-feira",
          "terça-feira",
          "terça-feira",
          "terça-feira",
          "terça-feira",
          "terça-feira",
          "terça-feira",
          "terça-feira",
          "terça-feira",
          "terça-feira",
          "terça-feira",
          "terça-feira",
          "terça-feira",
          "terça-feira",
          "terça-feira",
          "terça-feira",
          "terça-feira",
          "terça-feira",
          "terça-feira",
          "terça-feira",
          "terça-feira",
          "terça-feira",
          "terça-feira",
          "terça-feira",
          "terça-feira",
          "terça-feira",
          "terça-feira",
          "terça-feira",
          "terça-feira",
          "terça-feira",
          "terça-feira",
          "terça-feira",
          "terça-feira",
          "terça-feira",
          "terça-feira",
          "terça-feira",
          "terça-feira",
          "terça-feira",
          "terça-feira",
          "terça-feira",
          "terça-feira",
          "terça-feira",
          "terça-feira",
          "terça-feira",
          "terça-feira",
          "terça-feira",
          "terça-feira",
          "terça-feira",
          "terça-feira",
          "terça-feira",
          "terça-feira",
          "terça-feira",
          "terça-feira",
          "terça-feira",
          "terça-feira",
          "terça-feira",
          "terça-feira",
          "terça-feira",
          "terça-feira",
          "terça-feira",
          "terça-feira",
          "terça-feira",
          "terça-feira",
          "terça-feira",
          "terça-feira",
          "terça-feira",
          "terça-feira",
          "terça-feira",
          "terça-feira",
          "terça-feira",
          "terça-feira",
          "terça-feira",
          "terça-feira",
          "terça-feira",
          "terça-feira",
          "terça-feira",
          "terça-feira",
          "terça-feira",
          "terça-feira",
          "terça-feira",
          "terça-feira",
          "terça-feira",
          "terça-feira",
          "terça-feira",
          "terça-feira",
          "terça-feira",
          "terça-feira",
          "terça-feira",
          "terça-feira",
          "terça-feira",
          "terça-feira",
          "terça-feira",
          "terça-feira",
          "terça-feira",
          "terça-feira",
          "terça-feira",
          "terça-feira",
          "terça-feira",
          "terça-feira",
          "terça-feira",
          "terça-feira",
          "terça-feira",
          "terça-feira",
          "terça-feira",
          "terça-feira",
          "terça-feira",
          "terça-feira",
          "terça-feira",
          "terça-feira",
          "terça-feira",
          "terça-feira",
          "terça-feira",
          "terça-feira",
          "terça-feira",
          "terça-feira",
          "terça-feira",
          "terça-feira",
          "terça-feira",
          "terça-feira",
          "terça-feira",
          "terça-feira",
          "terça-feira",
          "terça-feira",
          "terça-feira",
          "terça-feira",
          "terça-feira",
          "terça-feira",
          "terça-feira",
          "terça-feira",
          "terça-feira",
          "terça-feira",
          "terça-feira",
          "terça-feira",
          "terça-feira",
          "terça-feira",
          "terça-feira",
          "terça-feira",
          "terça-feira",
          "terça-feira",
          "terça-feira",
          "terça-feira",
          "terça-feira",
          "terça-feira",
          "terça-feira",
          "terça-feira",
          "terça-feira",
          "terça-feira",
          "terça-feira",
          "terça-feira",
          "terça-feira",
          "terça-feira",
          "terça-feira",
          "terça-feira",
          "terça-feira",
          "terça-feira",
          "terça-feira",
          "terça-feira",
          "terça-feira",
          "terça-feira",
          "terça-feira",
          "terça-feira",
          "terça-feira",
          "terça-feira",
          "terça-feira",
          "terça-feira",
          "terça-feira",
          "terça-feira",
          "terça-feira",
          "terça-feira",
          "terça-feira",
          "terça-feira",
          "terça-feira",
          "terça-feira",
          "terça-feira",
          "terça-feira",
          "terça-feira",
          "terça-feira",
          "terça-feira",
          "terça-feira",
          "terça-feira",
          "terça-feira",
          "terça-feira",
          "terça-feira",
          "terça-feira",
          "terça-feira",
          "terça-feira",
          "terça-feira",
          "terça-feira",
          "terça-feira",
          "terça-feira",
          "terça-feira",
          "terça-feira",
          "terça-feira",
          "terça-feira",
          "terça-feira",
          "terça-feira",
          "terça-feira",
          "terça-feira",
          "terça-feira",
          "terça-feira",
          "terça-feira",
          "terça-feira",
          "terça-feira",
          "terça-feira",
          "terça-feira",
          "terça-feira",
          "terça-feira",
          "terça-feira",
          "terça-feira",
          "terça-feira",
          "terça-feira",
          "terça-feira",
          "terça-feira",
          "terça-feira",
          "terça-feira",
          "terça-feira",
          "terça-feira",
          "terça-feira",
          "terça-feira",
          "terça-feira",
          "terça-feira",
          "terça-feira",
          "terça-feira",
          "terça-feira",
          "terça-feira",
          "terça-feira",
          "terça-feira",
          "terça-feira",
          "terça-feira",
          "terça-feira",
          "terça-feira",
          "terça-feira",
          "terça-feira",
          "terça-feira",
          "terça-feira",
          "terça-feira",
          "terça-feira",
          "terça-feira",
          "terça-feira",
          "terça-feira",
          "terça-feira",
          "terça-feira",
          "terça-feira",
          "terça-feira",
          "terça-feira",
          "terça-feira",
          "terça-feira",
          "terça-feira",
          "terça-feira",
          "terça-feira",
          "terça-feira",
          "terça-feira",
          "terça-feira",
          "terça-feira",
          "terça-feira",
          "terça-feira",
          "terça-feira",
          "terça-feira",
          "terça-feira",
          "terça-feira",
          "terça-feira",
          "terça-feira",
          "terça-feira",
          "terça-feira",
          "terça-feira",
          "terça-feira",
          "terça-feira",
          "terça-feira",
          "terça-feira",
          "terça-feira",
          "terça-feira",
          "terça-feira",
          "terça-feira",
          "terça-feira",
          "terça-feira",
          "terça-feira",
          "terça-feira",
          "terça-feira",
          "terça-feira",
          "terça-feira",
          "terça-feira",
          "terça-feira",
          "terça-feira",
          "terça-feira",
          "terça-feira",
          "terça-feira",
          "terça-feira",
          "terça-feira",
          "terça-feira",
          "terça-feira",
          "terça-feira",
          "terça-feira",
          "terça-feira",
          "terça-feira",
          "terça-feira",
          "terça-feira",
          "terça-feira",
          "terça-feira",
          "terça-feira",
          "terça-feira",
          "terça-feira",
          "terça-feira",
          "terça-feira",
          "terça-feira",
          "terça-feira",
          "terça-feira",
          "terça-feira",
          "terça-feira",
          "terça-feira",
          "terça-feira",
          "terça-feira",
          "terça-feira",
          "terça-feira",
          "terça-feira",
          "terça-feira",
          "terça-feira",
          "terça-feira",
          "terça-feira",
          "terça-feira",
          "terça-feira",
          "terça-feira",
          "terça-feira",
          "terça-feira",
          "terça-feira",
          "terça-feira",
          "terça-feira",
          "terça-feira",
          "terça-feira",
          "terça-feira",
          "terça-feira",
          "terça-feira",
          "terça-feira",
          "terça-feira",
          "terça-feira",
          "terça-feira",
          "terça-feira",
          "terça-feira",
          "terça-feira",
          "terça-feira",
          "terça-feira",
          "terça-feira",
          "terça-feira",
          "terça-feira",
          "terça-feira",
          "terça-feira",
          "terça-feira",
          "terça-feira",
          "terça-feira",
          "terça-feira",
          "terça-feira",
          "terça-feira",
          "terça-feira",
          "terça-feira",
          "terça-feira",
          "terça-feira",
          "terça-feira",
          "terça-feira",
          "terça-feira",
          "terça-feira",
          "terça-feira",
          "terça-feira",
          "terça-feira",
          "terça-feira",
          "terça-feira",
          "terça-feira",
          "terça-feira",
          "terça-feira",
          "terça-feira",
          "terça-feira",
          "terça-feira",
          "terça-feira",
          "terça-feira",
          "terça-feira",
          "terça-feira",
          "terça-feira",
          "terça-feira",
          "terça-feira",
          "terça-feira",
          "terça-feira",
          "terça-feira",
          "terça-feira",
          "terça-feira",
          "terça-feira",
          "terça-feira",
          "terça-feira",
          "terça-feira",
          "terça-feira",
          "terça-feira",
          "terça-feira",
          "terça-feira",
          "terça-feira",
          "terça-feira",
          "terça-feira",
          "terça-feira",
          "terça-feira",
          "terça-feira",
          "terça-feira",
          "terça-feira",
          "terça-feira",
          "terça-feira",
          "terça-feira",
          "terça-feira",
          "terça-feira",
          "terça-feira",
          "terça-feira",
          "terça-feira",
          "terça-feira",
          "terça-feira",
          "terça-feira",
          "terça-feira",
          "terça-feira",
          "terça-feira",
          "terça-feira",
          "terça-feira",
          "terça-feira",
          "terça-feira",
          "terça-feira"
         ],
         "xaxis": "x",
         "y": [
          "00:00:00",
          "00:01:00",
          "00:02:00",
          "00:03:00",
          "00:04:00",
          "00:05:00",
          "00:10:00",
          "00:11:00",
          "00:15:00",
          "00:20:00",
          "00:21:00",
          "00:22:00",
          "00:25:00",
          "00:27:00",
          "00:29:00",
          "00:30:00",
          "00:31:00",
          "00:32:00",
          "00:33:00",
          "00:35:00",
          "00:40:00",
          "00:42:00",
          "00:45:00",
          "00:50:00",
          "00:52:00",
          "00:54:00",
          "00:55:00",
          "01:00:00",
          "01:05:00",
          "01:08:00",
          "01:10:00",
          "01:15:00",
          "01:16:00",
          "01:20:00",
          "01:25:00",
          "01:30:00",
          "01:32:00",
          "01:35:00",
          "01:40:00",
          "01:41:00",
          "01:42:00",
          "01:45:00",
          "01:50:00",
          "01:55:00",
          "02:00:00",
          "02:05:00",
          "02:10:00",
          "02:12:00",
          "02:15:00",
          "02:16:00",
          "02:20:00",
          "02:22:00",
          "02:25:00",
          "02:30:00",
          "02:33:00",
          "02:35:00",
          "02:37:00",
          "02:40:00",
          "02:42:00",
          "02:45:00",
          "02:47:00",
          "02:50:00",
          "02:54:00",
          "02:55:00",
          "02:57:00",
          "02:58:00",
          "03:00:00",
          "03:05:00",
          "03:09:00",
          "03:10:00",
          "03:11:00",
          "03:13:00",
          "03:15:00",
          "03:16:00",
          "03:18:00",
          "03:20:00",
          "03:24:00",
          "03:25:00",
          "03:30:00",
          "03:32:00",
          "03:33:00",
          "03:35:00",
          "03:40:00",
          "03:41:00",
          "03:43:00",
          "03:45:00",
          "03:48:00",
          "03:49:00",
          "03:50:00",
          "03:53:00",
          "03:55:00",
          "03:56:00",
          "03:57:00",
          "03:59:00",
          "04:00:00",
          "04:05:00",
          "04:10:00",
          "04:12:00",
          "04:15:00",
          "04:19:00",
          "04:20:00",
          "04:21:00",
          "04:23:00",
          "04:25:00",
          "04:26:00",
          "04:30:00",
          "04:35:00",
          "04:40:00",
          "04:45:00",
          "04:48:00",
          "04:50:00",
          "04:51:00",
          "04:53:00",
          "04:54:00",
          "04:55:00",
          "04:58:00",
          "05:00:00",
          "05:01:00",
          "05:02:00",
          "05:05:00",
          "05:07:00",
          "05:09:00",
          "05:10:00",
          "05:11:00",
          "05:15:00",
          "05:19:00",
          "05:20:00",
          "05:22:00",
          "05:25:00",
          "05:26:00",
          "05:30:00",
          "05:33:00",
          "05:35:00",
          "05:37:00",
          "05:38:00",
          "05:40:00",
          "05:43:00",
          "05:45:00",
          "05:46:00",
          "05:50:00",
          "05:55:00",
          "05:58:00",
          "06:00:00",
          "06:01:00",
          "06:02:00",
          "06:03:00",
          "06:05:00",
          "06:06:00",
          "06:10:00",
          "06:12:00",
          "06:15:00",
          "06:20:00",
          "06:24:00",
          "06:25:00",
          "06:28:00",
          "06:30:00",
          "06:33:00",
          "06:35:00",
          "06:40:00",
          "06:45:00",
          "06:46:00",
          "06:47:00",
          "06:49:00",
          "06:50:00",
          "06:51:00",
          "06:54:00",
          "06:55:00",
          "07:00:00",
          "07:05:00",
          "07:10:00",
          "07:11:00",
          "07:15:00",
          "07:16:00",
          "07:18:00",
          "07:20:00",
          "07:22:00",
          "07:25:00",
          "07:30:00",
          "07:31:00",
          "07:35:00",
          "07:40:00",
          "07:42:00",
          "07:45:00",
          "07:46:00",
          "07:50:00",
          "07:52:00",
          "07:55:00",
          "07:58:00",
          "07:59:00",
          "08:00:00",
          "08:03:00",
          "08:05:00",
          "08:10:00",
          "08:11:00",
          "08:15:00",
          "08:16:00",
          "08:17:00",
          "08:20:00",
          "08:22:00",
          "08:25:00",
          "08:29:00",
          "08:30:00",
          "08:31:00",
          "08:35:00",
          "08:37:00",
          "08:40:00",
          "08:42:00",
          "08:45:00",
          "08:50:00",
          "08:51:00",
          "08:55:00",
          "09:00:00",
          "09:05:00",
          "09:06:00",
          "09:10:00",
          "09:11:00",
          "09:13:00",
          "09:15:00",
          "09:20:00",
          "09:23:00",
          "09:25:00",
          "09:27:00",
          "09:28:00",
          "09:30:00",
          "09:33:00",
          "09:34:00",
          "09:35:00",
          "09:36:00",
          "09:40:00",
          "09:42:00",
          "09:43:00",
          "09:44:00",
          "09:45:00",
          "09:46:00",
          "09:47:00",
          "09:49:00",
          "09:50:00",
          "09:55:00",
          "09:58:00",
          "10:00:00",
          "10:05:00",
          "10:10:00",
          "10:13:00",
          "10:15:00",
          "10:17:00",
          "10:20:00",
          "10:24:00",
          "10:25:00",
          "10:27:00",
          "10:28:00",
          "10:30:00",
          "10:35:00",
          "10:40:00",
          "10:41:00",
          "10:45:00",
          "10:48:00",
          "10:50:00",
          "10:55:00",
          "10:57:00",
          "10:58:00",
          "11:00:00",
          "11:02:00",
          "11:10:00",
          "11:13:00",
          "11:14:00",
          "11:15:00",
          "11:16:00",
          "11:18:00",
          "11:20:00",
          "11:22:00",
          "11:25:00",
          "11:26:00",
          "11:29:00",
          "11:30:00",
          "11:35:00",
          "11:37:00",
          "11:40:00",
          "11:41:00",
          "11:44:00",
          "11:45:00",
          "11:50:00",
          "11:55:00",
          "12:00:00",
          "12:05:00",
          "12:06:00",
          "12:10:00",
          "12:12:00",
          "12:13:00",
          "12:14:00",
          "12:15:00",
          "12:17:00",
          "12:20:00",
          "12:22:00",
          "12:25:00",
          "12:30:00",
          "12:35:00",
          "12:36:00",
          "12:40:00",
          "12:45:00",
          "12:49:00",
          "12:50:00",
          "12:51:00",
          "12:55:00",
          "12:59:00",
          "13:00:00",
          "13:04:00",
          "13:05:00",
          "13:10:00",
          "13:11:00",
          "13:15:00",
          "13:20:00",
          "13:25:00",
          "13:29:00",
          "13:30:00",
          "13:32:00",
          "13:35:00",
          "13:40:00",
          "13:44:00",
          "13:45:00",
          "13:46:00",
          "13:50:00",
          "13:53:00",
          "13:55:00",
          "14:00:00",
          "14:03:00",
          "14:05:00",
          "14:10:00",
          "14:12:00",
          "14:15:00",
          "14:17:00",
          "14:20:00",
          "14:25:00",
          "14:30:00",
          "14:33:00",
          "14:35:00",
          "14:40:00",
          "14:42:00",
          "14:45:00",
          "14:46:00",
          "14:48:00",
          "14:49:00",
          "14:50:00",
          "14:52:00",
          "14:55:00",
          "14:56:00",
          "14:59:00",
          "15:00:00",
          "15:05:00",
          "15:10:00",
          "15:11:00",
          "15:12:00",
          "15:15:00",
          "15:16:00",
          "15:20:00",
          "15:21:00",
          "15:22:00",
          "15:24:00",
          "15:25:00",
          "15:26:00",
          "15:27:00",
          "15:30:00",
          "15:34:00",
          "15:35:00",
          "15:37:00",
          "15:39:00",
          "15:40:00",
          "15:41:00",
          "15:43:00",
          "15:45:00",
          "15:50:00",
          "15:52:00",
          "15:55:00",
          "15:58:00",
          "16:00:00",
          "16:02:00",
          "16:05:00",
          "16:06:00",
          "16:09:00",
          "16:10:00",
          "16:11:00",
          "16:13:00",
          "16:15:00",
          "16:16:00",
          "16:20:00",
          "16:22:00",
          "16:25:00",
          "16:28:00",
          "16:30:00",
          "16:32:00",
          "16:35:00",
          "16:36:00",
          "16:39:00",
          "16:40:00",
          "16:43:00",
          "16:44:00",
          "16:45:00",
          "16:49:00",
          "16:50:00",
          "16:52:00",
          "16:54:00",
          "16:55:00",
          "16:56:00",
          "16:58:00",
          "17:00:00",
          "17:01:00",
          "17:02:00",
          "17:04:00",
          "17:05:00",
          "17:07:00",
          "17:09:00",
          "17:10:00",
          "17:12:00",
          "17:14:00",
          "17:15:00",
          "17:17:00",
          "17:19:00",
          "17:20:00",
          "17:24:00",
          "17:25:00",
          "17:27:00",
          "17:28:00",
          "17:30:00",
          "17:31:00",
          "17:35:00",
          "17:36:00",
          "17:38:00",
          "17:40:00",
          "17:41:00",
          "17:42:00",
          "17:45:00",
          "17:47:00",
          "17:48:00",
          "17:50:00",
          "17:55:00",
          "17:58:00",
          "17:59:00",
          "18:00:00",
          "18:02:00",
          "18:04:00",
          "18:05:00",
          "18:06:00",
          "18:08:00",
          "18:10:00",
          "18:13:00",
          "18:14:00",
          "18:15:00",
          "18:16:00",
          "18:18:00",
          "18:20:00",
          "18:21:00",
          "18:25:00",
          "18:26:00",
          "18:27:00",
          "18:28:00",
          "18:29:00",
          "18:30:00",
          "18:31:00",
          "18:32:00",
          "18:35:00",
          "18:36:00",
          "18:38:00",
          "18:40:00",
          "18:41:00",
          "18:42:00",
          "18:44:00",
          "18:45:00",
          "18:47:00",
          "18:48:00",
          "18:49:00",
          "18:50:00",
          "18:53:00",
          "18:55:00",
          "18:58:00",
          "19:00:00",
          "19:01:00",
          "19:02:00",
          "19:05:00",
          "19:07:00",
          "19:10:00",
          "19:11:00",
          "19:12:00",
          "19:14:00",
          "19:15:00",
          "19:16:00",
          "19:17:00",
          "19:20:00",
          "19:23:00",
          "19:25:00",
          "19:27:00",
          "19:30:00",
          "19:32:00",
          "19:35:00",
          "19:36:00",
          "19:38:00",
          "19:39:00",
          "19:40:00",
          "19:42:00",
          "19:43:00",
          "19:44:00",
          "19:45:00",
          "19:47:00",
          "19:48:00",
          "19:49:00",
          "19:50:00",
          "19:55:00",
          "19:57:00",
          "20:00:00",
          "20:01:00",
          "20:04:00",
          "20:05:00",
          "20:08:00",
          "20:10:00",
          "20:12:00",
          "20:15:00",
          "20:17:00",
          "20:19:00",
          "20:20:00",
          "20:21:00",
          "20:22:00",
          "20:24:00",
          "20:25:00",
          "20:27:00",
          "20:30:00",
          "20:31:00",
          "20:32:00",
          "20:33:00",
          "20:34:00",
          "20:35:00",
          "20:39:00",
          "20:40:00",
          "20:42:00",
          "20:43:00",
          "20:44:00",
          "20:45:00",
          "20:49:00",
          "20:50:00",
          "20:52:00",
          "20:55:00",
          "20:56:00",
          "20:59:00",
          "21:00:00",
          "21:02:00",
          "21:03:00",
          "21:04:00",
          "21:05:00",
          "21:06:00",
          "21:07:00",
          "21:10:00",
          "21:12:00",
          "21:13:00",
          "21:15:00",
          "21:20:00",
          "21:22:00",
          "21:25:00",
          "21:30:00",
          "21:31:00",
          "21:35:00",
          "21:40:00",
          "21:42:00",
          "21:45:00",
          "21:48:00",
          "21:50:00",
          "21:51:00",
          "21:54:00",
          "21:55:00",
          "21:56:00",
          "21:57:00",
          "21:58:00",
          "22:00:00",
          "22:05:00",
          "22:10:00",
          "22:15:00",
          "22:20:00",
          "22:25:00",
          "22:26:00",
          "22:28:00",
          "22:30:00",
          "22:35:00",
          "22:38:00",
          "22:40:00",
          "22:43:00",
          "22:44:00",
          "22:45:00",
          "22:46:00",
          "22:48:00",
          "22:49:00",
          "22:50:00",
          "22:56:00",
          "22:58:00",
          "22:59:00",
          "23:00:00",
          "23:05:00",
          "23:07:00",
          "23:10:00",
          "23:11:00",
          "23:12:00",
          "23:15:00",
          "23:16:00",
          "23:17:00",
          "23:19:00",
          "23:20:00",
          "23:21:00",
          "23:25:00",
          "23:27:00",
          "23:30:00",
          "23:37:00",
          "23:40:00",
          "23:41:00",
          "23:45:00",
          "23:50:00",
          "23:55:00",
          "00:00:00",
          "00:01:00",
          "00:05:00",
          "00:07:00",
          "00:10:00",
          "00:15:00",
          "00:17:00",
          "00:20:00",
          "00:23:00",
          "00:24:00",
          "00:25:00",
          "00:26:00",
          "00:30:00",
          "00:40:00",
          "00:45:00",
          "00:47:00",
          "00:50:00",
          "00:55:00",
          "01:00:00",
          "01:05:00",
          "01:10:00",
          "01:15:00",
          "01:20:00",
          "01:25:00",
          "01:28:00",
          "01:30:00",
          "01:45:00",
          "01:49:00",
          "01:50:00",
          "02:00:00",
          "02:10:00",
          "02:15:00",
          "02:20:00",
          "02:23:00",
          "02:30:00",
          "02:35:00",
          "02:45:00",
          "02:49:00",
          "02:50:00",
          "03:00:00",
          "03:10:00",
          "03:15:00",
          "03:20:00",
          "03:30:00",
          "03:40:00",
          "03:45:00",
          "03:48:00",
          "03:50:00",
          "04:00:00",
          "04:10:00",
          "04:12:00",
          "04:15:00",
          "04:20:00",
          "04:26:00",
          "04:30:00",
          "04:35:00",
          "04:37:00",
          "04:40:00",
          "04:45:00",
          "04:46:00",
          "04:50:00",
          "04:58:00",
          "05:00:00",
          "05:05:00",
          "05:10:00",
          "05:15:00",
          "05:20:00",
          "05:23:00",
          "05:25:00",
          "05:30:00",
          "05:35:00",
          "05:36:00",
          "05:39:00",
          "05:40:00",
          "05:45:00",
          "05:49:00",
          "05:50:00",
          "05:59:00",
          "06:00:00",
          "06:01:00",
          "06:05:00",
          "06:07:00",
          "06:09:00",
          "06:10:00",
          "06:12:00",
          "06:15:00",
          "06:17:00",
          "06:20:00",
          "06:25:00",
          "06:27:00",
          "06:29:00",
          "06:30:00",
          "06:33:00",
          "06:35:00",
          "06:36:00",
          "06:40:00",
          "06:43:00",
          "06:44:00",
          "06:45:00",
          "06:46:00",
          "06:50:00",
          "06:55:00",
          "06:58:00",
          "07:00:00",
          "07:05:00",
          "07:09:00",
          "07:10:00",
          "07:13:00",
          "07:14:00",
          "07:15:00",
          "07:20:00",
          "07:21:00",
          "07:22:00",
          "07:23:00",
          "07:25:00",
          "07:27:00",
          "07:28:00",
          "07:30:00",
          "07:31:00",
          "07:32:00",
          "07:34:00",
          "07:35:00",
          "07:38:00",
          "07:40:00",
          "07:41:00",
          "07:44:00",
          "07:45:00",
          "07:46:00",
          "07:47:00",
          "07:48:00",
          "07:50:00",
          "07:54:00",
          "07:55:00",
          "07:59:00",
          "08:00:00",
          "08:05:00",
          "08:09:00",
          "08:10:00",
          "08:12:00",
          "08:15:00",
          "08:20:00",
          "08:25:00",
          "08:27:00",
          "08:30:00",
          "08:35:00",
          "08:39:00",
          "08:40:00",
          "08:41:00",
          "08:42:00",
          "08:44:00",
          "08:45:00",
          "08:49:00",
          "08:50:00",
          "08:52:00",
          "08:55:00",
          "08:56:00",
          "08:58:00",
          "09:00:00",
          "09:01:00",
          "09:02:00",
          "09:03:00",
          "09:05:00",
          "09:07:00",
          "09:08:00",
          "09:10:00",
          "09:12:00",
          "09:15:00",
          "09:20:00",
          "09:21:00",
          "09:25:00",
          "09:28:00",
          "09:30:00",
          "09:33:00",
          "09:35:00",
          "09:40:00",
          "09:41:00",
          "09:44:00",
          "09:45:00",
          "09:48:00",
          "09:50:00",
          "09:55:00",
          "10:00:00",
          "10:01:00",
          "10:02:00",
          "10:03:00",
          "10:05:00",
          "10:06:00",
          "10:10:00",
          "10:14:00",
          "10:15:00",
          "10:20:00",
          "10:21:00",
          "10:22:00",
          "10:25:00",
          "10:28:00",
          "10:30:00",
          "10:35:00",
          "10:36:00",
          "10:38:00",
          "10:40:00",
          "10:45:00",
          "10:46:00",
          "10:47:00",
          "10:50:00",
          "10:51:00",
          "10:53:00",
          "10:55:00",
          "10:58:00",
          "10:59:00",
          "11:00:00",
          "11:02:00",
          "11:04:00",
          "11:05:00",
          "11:06:00",
          "11:08:00",
          "11:10:00",
          "11:15:00",
          "11:20:00",
          "11:25:00",
          "11:27:00",
          "11:30:00",
          "11:35:00",
          "11:40:00",
          "11:45:00",
          "11:50:00",
          "11:59:00",
          "12:00:00",
          "12:05:00",
          "12:10:00",
          "12:12:00",
          "12:14:00",
          "12:15:00",
          "12:16:00",
          "12:19:00",
          "12:20:00",
          "12:23:00",
          "12:25:00",
          "12:30:00",
          "12:33:00",
          "12:35:00",
          "12:38:00",
          "12:39:00",
          "12:40:00",
          "12:43:00",
          "12:45:00",
          "12:49:00",
          "12:50:00",
          "12:52:00",
          "12:54:00",
          "12:55:00",
          "12:58:00",
          "12:59:00",
          "13:00:00",
          "13:01:00",
          "13:03:00",
          "13:04:00",
          "13:05:00",
          "13:06:00",
          "13:08:00",
          "13:10:00",
          "13:12:00",
          "13:13:00",
          "13:15:00",
          "13:20:00",
          "13:23:00",
          "13:25:00",
          "13:26:00",
          "13:27:00",
          "13:29:00",
          "13:30:00",
          "13:31:00",
          "13:32:00",
          "13:35:00",
          "13:40:00",
          "13:43:00",
          "13:45:00",
          "13:48:00",
          "13:50:00",
          "13:53:00",
          "13:55:00",
          "14:00:00",
          "14:02:00",
          "14:05:00",
          "14:08:00",
          "14:10:00",
          "14:11:00",
          "14:13:00",
          "14:15:00",
          "14:16:00",
          "14:19:00",
          "14:20:00",
          "14:21:00",
          "14:25:00",
          "14:27:00",
          "14:28:00",
          "14:30:00",
          "14:32:00",
          "14:34:00",
          "14:35:00",
          "14:38:00",
          "14:40:00",
          "14:43:00",
          "14:45:00",
          "14:47:00",
          "14:50:00",
          "14:52:00",
          "14:55:00",
          "14:56:00",
          "15:00:00",
          "15:01:00",
          "15:05:00",
          "15:06:00",
          "15:08:00",
          "15:10:00",
          "15:11:00",
          "15:12:00",
          "15:15:00",
          "15:16:00",
          "15:17:00",
          "15:18:00",
          "15:19:00",
          "15:20:00",
          "15:22:00",
          "15:23:00",
          "15:25:00",
          "15:30:00",
          "15:33:00",
          "15:35:00",
          "15:36:00",
          "15:37:00",
          "15:40:00",
          "15:42:00",
          "15:43:00",
          "15:45:00",
          "15:47:00",
          "15:50:00",
          "15:53:00",
          "15:55:00",
          "16:00:00",
          "16:04:00",
          "16:05:00",
          "16:10:00",
          "16:14:00",
          "16:15:00",
          "16:19:00",
          "16:20:00",
          "16:24:00",
          "16:25:00",
          "16:26:00",
          "16:30:00",
          "16:40:00",
          "16:45:00",
          "16:50:00",
          "16:54:00",
          "16:55:00",
          "16:57:00",
          "17:00:00",
          "17:05:00",
          "17:06:00",
          "17:08:00",
          "17:10:00",
          "17:15:00",
          "17:20:00",
          "17:24:00",
          "17:25:00",
          "17:30:00",
          "17:31:00",
          "17:34:00",
          "17:35:00",
          "17:36:00",
          "17:37:00",
          "17:40:00",
          "17:42:00",
          "17:44:00",
          "17:45:00",
          "17:47:00",
          "17:48:00",
          "17:50:00",
          "17:51:00",
          "17:55:00",
          "17:56:00",
          "18:00:00",
          "18:01:00",
          "18:02:00",
          "18:05:00",
          "18:06:00",
          "18:09:00",
          "18:10:00",
          "18:11:00",
          "18:13:00",
          "18:15:00",
          "18:16:00",
          "18:17:00",
          "18:19:00",
          "18:20:00",
          "18:21:00",
          "18:23:00",
          "18:24:00",
          "18:25:00",
          "18:30:00",
          "18:34:00",
          "18:35:00",
          "18:37:00",
          "18:39:00",
          "18:40:00",
          "18:45:00",
          "18:46:00",
          "18:48:00",
          "18:50:00",
          "18:51:00",
          "18:52:00",
          "18:54:00",
          "18:55:00",
          "18:56:00",
          "18:57:00",
          "18:58:00",
          "19:00:00",
          "19:02:00",
          "19:05:00",
          "19:06:00",
          "19:07:00",
          "19:10:00",
          "19:11:00",
          "19:15:00",
          "19:19:00",
          "19:20:00",
          "19:22:00",
          "19:24:00",
          "19:25:00",
          "19:30:00",
          "19:31:00",
          "19:35:00",
          "19:40:00",
          "19:42:00",
          "19:45:00",
          "19:50:00",
          "19:51:00",
          "19:52:00",
          "19:55:00",
          "19:56:00",
          "20:00:00",
          "20:05:00",
          "20:07:00",
          "20:10:00",
          "20:11:00",
          "20:12:00",
          "20:13:00",
          "20:14:00",
          "20:15:00",
          "20:20:00",
          "20:23:00",
          "20:24:00",
          "20:25:00",
          "20:26:00",
          "20:28:00",
          "20:30:00",
          "20:35:00",
          "20:37:00",
          "20:40:00",
          "20:43:00",
          "20:44:00",
          "20:45:00",
          "20:50:00",
          "20:52:00",
          "20:54:00",
          "20:55:00",
          "21:00:00",
          "21:05:00",
          "21:10:00",
          "21:15:00",
          "21:20:00",
          "21:24:00",
          "21:25:00",
          "21:26:00",
          "21:27:00",
          "21:30:00",
          "21:35:00",
          "21:38:00",
          "21:40:00",
          "21:45:00",
          "21:50:00",
          "21:55:00",
          "22:00:00",
          "22:05:00",
          "22:10:00",
          "22:11:00",
          "22:12:00",
          "22:15:00",
          "22:20:00",
          "22:22:00",
          "22:25:00",
          "22:29:00",
          "22:30:00",
          "22:35:00",
          "22:40:00",
          "22:45:00",
          "22:50:00",
          "22:55:00",
          "23:00:00",
          "23:05:00",
          "23:10:00",
          "23:14:00",
          "23:15:00",
          "23:20:00",
          "23:29:00",
          "23:30:00",
          "23:35:00",
          "23:40:00",
          "23:45:00",
          "23:50:00",
          "23:55:00",
          "23:57:00",
          "23:58:00",
          "00:00:00",
          "00:01:00",
          "00:03:00",
          "00:05:00",
          "00:10:00",
          "00:15:00",
          "00:20:00",
          "00:23:00",
          "00:25:00",
          "00:28:00",
          "00:30:00",
          "00:32:00",
          "00:35:00",
          "00:39:00",
          "00:40:00",
          "00:45:00",
          "00:50:00",
          "00:55:00",
          "01:00:00",
          "01:10:00",
          "01:12:00",
          "01:15:00",
          "01:20:00",
          "01:25:00",
          "01:30:00",
          "01:40:00",
          "01:45:00",
          "01:50:00",
          "02:00:00",
          "02:04:00",
          "02:09:00",
          "02:10:00",
          "02:15:00",
          "02:20:00",
          "02:25:00",
          "02:30:00",
          "02:32:00",
          "02:40:00",
          "02:45:00",
          "02:50:00",
          "03:00:00",
          "03:10:00",
          "03:15:00",
          "03:20:00",
          "03:22:00",
          "03:25:00",
          "03:30:00",
          "03:38:00",
          "03:40:00",
          "03:50:00",
          "03:55:00",
          "04:00:00",
          "04:06:00",
          "04:10:00",
          "04:13:00",
          "04:15:00",
          "04:20:00",
          "04:25:00",
          "04:30:00",
          "04:35:00",
          "04:39:00",
          "04:40:00",
          "04:41:00",
          "04:45:00",
          "04:50:00",
          "04:55:00",
          "05:00:00",
          "05:06:00",
          "05:10:00",
          "05:15:00",
          "05:18:00",
          "05:20:00",
          "05:23:00",
          "05:25:00",
          "05:30:00",
          "05:35:00",
          "05:39:00",
          "05:40:00",
          "05:42:00",
          "05:45:00",
          "05:49:00",
          "05:50:00",
          "05:53:00",
          "05:54:00",
          "05:59:00",
          "06:00:00",
          "06:03:00",
          "06:05:00",
          "06:10:00",
          "06:15:00",
          "06:17:00",
          "06:18:00",
          "06:20:00",
          "06:22:00",
          "06:25:00",
          "06:27:00",
          "06:29:00",
          "06:30:00",
          "06:32:00",
          "06:33:00",
          "06:35:00",
          "06:38:00",
          "06:39:00",
          "06:40:00",
          "06:42:00",
          "06:45:00",
          "06:46:00",
          "06:49:00",
          "06:50:00",
          "06:52:00",
          "06:53:00",
          "06:55:00",
          "06:56:00",
          "06:58:00",
          "07:00:00",
          "07:01:00",
          "07:03:00",
          "07:05:00",
          "07:06:00",
          "07:07:00",
          "07:08:00",
          "07:09:00",
          "07:10:00",
          "07:13:00",
          "07:14:00",
          "07:15:00",
          "07:16:00",
          "07:17:00",
          "07:20:00",
          "07:21:00",
          "07:22:00",
          "07:23:00",
          "07:25:00",
          "07:29:00",
          "07:30:00",
          "07:31:00",
          "07:34:00",
          "07:35:00",
          "07:37:00",
          "07:38:00",
          "07:39:00",
          "07:40:00",
          "07:42:00",
          "07:44:00",
          "07:45:00",
          "07:48:00",
          "07:49:00",
          "07:50:00",
          "07:51:00",
          "07:52:00",
          "07:53:00",
          "07:55:00",
          "07:58:00",
          "08:00:00",
          "08:02:00",
          "08:03:00",
          "08:05:00",
          "08:06:00",
          "08:07:00",
          "08:10:00",
          "08:11:00",
          "08:13:00",
          "08:15:00",
          "08:16:00",
          "08:18:00",
          "08:19:00",
          "08:20:00",
          "08:23:00",
          "08:25:00",
          "08:27:00",
          "08:29:00",
          "08:30:00",
          "08:35:00",
          "08:40:00",
          "08:45:00",
          "08:50:00",
          "08:51:00",
          "08:54:00",
          "08:55:00",
          "08:57:00",
          "08:58:00",
          "08:59:00",
          "09:00:00",
          "09:01:00",
          "09:05:00",
          "09:06:00",
          "09:07:00",
          "09:08:00",
          "09:10:00",
          "09:11:00",
          "09:15:00",
          "09:17:00",
          "09:19:00",
          "09:20:00",
          "09:22:00",
          "09:23:00",
          "09:24:00",
          "09:25:00",
          "09:27:00",
          "09:28:00",
          "09:30:00",
          "09:32:00",
          "09:35:00",
          "09:38:00",
          "09:40:00",
          "09:45:00",
          "09:50:00",
          "09:53:00",
          "09:55:00",
          "09:58:00",
          "09:59:00",
          "10:00:00",
          "10:01:00",
          "10:05:00",
          "10:07:00",
          "10:10:00",
          "10:15:00",
          "10:16:00",
          "10:17:00",
          "10:20:00",
          "10:21:00",
          "10:24:00",
          "10:25:00",
          "10:26:00",
          "10:27:00",
          "10:28:00",
          "10:30:00",
          "10:33:00",
          "10:34:00",
          "10:35:00",
          "10:40:00",
          "10:45:00",
          "10:48:00",
          "10:50:00",
          "10:54:00",
          "10:55:00",
          "10:56:00",
          "10:59:00",
          "11:00:00",
          "11:03:00",
          "11:05:00",
          "11:07:00",
          "11:10:00",
          "11:12:00",
          "11:13:00",
          "11:14:00",
          "11:15:00",
          "11:18:00",
          "11:20:00",
          "11:23:00",
          "11:25:00",
          "11:26:00",
          "11:28:00",
          "11:30:00",
          "11:31:00",
          "11:34:00",
          "11:35:00",
          "11:36:00",
          "11:40:00",
          "11:42:00",
          "11:45:00",
          "11:46:00",
          "11:50:00",
          "11:52:00",
          "11:55:00",
          "11:58:00",
          "11:59:00",
          "12:00:00",
          "12:05:00",
          "12:07:00",
          "12:08:00",
          "12:10:00",
          "12:13:00",
          "12:14:00",
          "12:15:00",
          "12:17:00",
          "12:20:00",
          "12:22:00",
          "12:24:00",
          "12:25:00",
          "12:27:00",
          "12:28:00",
          "12:30:00",
          "12:35:00",
          "12:36:00",
          "12:40:00",
          "12:41:00",
          "12:45:00",
          "12:48:00",
          "12:50:00",
          "12:52:00",
          "12:53:00",
          "12:55:00",
          "12:58:00",
          "13:00:00",
          "13:01:00",
          "13:02:00",
          "13:03:00",
          "13:04:00",
          "13:05:00",
          "13:06:00",
          "13:07:00",
          "13:10:00",
          "13:12:00",
          "13:15:00",
          "13:19:00",
          "13:20:00",
          "13:22:00",
          "13:24:00",
          "13:25:00",
          "13:28:00",
          "13:30:00",
          "13:32:00",
          "13:33:00",
          "13:35:00",
          "13:36:00",
          "13:40:00",
          "13:44:00",
          "13:45:00",
          "13:50:00",
          "13:55:00",
          "13:57:00",
          "14:00:00",
          "14:02:00",
          "14:03:00",
          "14:04:00",
          "14:05:00",
          "14:06:00",
          "14:09:00",
          "14:10:00",
          "14:13:00",
          "14:15:00",
          "14:18:00",
          "14:19:00",
          "14:20:00",
          "14:22:00",
          "14:24:00",
          "14:25:00",
          "14:26:00",
          "14:29:00",
          "14:30:00",
          "14:34:00",
          "14:35:00",
          "14:38:00",
          "14:40:00",
          "14:45:00",
          "14:46:00",
          "14:50:00",
          "14:52:00",
          "14:55:00",
          "14:59:00",
          "15:00:00",
          "15:02:00",
          "15:03:00",
          "15:05:00",
          "15:06:00",
          "15:07:00",
          "15:08:00",
          "15:09:00",
          "15:10:00",
          "15:13:00",
          "15:15:00",
          "15:16:00",
          "15:18:00",
          "15:20:00",
          "15:24:00",
          "15:25:00",
          "15:29:00",
          "15:30:00",
          "15:31:00",
          "15:35:00",
          "15:36:00",
          "15:37:00",
          "15:38:00",
          "15:40:00",
          "15:43:00",
          "15:45:00",
          "15:50:00",
          "15:53:00",
          "15:55:00",
          "15:58:00",
          "16:00:00",
          "16:05:00",
          "16:06:00",
          "16:07:00",
          "16:10:00",
          "16:11:00",
          "16:12:00",
          "16:14:00",
          "16:15:00",
          "16:17:00",
          "16:18:00",
          "16:20:00",
          "16:22:00",
          "16:25:00",
          "16:26:00",
          "16:27:00",
          "16:30:00",
          "16:31:00",
          "16:32:00",
          "16:33:00",
          "16:35:00",
          "16:37:00",
          "16:40:00",
          "16:41:00",
          "16:43:00",
          "16:45:00",
          "16:46:00",
          "16:47:00",
          "16:50:00",
          "16:55:00",
          "16:58:00",
          "16:59:00",
          "17:00:00",
          "17:05:00",
          "17:06:00",
          "17:07:00",
          "17:09:00",
          "17:10:00",
          "17:11:00",
          "17:14:00",
          "17:15:00",
          "17:20:00",
          "17:23:00",
          "17:25:00",
          "17:27:00",
          "17:30:00",
          "17:35:00",
          "17:36:00",
          "17:38:00",
          "17:39:00",
          "17:40:00",
          "17:42:00",
          "17:45:00",
          "17:48:00",
          "17:50:00",
          "17:52:00",
          "17:53:00",
          "17:55:00",
          "17:59:00",
          "18:00:00",
          "18:02:00",
          "18:05:00",
          "18:07:00",
          "18:10:00",
          "18:14:00",
          "18:15:00",
          "18:17:00",
          "18:20:00",
          "18:24:00",
          "18:25:00",
          "18:28:00",
          "18:30:00",
          "18:31:00",
          "18:34:00",
          "18:35:00",
          "18:36:00",
          "18:37:00",
          "18:40:00",
          "18:42:00",
          "18:43:00",
          "18:44:00",
          "18:45:00",
          "18:46:00",
          "18:48:00",
          "18:50:00",
          "18:54:00",
          "18:55:00",
          "18:56:00",
          "18:57:00",
          "19:00:00",
          "19:05:00",
          "19:08:00",
          "19:10:00",
          "19:11:00",
          "19:13:00",
          "19:14:00",
          "19:15:00",
          "19:16:00",
          "19:19:00",
          "19:20:00",
          "19:25:00",
          "19:26:00",
          "19:29:00",
          "19:30:00",
          "19:32:00",
          "19:35:00",
          "19:36:00",
          "19:39:00",
          "19:40:00",
          "19:43:00",
          "19:45:00",
          "19:49:00",
          "19:50:00",
          "19:55:00",
          "19:56:00",
          "19:58:00",
          "20:00:00",
          "20:04:00",
          "20:05:00",
          "20:07:00",
          "20:09:00",
          "20:10:00",
          "20:11:00",
          "20:14:00",
          "20:15:00",
          "20:17:00",
          "20:20:00",
          "20:25:00",
          "20:30:00",
          "20:35:00",
          "20:40:00",
          "20:45:00",
          "20:46:00",
          "20:48:00",
          "20:50:00",
          "20:55:00",
          "20:57:00",
          "20:59:00",
          "21:00:00",
          "21:05:00",
          "21:07:00",
          "21:09:00",
          "21:10:00",
          "21:11:00",
          "21:15:00",
          "21:18:00",
          "21:20:00",
          "21:23:00",
          "21:24:00",
          "21:25:00",
          "21:30:00",
          "21:31:00",
          "21:32:00",
          "21:33:00",
          "21:36:00",
          "21:37:00",
          "21:40:00",
          "21:41:00",
          "21:43:00",
          "21:45:00",
          "21:47:00",
          "21:50:00",
          "21:51:00",
          "22:00:00",
          "22:06:00",
          "22:08:00",
          "22:09:00",
          "22:10:00",
          "22:12:00",
          "22:14:00",
          "22:15:00",
          "22:18:00",
          "22:20:00",
          "22:22:00",
          "22:25:00",
          "22:30:00",
          "22:34:00",
          "22:35:00",
          "22:37:00",
          "22:38:00",
          "22:40:00",
          "22:42:00",
          "22:45:00",
          "22:50:00",
          "22:55:00",
          "22:56:00",
          "22:57:00",
          "22:59:00",
          "23:00:00",
          "23:05:00",
          "23:09:00",
          "23:10:00",
          "23:15:00",
          "23:16:00",
          "23:20:00",
          "23:25:00",
          "23:28:00",
          "23:30:00",
          "23:35:00",
          "23:40:00",
          "23:45:00",
          "23:50:00",
          "23:51:00",
          "23:55:00",
          "00:00:00",
          "00:01:00",
          "00:02:00",
          "00:05:00",
          "00:06:00",
          "00:08:00",
          "00:10:00",
          "00:11:00",
          "00:15:00",
          "00:20:00",
          "00:21:00",
          "00:27:00",
          "00:30:00",
          "00:32:00",
          "00:36:00",
          "00:40:00",
          "00:42:00",
          "00:45:00",
          "00:50:00",
          "00:55:00",
          "00:56:00",
          "01:00:00",
          "01:01:00",
          "01:10:00",
          "01:15:00",
          "01:20:00",
          "01:23:00",
          "01:30:00",
          "01:40:00",
          "01:41:00",
          "01:45:00",
          "01:49:00",
          "01:50:00",
          "01:55:00",
          "01:56:00",
          "02:00:00",
          "02:01:00",
          "02:05:00",
          "02:06:00",
          "02:10:00",
          "02:15:00",
          "02:20:00",
          "02:23:00",
          "02:30:00",
          "02:35:00",
          "02:40:00",
          "02:45:00",
          "02:50:00",
          "02:55:00",
          "03:00:00",
          "03:06:00",
          "03:10:00",
          "03:15:00",
          "03:20:00",
          "03:30:00",
          "03:33:00",
          "03:35:00",
          "03:40:00",
          "03:43:00",
          "03:45:00",
          "03:48:00",
          "03:50:00",
          "03:55:00",
          "04:00:00",
          "04:08:00",
          "04:10:00",
          "04:15:00",
          "04:17:00",
          "04:20:00",
          "04:28:00",
          "04:30:00",
          "04:31:00",
          "04:34:00",
          "04:35:00",
          "04:39:00",
          "04:40:00",
          "04:42:00",
          "04:45:00",
          "04:50:00",
          "04:52:00",
          "05:00:00",
          "05:10:00",
          "05:15:00",
          "05:20:00",
          "05:25:00",
          "05:26:00",
          "05:30:00",
          "05:33:00",
          "05:36:00",
          "05:40:00",
          "05:42:00",
          "05:44:00",
          "05:45:00",
          "05:49:00",
          "05:50:00",
          "05:54:00",
          "05:55:00",
          "05:57:00",
          "06:00:00",
          "06:04:00",
          "06:05:00",
          "06:10:00",
          "06:11:00",
          "06:14:00",
          "06:15:00",
          "06:16:00",
          "06:18:00",
          "06:19:00",
          "06:20:00",
          "06:24:00",
          "06:25:00",
          "06:27:00",
          "06:30:00",
          "06:34:00",
          "06:35:00",
          "06:37:00",
          "06:40:00",
          "06:41:00",
          "06:43:00",
          "06:45:00",
          "06:50:00",
          "06:52:00",
          "06:54:00",
          "06:55:00",
          "07:00:00",
          "07:01:00",
          "07:02:00",
          "07:03:00",
          "07:05:00",
          "07:07:00",
          "07:08:00",
          "07:09:00",
          "07:10:00",
          "07:11:00",
          "07:13:00",
          "07:14:00",
          "07:15:00",
          "07:17:00",
          "07:19:00",
          "07:20:00",
          "07:23:00",
          "07:25:00",
          "07:28:00",
          "07:29:00",
          "07:30:00",
          "07:32:00",
          "07:33:00",
          "07:35:00",
          "07:37:00",
          "07:38:00",
          "07:40:00",
          "07:41:00",
          "07:42:00",
          "07:45:00",
          "07:46:00",
          "07:48:00",
          "07:50:00",
          "07:55:00",
          "07:56:00",
          "07:57:00",
          "07:59:00",
          "08:00:00",
          "08:01:00",
          "08:02:00",
          "08:03:00",
          "08:04:00",
          "08:05:00",
          "08:07:00",
          "08:09:00",
          "08:10:00",
          "08:12:00",
          "08:15:00",
          "08:18:00",
          "08:20:00",
          "08:23:00",
          "08:25:00",
          "08:27:00",
          "08:28:00",
          "08:29:00",
          "08:30:00",
          "08:34:00",
          "08:35:00",
          "08:40:00",
          "08:41:00",
          "08:43:00",
          "08:44:00",
          "08:45:00",
          "08:46:00",
          "08:48:00",
          "08:50:00",
          "08:52:00",
          "08:55:00",
          "08:56:00",
          "09:00:00",
          "09:03:00",
          "09:05:00",
          "09:06:00",
          "09:09:00",
          "09:10:00",
          "09:15:00",
          "09:20:00",
          "09:25:00",
          "09:29:00",
          "09:30:00",
          "09:34:00",
          "09:35:00",
          "09:40:00",
          "09:43:00",
          "09:45:00",
          "09:48:00",
          "09:49:00",
          "09:50:00",
          "09:51:00",
          "09:52:00",
          "09:54:00",
          "09:55:00",
          "09:57:00",
          "10:00:00",
          "10:05:00",
          "10:10:00",
          "10:11:00",
          "10:13:00",
          "10:15:00",
          "10:16:00",
          "10:19:00",
          "10:20:00",
          "10:25:00",
          "10:30:00",
          "10:35:00",
          "10:36:00",
          "10:38:00",
          "10:40:00",
          "10:45:00",
          "10:48:00",
          "10:49:00",
          "10:50:00",
          "10:51:00",
          "10:55:00",
          "10:57:00",
          "11:00:00",
          "11:03:00",
          "11:04:00",
          "11:05:00",
          "11:06:00",
          "11:08:00",
          "11:10:00",
          "11:15:00",
          "11:19:00",
          "11:20:00",
          "11:21:00",
          "11:24:00",
          "11:25:00",
          "11:27:00",
          "11:30:00",
          "11:31:00",
          "11:34:00",
          "11:35:00",
          "11:40:00",
          "11:44:00",
          "11:45:00",
          "11:47:00",
          "11:48:00",
          "11:50:00",
          "11:52:00",
          "11:55:00",
          "11:57:00",
          "11:59:00",
          "12:00:00",
          "12:05:00",
          "12:06:00",
          "12:08:00",
          "12:10:00",
          "12:15:00",
          "12:17:00",
          "12:18:00",
          "12:20:00",
          "12:22:00",
          "12:25:00",
          "12:27:00",
          "12:29:00",
          "12:30:00",
          "12:32:00",
          "12:35:00",
          "12:38:00",
          "12:39:00",
          "12:40:00",
          "12:45:00",
          "12:50:00",
          "12:53:00",
          "12:55:00",
          "13:00:00",
          "13:05:00",
          "13:07:00",
          "13:09:00",
          "13:10:00",
          "13:11:00",
          "13:12:00",
          "13:14:00",
          "13:15:00",
          "13:18:00",
          "13:20:00",
          "13:23:00",
          "13:24:00",
          "13:25:00",
          "13:27:00",
          "13:29:00",
          "13:30:00",
          "13:33:00",
          "13:35:00",
          "13:40:00",
          "13:44:00",
          "13:45:00",
          "13:50:00",
          "13:52:00",
          "13:53:00",
          "13:54:00",
          "13:55:00",
          "13:58:00",
          "13:59:00",
          "14:00:00",
          "14:03:00",
          "14:04:00",
          "14:05:00",
          "14:06:00",
          "14:07:00",
          "14:08:00",
          "14:09:00",
          "14:10:00",
          "14:14:00",
          "14:15:00",
          "14:18:00",
          "14:20:00",
          "14:22:00",
          "14:24:00",
          "14:25:00",
          "14:30:00",
          "14:31:00",
          "14:33:00",
          "14:35:00",
          "14:38:00",
          "14:39:00",
          "14:40:00",
          "14:45:00",
          "14:50:00",
          "14:52:00",
          "14:54:00",
          "14:55:00",
          "14:56:00",
          "14:57:00",
          "14:58:00",
          "14:59:00",
          "15:00:00",
          "15:03:00",
          "15:05:00",
          "15:09:00",
          "15:10:00",
          "15:11:00",
          "15:13:00",
          "15:14:00",
          "15:15:00",
          "15:16:00",
          "15:17:00",
          "15:19:00",
          "15:20:00",
          "15:22:00",
          "15:23:00",
          "15:25:00",
          "15:30:00",
          "15:35:00",
          "15:36:00",
          "15:37:00",
          "15:38:00",
          "15:40:00",
          "15:44:00",
          "15:45:00",
          "15:48:00",
          "15:50:00",
          "15:53:00",
          "15:55:00",
          "15:57:00",
          "16:00:00",
          "16:01:00",
          "16:02:00",
          "16:05:00",
          "16:06:00",
          "16:08:00",
          "16:10:00",
          "16:14:00",
          "16:15:00",
          "16:18:00",
          "16:20:00",
          "16:23:00",
          "16:25:00",
          "16:29:00",
          "16:30:00",
          "16:35:00",
          "16:37:00",
          "16:39:00",
          "16:40:00",
          "16:44:00",
          "16:45:00",
          "16:50:00",
          "16:52:00",
          "16:54:00",
          "16:55:00",
          "16:56:00",
          "17:00:00",
          "17:04:00",
          "17:05:00",
          "17:07:00",
          "17:08:00",
          "17:10:00",
          "17:15:00",
          "17:17:00",
          "17:18:00",
          "17:20:00",
          "17:23:00",
          "17:25:00",
          "17:29:00",
          "17:30:00",
          "17:31:00",
          "17:32:00",
          "17:34:00",
          "17:35:00",
          "17:38:00",
          "17:39:00",
          "17:40:00",
          "17:42:00",
          "17:45:00",
          "17:46:00",
          "17:47:00",
          "17:48:00",
          "17:49:00",
          "17:50:00",
          "17:55:00",
          "17:57:00",
          "17:58:00",
          "18:00:00",
          "18:05:00",
          "18:06:00",
          "18:10:00",
          "18:11:00",
          "18:14:00",
          "18:15:00",
          "18:16:00",
          "18:20:00",
          "18:21:00",
          "18:22:00",
          "18:25:00",
          "18:26:00",
          "18:27:00",
          "18:28:00",
          "18:29:00",
          "18:30:00",
          "18:31:00",
          "18:33:00",
          "18:35:00",
          "18:36:00",
          "18:38:00",
          "18:39:00",
          "18:40:00",
          "18:41:00",
          "18:42:00",
          "18:44:00",
          "18:45:00",
          "18:48:00",
          "18:49:00",
          "18:50:00",
          "18:53:00",
          "18:55:00",
          "18:56:00",
          "18:57:00",
          "18:58:00",
          "19:00:00",
          "19:01:00",
          "19:04:00",
          "19:05:00",
          "19:10:00",
          "19:13:00",
          "19:14:00",
          "19:15:00",
          "19:16:00",
          "19:19:00",
          "19:20:00",
          "19:22:00",
          "19:24:00",
          "19:25:00",
          "19:26:00",
          "19:27:00",
          "19:30:00",
          "19:35:00",
          "19:40:00",
          "19:42:00",
          "19:43:00",
          "19:44:00",
          "19:45:00",
          "19:48:00",
          "19:50:00",
          "19:53:00",
          "19:54:00",
          "19:55:00",
          "19:58:00",
          "20:00:00",
          "20:02:00",
          "20:03:00",
          "20:05:00",
          "20:06:00",
          "20:10:00",
          "20:15:00",
          "20:16:00",
          "20:20:00",
          "20:23:00",
          "20:25:00",
          "20:30:00",
          "20:34:00",
          "20:35:00",
          "20:37:00",
          "20:40:00",
          "20:45:00",
          "20:46:00",
          "20:50:00",
          "20:53:00",
          "20:55:00",
          "20:58:00",
          "21:00:00",
          "21:05:00",
          "21:07:00",
          "21:09:00",
          "21:10:00",
          "21:15:00",
          "21:20:00",
          "21:25:00",
          "21:26:00",
          "21:27:00",
          "21:28:00",
          "21:30:00",
          "21:35:00",
          "21:40:00",
          "21:41:00",
          "21:45:00",
          "21:50:00",
          "21:59:00",
          "22:00:00",
          "22:01:00",
          "22:05:00",
          "22:10:00",
          "22:12:00",
          "22:15:00",
          "22:17:00",
          "22:18:00",
          "22:20:00",
          "22:24:00",
          "22:25:00",
          "22:28:00",
          "22:29:00",
          "22:30:00",
          "22:31:00",
          "22:35:00",
          "22:40:00",
          "22:43:00",
          "22:45:00",
          "22:47:00",
          "22:50:00",
          "22:55:00",
          "23:00:00",
          "23:05:00",
          "23:09:00",
          "23:10:00",
          "23:15:00",
          "23:20:00",
          "23:24:00",
          "23:25:00",
          "23:26:00",
          "23:27:00",
          "23:30:00",
          "23:35:00",
          "23:36:00",
          "23:38:00",
          "23:40:00",
          "23:44:00",
          "23:45:00",
          "23:47:00",
          "23:50:00",
          "23:53:00",
          "23:55:00",
          "23:59:00",
          "00:00:00",
          "00:01:00",
          "00:05:00",
          "00:10:00",
          "00:12:00",
          "00:15:00",
          "00:19:00",
          "00:20:00",
          "00:30:00",
          "00:31:00",
          "00:33:00",
          "00:34:00",
          "00:35:00",
          "00:37:00",
          "00:45:00",
          "00:50:00",
          "00:55:00",
          "01:00:00",
          "01:05:00",
          "01:06:00",
          "01:10:00",
          "01:14:00",
          "01:15:00",
          "01:20:00",
          "01:21:00",
          "01:30:00",
          "01:35:00",
          "01:41:00",
          "01:45:00",
          "01:50:00",
          "01:54:00",
          "02:00:00",
          "02:05:00",
          "02:10:00",
          "02:15:00",
          "02:20:00",
          "02:30:00",
          "02:35:00",
          "02:40:00",
          "02:45:00",
          "02:50:00",
          "02:55:00",
          "03:00:00",
          "03:05:00",
          "03:10:00",
          "03:13:00",
          "03:15:00",
          "03:20:00",
          "03:30:00",
          "03:35:00",
          "03:40:00",
          "03:45:00",
          "03:48:00",
          "03:50:00",
          "03:59:00",
          "04:00:00",
          "04:10:00",
          "04:14:00",
          "04:15:00",
          "04:20:00",
          "04:23:00",
          "04:25:00",
          "04:30:00",
          "04:32:00",
          "04:35:00",
          "04:38:00",
          "04:40:00",
          "04:45:00",
          "04:50:00",
          "04:52:00",
          "04:55:00",
          "05:00:00",
          "05:02:00",
          "05:07:00",
          "05:08:00",
          "05:10:00",
          "05:15:00",
          "05:20:00",
          "05:22:00",
          "05:25:00",
          "05:30:00",
          "05:31:00",
          "05:33:00",
          "05:35:00",
          "05:37:00",
          "05:40:00",
          "05:45:00",
          "05:46:00",
          "05:48:00",
          "05:49:00",
          "05:50:00",
          "05:52:00",
          "05:55:00",
          "05:57:00",
          "06:00:00",
          "06:02:00",
          "06:05:00",
          "06:06:00",
          "06:08:00",
          "06:09:00",
          "06:10:00",
          "06:11:00",
          "06:12:00",
          "06:15:00",
          "06:19:00",
          "06:20:00",
          "06:21:00",
          "06:23:00",
          "06:25:00",
          "06:28:00",
          "06:30:00",
          "06:33:00",
          "06:35:00",
          "06:37:00",
          "06:40:00",
          "06:41:00",
          "06:45:00",
          "06:47:00",
          "06:48:00",
          "06:50:00",
          "06:51:00",
          "06:52:00",
          "06:54:00",
          "06:55:00",
          "06:57:00",
          "06:58:00",
          "06:59:00",
          "07:00:00",
          "07:01:00",
          "07:03:00",
          "07:04:00",
          "07:05:00",
          "07:08:00",
          "07:10:00",
          "07:11:00",
          "07:12:00",
          "07:15:00",
          "07:19:00",
          "07:20:00",
          "07:25:00",
          "07:27:00",
          "07:29:00",
          "07:30:00",
          "07:32:00",
          "07:35:00",
          "07:36:00",
          "07:40:00",
          "07:42:00",
          "07:45:00",
          "07:47:00",
          "07:48:00",
          "07:49:00",
          "07:50:00",
          "07:52:00",
          "07:53:00",
          "07:55:00",
          "07:57:00",
          "07:58:00",
          "08:00:00",
          "08:02:00",
          "08:05:00",
          "08:07:00",
          "08:09:00",
          "08:10:00",
          "08:11:00",
          "08:15:00",
          "08:16:00",
          "08:17:00",
          "08:20:00",
          "08:25:00",
          "08:26:00",
          "08:27:00",
          "08:28:00",
          "08:29:00",
          "08:30:00",
          "08:31:00",
          "08:32:00",
          "08:35:00",
          "08:37:00",
          "08:39:00",
          "08:40:00",
          "08:45:00",
          "08:46:00",
          "08:49:00",
          "08:50:00",
          "08:55:00",
          "08:58:00",
          "08:59:00",
          "09:00:00",
          "09:02:00",
          "09:03:00",
          "09:05:00",
          "09:10:00",
          "09:12:00",
          "09:13:00",
          "09:15:00",
          "09:19:00",
          "09:20:00",
          "09:22:00",
          "09:23:00",
          "09:25:00",
          "09:26:00",
          "09:29:00",
          "09:30:00",
          "09:32:00",
          "09:33:00",
          "09:35:00",
          "09:40:00",
          "09:41:00",
          "09:42:00",
          "09:45:00",
          "09:47:00",
          "09:49:00",
          "09:50:00",
          "09:52:00",
          "09:54:00",
          "09:55:00",
          "09:57:00",
          "10:00:00",
          "10:01:00",
          "10:05:00",
          "10:09:00",
          "10:10:00",
          "10:12:00",
          "10:15:00",
          "10:17:00",
          "10:19:00",
          "10:20:00",
          "10:21:00",
          "10:23:00",
          "10:25:00",
          "10:27:00",
          "10:30:00",
          "10:31:00",
          "10:33:00",
          "10:35:00",
          "10:37:00",
          "10:38:00",
          "10:39:00",
          "10:40:00",
          "10:42:00",
          "10:45:00",
          "10:48:00",
          "10:50:00",
          "10:51:00",
          "10:52:00",
          "10:53:00",
          "10:55:00",
          "10:57:00",
          "11:00:00",
          "11:05:00",
          "11:07:00",
          "11:09:00",
          "11:10:00",
          "11:15:00",
          "11:20:00",
          "11:25:00",
          "11:26:00",
          "11:29:00",
          "11:30:00",
          "11:31:00",
          "11:35:00",
          "11:39:00",
          "11:40:00",
          "11:43:00",
          "11:45:00",
          "11:46:00",
          "11:50:00",
          "11:51:00",
          "11:52:00",
          "11:55:00",
          "12:00:00",
          "12:02:00",
          "12:05:00",
          "12:07:00",
          "12:10:00",
          "12:12:00",
          "12:15:00",
          "12:17:00",
          "12:20:00",
          "12:24:00",
          "12:25:00",
          "12:27:00",
          "12:30:00",
          "12:31:00",
          "12:33:00",
          "12:35:00",
          "12:38:00",
          "12:39:00",
          "12:40:00",
          "12:43:00",
          "12:45:00",
          "12:46:00",
          "12:48:00",
          "12:49:00",
          "12:50:00",
          "12:51:00",
          "12:55:00",
          "12:57:00",
          "13:00:00",
          "13:05:00",
          "13:08:00",
          "13:10:00",
          "13:13:00",
          "13:14:00",
          "13:15:00",
          "13:16:00",
          "13:20:00",
          "13:25:00",
          "13:27:00",
          "13:29:00",
          "13:30:00",
          "13:31:00",
          "13:33:00",
          "13:35:00",
          "13:38:00",
          "13:40:00",
          "13:43:00",
          "13:45:00",
          "13:47:00",
          "13:48:00",
          "13:50:00",
          "13:55:00",
          "13:58:00",
          "14:00:00",
          "14:04:00",
          "14:05:00",
          "14:10:00",
          "14:12:00",
          "14:14:00",
          "14:15:00",
          "14:18:00",
          "14:20:00",
          "14:22:00",
          "14:25:00",
          "14:26:00",
          "14:30:00",
          "14:34:00",
          "14:35:00",
          "14:38:00",
          "14:40:00",
          "14:41:00",
          "14:42:00",
          "14:43:00",
          "14:45:00",
          "14:48:00",
          "14:49:00",
          "14:50:00",
          "14:55:00",
          "14:56:00",
          "14:57:00",
          "15:00:00",
          "15:01:00",
          "15:02:00",
          "15:04:00",
          "15:05:00",
          "15:09:00",
          "15:10:00",
          "15:11:00",
          "15:15:00",
          "15:20:00",
          "15:21:00",
          "15:23:00",
          "15:25:00",
          "15:27:00",
          "15:29:00",
          "15:30:00",
          "15:35:00",
          "15:39:00",
          "15:40:00",
          "15:42:00",
          "15:45:00",
          "15:50:00",
          "15:51:00",
          "15:55:00",
          "15:57:00",
          "16:00:00",
          "16:05:00",
          "16:10:00",
          "16:11:00",
          "16:15:00",
          "16:20:00",
          "16:25:00",
          "16:26:00",
          "16:30:00",
          "16:31:00",
          "16:32:00",
          "16:34:00",
          "16:35:00",
          "16:36:00",
          "16:38:00",
          "16:40:00",
          "16:42:00",
          "16:44:00",
          "16:45:00",
          "16:46:00",
          "16:50:00",
          "16:52:00",
          "16:53:00",
          "16:55:00",
          "17:00:00",
          "17:01:00",
          "17:02:00",
          "17:05:00",
          "17:07:00",
          "17:09:00",
          "17:10:00",
          "17:11:00",
          "17:12:00",
          "17:15:00",
          "17:18:00",
          "17:20:00",
          "17:21:00",
          "17:22:00",
          "17:25:00",
          "17:28:00",
          "17:29:00",
          "17:30:00",
          "17:33:00",
          "17:34:00",
          "17:35:00",
          "17:40:00",
          "17:42:00",
          "17:43:00",
          "17:45:00",
          "17:48:00",
          "17:49:00",
          "17:50:00",
          "17:51:00",
          "17:52:00",
          "17:54:00",
          "17:55:00",
          "17:57:00",
          "17:58:00",
          "17:59:00",
          "18:00:00",
          "18:03:00",
          "18:05:00",
          "18:10:00",
          "18:11:00",
          "18:12:00",
          "18:13:00",
          "18:15:00",
          "18:19:00",
          "18:20:00",
          "18:22:00",
          "18:23:00",
          "18:24:00",
          "18:25:00",
          "18:26:00",
          "18:28:00",
          "18:30:00",
          "18:33:00",
          "18:35:00",
          "18:37:00",
          "18:40:00",
          "18:42:00",
          "18:43:00",
          "18:45:00",
          "18:50:00",
          "18:51:00",
          "18:52:00",
          "18:55:00",
          "18:56:00",
          "18:58:00",
          "19:00:00",
          "19:02:00",
          "19:05:00",
          "19:06:00",
          "19:07:00",
          "19:09:00",
          "19:10:00",
          "19:14:00",
          "19:15:00",
          "19:16:00",
          "19:18:00",
          "19:19:00",
          "19:20:00",
          "19:22:00",
          "19:23:00",
          "19:25:00",
          "19:26:00",
          "19:27:00",
          "19:28:00",
          "19:30:00",
          "19:32:00",
          "19:33:00",
          "19:35:00",
          "19:37:00",
          "19:40:00",
          "19:43:00",
          "19:44:00",
          "19:45:00",
          "19:46:00",
          "19:47:00",
          "19:49:00",
          "19:50:00",
          "19:51:00",
          "19:53:00",
          "19:55:00",
          "20:00:00",
          "20:03:00",
          "20:04:00",
          "20:05:00",
          "20:06:00",
          "20:07:00",
          "20:10:00",
          "20:11:00",
          "20:15:00",
          "20:20:00",
          "20:23:00",
          "20:25:00",
          "20:28:00",
          "20:30:00",
          "20:33:00",
          "20:34:00",
          "20:35:00",
          "20:36:00",
          "20:39:00",
          "20:40:00",
          "20:42:00",
          "20:43:00",
          "20:44:00",
          "20:45:00",
          "20:47:00",
          "20:48:00",
          "20:50:00",
          "20:52:00",
          "20:53:00",
          "21:00:00",
          "21:02:00",
          "21:04:00",
          "21:05:00",
          "21:08:00",
          "21:10:00",
          "21:12:00",
          "21:15:00",
          "21:16:00",
          "21:20:00",
          "21:25:00",
          "21:28:00",
          "21:30:00",
          "21:35:00",
          "21:37:00",
          "21:38:00",
          "21:40:00",
          "21:44:00",
          "21:45:00",
          "21:46:00",
          "21:50:00",
          "21:55:00",
          "21:58:00",
          "22:00:00",
          "22:03:00",
          "22:05:00",
          "22:07:00",
          "22:10:00",
          "22:15:00",
          "22:20:00",
          "22:21:00",
          "22:22:00",
          "22:25:00",
          "22:26:00",
          "22:27:00",
          "22:30:00",
          "22:32:00",
          "22:34:00",
          "22:35:00",
          "22:36:00",
          "22:37:00",
          "22:38:00",
          "22:39:00",
          "22:40:00",
          "22:45:00",
          "22:46:00",
          "22:50:00",
          "22:53:00",
          "22:54:00",
          "22:55:00",
          "23:00:00",
          "23:05:00",
          "23:09:00",
          "23:10:00",
          "23:11:00",
          "23:15:00",
          "23:19:00",
          "23:20:00",
          "23:21:00",
          "23:24:00",
          "23:25:00",
          "23:30:00",
          "23:32:00",
          "23:35:00",
          "23:38:00",
          "23:40:00",
          "23:41:00",
          "23:42:00",
          "23:45:00",
          "23:46:00",
          "23:48:00",
          "23:50:00",
          "23:54:00",
          "23:55:00",
          "23:58:00",
          "00:00:00",
          "00:01:00",
          "00:03:00",
          "00:04:00",
          "00:05:00",
          "00:10:00",
          "00:11:00",
          "00:12:00",
          "00:13:00",
          "00:15:00",
          "00:18:00",
          "00:20:00",
          "00:25:00",
          "00:29:00",
          "00:30:00",
          "00:35:00",
          "00:40:00",
          "00:41:00",
          "00:45:00",
          "00:46:00",
          "00:48:00",
          "00:50:00",
          "00:52:00",
          "00:55:00",
          "01:00:00",
          "01:04:00",
          "01:05:00",
          "01:10:00",
          "01:15:00",
          "01:16:00",
          "01:20:00",
          "01:26:00",
          "01:28:00",
          "01:30:00",
          "01:35:00",
          "01:37:00",
          "01:40:00",
          "01:43:00",
          "01:45:00",
          "01:50:00",
          "01:58:00",
          "02:00:00",
          "02:03:00",
          "02:05:00",
          "02:10:00",
          "02:15:00",
          "02:16:00",
          "02:17:00",
          "02:20:00",
          "02:23:00",
          "02:24:00",
          "02:25:00",
          "02:30:00",
          "02:35:00",
          "02:40:00",
          "02:45:00",
          "02:47:00",
          "02:50:00",
          "02:51:00",
          "02:52:00",
          "02:53:00",
          "02:55:00",
          "03:00:00",
          "03:05:00",
          "03:08:00",
          "03:10:00",
          "03:15:00",
          "03:17:00",
          "03:19:00",
          "03:20:00",
          "03:24:00",
          "03:25:00",
          "03:27:00",
          "03:30:00",
          "03:35:00",
          "03:40:00",
          "03:45:00",
          "03:50:00",
          "03:55:00",
          "04:00:00",
          "04:05:00",
          "04:06:00",
          "04:10:00",
          "04:15:00",
          "04:18:00",
          "04:20:00",
          "04:23:00",
          "04:24:00",
          "04:25:00",
          "04:26:00",
          "04:30:00",
          "04:35:00",
          "04:36:00",
          "04:40:00",
          "04:45:00",
          "04:50:00",
          "04:55:00",
          "04:57:00",
          "05:00:00",
          "05:05:00",
          "05:08:00",
          "05:10:00",
          "05:12:00",
          "05:14:00",
          "05:15:00",
          "05:17:00",
          "05:20:00",
          "05:25:00",
          "05:30:00",
          "05:37:00",
          "05:38:00",
          "05:39:00",
          "05:40:00",
          "05:45:00",
          "05:48:00",
          "05:50:00",
          "05:52:00",
          "05:54:00",
          "05:55:00",
          "05:59:00",
          "06:00:00",
          "06:05:00",
          "06:10:00",
          "06:13:00",
          "06:15:00",
          "06:18:00",
          "06:19:00",
          "06:20:00",
          "06:22:00",
          "06:23:00",
          "06:24:00",
          "06:25:00",
          "06:30:00",
          "06:34:00",
          "06:35:00",
          "06:38:00",
          "06:40:00",
          "06:42:00",
          "06:45:00",
          "06:50:00",
          "06:52:00",
          "06:55:00",
          "06:57:00",
          "06:58:00",
          "07:00:00",
          "07:02:00",
          "07:05:00",
          "07:07:00",
          "07:10:00",
          "07:12:00",
          "07:15:00",
          "07:17:00",
          "07:19:00",
          "07:20:00",
          "07:22:00",
          "07:25:00",
          "07:28:00",
          "07:29:00",
          "07:30:00",
          "07:31:00",
          "07:35:00",
          "07:36:00",
          "07:38:00",
          "07:40:00",
          "07:42:00",
          "07:45:00",
          "07:50:00",
          "07:52:00",
          "07:55:00",
          "07:56:00",
          "07:57:00",
          "07:59:00",
          "08:00:00",
          "08:03:00",
          "08:05:00",
          "08:10:00",
          "08:13:00",
          "08:14:00",
          "08:15:00",
          "08:16:00",
          "08:18:00",
          "08:20:00",
          "08:21:00",
          "08:25:00",
          "08:30:00",
          "08:32:00",
          "08:35:00",
          "08:38:00",
          "08:40:00",
          "08:44:00",
          "08:45:00",
          "08:47:00",
          "08:48:00",
          "08:50:00",
          "08:51:00",
          "08:53:00",
          "08:54:00",
          "08:55:00",
          "08:56:00",
          "09:00:00",
          "09:03:00",
          "09:05:00",
          "09:09:00",
          "09:10:00",
          "09:11:00",
          "09:15:00",
          "09:17:00",
          "09:18:00",
          "09:19:00",
          "09:20:00",
          "09:23:00",
          "09:24:00",
          "09:25:00",
          "09:29:00",
          "09:30:00",
          "09:35:00",
          "09:40:00",
          "09:41:00",
          "09:44:00",
          "09:45:00",
          "09:47:00",
          "09:50:00",
          "09:51:00",
          "09:55:00",
          "09:57:00",
          "09:58:00",
          "10:00:00",
          "10:02:00",
          "10:05:00",
          "10:06:00",
          "10:07:00",
          "10:08:00",
          "10:10:00",
          "10:11:00",
          "10:15:00",
          "10:16:00",
          "10:20:00",
          "10:22:00",
          "10:25:00",
          "10:30:00",
          "10:34:00",
          "10:35:00",
          "10:40:00",
          "10:43:00",
          "10:45:00",
          "10:50:00",
          "10:55:00",
          "11:00:00",
          "11:03:00",
          "11:05:00",
          "11:07:00",
          "11:08:00",
          "11:09:00",
          "11:10:00",
          "11:12:00",
          "11:15:00",
          "11:17:00",
          "11:20:00",
          "11:23:00",
          "11:24:00",
          "11:25:00",
          "11:27:00",
          "11:29:00",
          "11:30:00",
          "11:34:00",
          "11:35:00",
          "11:40:00",
          "11:43:00",
          "11:44:00",
          "11:45:00",
          "11:49:00",
          "11:50:00",
          "11:54:00",
          "11:55:00",
          "11:56:00",
          "11:59:00",
          "12:00:00",
          "12:02:00",
          "12:03:00",
          "12:04:00",
          "12:05:00",
          "12:10:00",
          "12:15:00",
          "12:16:00",
          "12:19:00",
          "12:20:00",
          "12:25:00",
          "12:27:00",
          "12:30:00",
          "12:31:00",
          "12:32:00",
          "12:35:00",
          "12:37:00",
          "12:39:00",
          "12:40:00",
          "12:43:00",
          "12:44:00",
          "12:45:00",
          "12:47:00",
          "12:48:00",
          "12:49:00",
          "12:50:00",
          "12:55:00",
          "12:56:00",
          "13:00:00",
          "13:05:00",
          "13:07:00",
          "13:08:00",
          "13:10:00",
          "13:15:00",
          "13:17:00",
          "13:20:00",
          "13:24:00",
          "13:25:00",
          "13:28:00",
          "13:30:00",
          "13:34:00",
          "13:35:00",
          "13:39:00",
          "13:40:00",
          "13:44:00",
          "13:45:00",
          "13:49:00",
          "13:50:00",
          "13:55:00",
          "13:57:00",
          "13:59:00",
          "14:00:00",
          "14:05:00",
          "14:08:00",
          "14:10:00",
          "14:14:00",
          "14:15:00",
          "14:19:00",
          "14:20:00",
          "14:22:00",
          "14:25:00",
          "14:29:00",
          "14:30:00",
          "14:32:00",
          "14:35:00",
          "14:39:00",
          "14:40:00",
          "14:43:00",
          "14:45:00",
          "14:49:00",
          "14:50:00",
          "14:52:00",
          "14:54:00",
          "14:55:00",
          "14:57:00",
          "14:58:00",
          "15:00:00",
          "15:04:00",
          "15:05:00",
          "15:06:00",
          "15:10:00",
          "15:15:00",
          "15:16:00",
          "15:17:00",
          "15:20:00",
          "15:22:00",
          "15:25:00",
          "15:29:00",
          "15:30:00",
          "15:31:00",
          "15:32:00",
          "15:34:00",
          "15:35:00",
          "15:40:00",
          "15:41:00",
          "15:42:00",
          "15:43:00",
          "15:45:00",
          "15:46:00",
          "15:50:00",
          "15:53:00",
          "15:54:00",
          "15:55:00",
          "15:59:00",
          "16:00:00",
          "16:03:00",
          "16:05:00",
          "16:09:00",
          "16:10:00",
          "16:14:00",
          "16:15:00",
          "16:16:00",
          "16:18:00",
          "16:20:00",
          "16:22:00",
          "16:23:00",
          "16:25:00",
          "16:28:00",
          "16:29:00",
          "16:30:00",
          "16:32:00",
          "16:33:00",
          "16:35:00",
          "16:40:00",
          "16:43:00",
          "16:44:00",
          "16:45:00",
          "16:50:00",
          "16:51:00",
          "16:55:00",
          "16:57:00",
          "17:00:00",
          "17:03:00",
          "17:05:00",
          "17:07:00",
          "17:10:00",
          "17:11:00",
          "17:15:00",
          "17:20:00",
          "17:23:00",
          "17:25:00",
          "17:27:00",
          "17:29:00",
          "17:30:00",
          "17:31:00",
          "17:32:00",
          "17:33:00",
          "17:34:00",
          "17:35:00",
          "17:39:00",
          "17:40:00",
          "17:42:00",
          "17:43:00",
          "17:45:00",
          "17:49:00",
          "17:50:00",
          "17:55:00",
          "17:56:00",
          "17:57:00",
          "18:00:00",
          "18:03:00",
          "18:04:00",
          "18:05:00",
          "18:09:00",
          "18:10:00",
          "18:11:00",
          "18:13:00",
          "18:14:00",
          "18:15:00",
          "18:18:00",
          "18:20:00",
          "18:25:00",
          "18:27:00",
          "18:28:00",
          "18:29:00",
          "18:30:00",
          "18:32:00",
          "18:35:00",
          "18:36:00",
          "18:40:00",
          "18:41:00",
          "18:45:00",
          "18:47:00",
          "18:48:00",
          "18:49:00",
          "18:50:00",
          "18:51:00",
          "18:53:00",
          "18:54:00",
          "18:55:00",
          "18:57:00",
          "18:59:00",
          "19:00:00",
          "19:05:00",
          "19:07:00",
          "19:10:00",
          "19:11:00",
          "19:14:00",
          "19:15:00",
          "19:18:00",
          "19:19:00",
          "19:20:00",
          "19:23:00",
          "19:25:00",
          "19:26:00",
          "19:28:00",
          "19:29:00",
          "19:30:00",
          "19:31:00",
          "19:32:00",
          "19:34:00",
          "19:35:00",
          "19:38:00",
          "19:40:00",
          "19:43:00",
          "19:45:00",
          "19:47:00",
          "19:50:00",
          "19:51:00",
          "19:55:00",
          "19:58:00",
          "20:00:00",
          "20:01:00",
          "20:03:00",
          "20:04:00",
          "20:05:00",
          "20:10:00",
          "20:15:00",
          "20:16:00",
          "20:17:00",
          "20:20:00",
          "20:23:00",
          "20:25:00",
          "20:26:00",
          "20:27:00",
          "20:30:00",
          "20:35:00",
          "20:37:00",
          "20:38:00",
          "20:39:00",
          "20:40:00",
          "20:45:00",
          "20:46:00",
          "20:47:00",
          "20:50:00",
          "20:53:00",
          "20:55:00",
          "21:00:00",
          "21:03:00",
          "21:05:00",
          "21:10:00",
          "21:11:00",
          "21:12:00",
          "21:14:00",
          "21:15:00",
          "21:16:00",
          "21:17:00",
          "21:18:00",
          "21:19:00",
          "21:20:00",
          "21:22:00",
          "21:24:00",
          "21:25:00",
          "21:30:00",
          "21:31:00",
          "21:33:00",
          "21:35:00",
          "21:36:00",
          "21:38:00",
          "21:40:00",
          "21:41:00",
          "21:45:00",
          "21:46:00",
          "21:50:00",
          "21:53:00",
          "21:54:00",
          "21:55:00",
          "21:58:00",
          "22:00:00",
          "22:01:00",
          "22:04:00",
          "22:05:00",
          "22:09:00",
          "22:10:00",
          "22:15:00",
          "22:20:00",
          "22:25:00",
          "22:28:00",
          "22:30:00",
          "22:35:00",
          "22:37:00",
          "22:38:00",
          "22:40:00",
          "22:45:00",
          "22:46:00",
          "22:49:00",
          "22:50:00",
          "22:55:00",
          "22:56:00",
          "22:58:00",
          "23:00:00",
          "23:01:00",
          "23:04:00",
          "23:06:00",
          "23:08:00",
          "23:09:00",
          "23:10:00",
          "23:15:00",
          "23:18:00",
          "23:20:00",
          "23:25:00",
          "23:30:00",
          "23:35:00",
          "23:36:00",
          "23:38:00",
          "23:40:00",
          "23:41:00",
          "23:45:00",
          "23:47:00",
          "23:50:00",
          "23:52:00",
          "23:54:00",
          "23:55:00",
          "23:58:00",
          "00:00:00",
          "00:01:00",
          "00:05:00",
          "00:10:00",
          "00:15:00",
          "00:20:00",
          "00:23:00",
          "00:29:00",
          "00:30:00",
          "00:35:00",
          "00:36:00",
          "00:40:00",
          "00:45:00",
          "00:50:00",
          "00:57:00",
          "01:00:00",
          "01:08:00",
          "01:10:00",
          "01:14:00",
          "01:15:00",
          "01:20:00",
          "01:23:00",
          "01:25:00",
          "01:30:00",
          "01:35:00",
          "01:40:00",
          "01:45:00",
          "01:50:00",
          "01:55:00",
          "02:00:00",
          "02:01:00",
          "02:05:00",
          "02:10:00",
          "02:15:00",
          "02:20:00",
          "02:25:00",
          "02:28:00",
          "02:30:00",
          "02:40:00",
          "02:50:00",
          "02:55:00",
          "03:00:00",
          "03:05:00",
          "03:15:00",
          "03:20:00",
          "03:25:00",
          "03:26:00",
          "03:30:00",
          "03:32:00",
          "03:40:00",
          "03:45:00",
          "03:48:00",
          "03:50:00",
          "03:52:00",
          "04:00:00",
          "04:05:00",
          "04:08:00",
          "04:15:00",
          "04:20:00",
          "04:25:00",
          "04:30:00",
          "04:35:00",
          "04:40:00",
          "04:45:00",
          "04:47:00",
          "04:48:00",
          "04:50:00",
          "05:00:00",
          "05:04:00",
          "05:05:00",
          "05:08:00",
          "05:10:00",
          "05:11:00",
          "05:15:00",
          "05:20:00",
          "05:23:00",
          "05:30:00",
          "05:37:00",
          "05:40:00",
          "05:44:00",
          "05:45:00",
          "05:48:00",
          "05:50:00",
          "05:54:00",
          "05:55:00",
          "06:00:00",
          "06:05:00",
          "06:08:00",
          "06:10:00",
          "06:11:00",
          "06:13:00",
          "06:15:00",
          "06:20:00",
          "06:21:00",
          "06:22:00",
          "06:25:00",
          "06:26:00",
          "06:28:00",
          "06:30:00",
          "06:33:00",
          "06:35:00",
          "06:37:00",
          "06:40:00",
          "06:41:00",
          "06:42:00",
          "06:44:00",
          "06:45:00",
          "06:47:00",
          "06:48:00",
          "06:49:00",
          "06:50:00",
          "06:51:00",
          "06:52:00",
          "06:55:00",
          "06:59:00",
          "07:00:00",
          "07:04:00",
          "07:05:00",
          "07:08:00",
          "07:10:00",
          "07:12:00",
          "07:15:00",
          "07:17:00",
          "07:18:00",
          "07:20:00",
          "07:22:00",
          "07:23:00",
          "07:24:00",
          "07:25:00",
          "07:27:00",
          "07:28:00",
          "07:30:00",
          "07:31:00",
          "07:34:00",
          "07:35:00",
          "07:36:00",
          "07:40:00",
          "07:42:00",
          "07:43:00",
          "07:44:00",
          "07:45:00",
          "07:50:00",
          "07:52:00",
          "07:53:00",
          "07:55:00",
          "07:56:00",
          "07:57:00",
          "07:58:00",
          "07:59:00",
          "08:00:00",
          "08:01:00",
          "08:02:00",
          "08:03:00",
          "08:04:00",
          "08:05:00",
          "08:07:00",
          "08:10:00",
          "08:11:00",
          "08:12:00",
          "08:15:00",
          "08:18:00",
          "08:19:00",
          "08:20:00",
          "08:21:00",
          "08:22:00",
          "08:25:00",
          "08:26:00",
          "08:30:00",
          "08:34:00",
          "08:35:00",
          "08:38:00",
          "08:40:00",
          "08:43:00",
          "08:45:00",
          "08:46:00",
          "08:49:00",
          "08:50:00",
          "08:54:00",
          "08:55:00",
          "08:58:00",
          "09:00:00",
          "09:05:00",
          "09:07:00",
          "09:10:00",
          "09:13:00",
          "09:15:00",
          "09:17:00",
          "09:20:00",
          "09:22:00",
          "09:25:00",
          "09:29:00",
          "09:30:00",
          "09:31:00",
          "09:35:00",
          "09:40:00",
          "09:45:00",
          "09:46:00",
          "09:50:00",
          "09:59:00",
          "10:00:00",
          "10:03:00",
          "10:05:00",
          "10:06:00",
          "10:08:00",
          "10:10:00",
          "10:11:00",
          "10:15:00",
          "10:20:00",
          "10:25:00",
          "10:29:00",
          "10:30:00",
          "10:31:00",
          "10:35:00",
          "10:37:00",
          "10:40:00",
          "10:45:00",
          "10:50:00",
          "10:54:00",
          "10:55:00",
          "10:56:00",
          "11:00:00",
          "11:03:00",
          "11:04:00",
          "11:05:00",
          "11:09:00",
          "11:10:00",
          "11:15:00",
          "11:18:00",
          "11:19:00",
          "11:20:00",
          "11:22:00",
          "11:24:00",
          "11:25:00",
          "11:26:00",
          "11:29:00",
          "11:30:00",
          "11:33:00",
          "11:35:00",
          "11:37:00",
          "11:40:00",
          "11:41:00",
          "11:45:00",
          "11:50:00",
          "11:55:00",
          "12:00:00",
          "12:02:00",
          "12:05:00",
          "12:07:00",
          "12:08:00",
          "12:09:00",
          "12:10:00",
          "12:14:00",
          "12:15:00",
          "12:20:00",
          "12:23:00",
          "12:24:00",
          "12:30:00",
          "12:31:00",
          "12:33:00",
          "12:34:00",
          "12:35:00",
          "12:37:00",
          "12:40:00",
          "12:45:00",
          "12:50:00",
          "12:52:00",
          "12:54:00",
          "12:55:00",
          "13:00:00",
          "13:03:00",
          "13:05:00",
          "13:07:00",
          "13:10:00",
          "13:12:00",
          "13:13:00",
          "13:15:00",
          "13:16:00",
          "13:19:00",
          "13:20:00",
          "13:25:00",
          "13:28:00",
          "13:30:00",
          "13:31:00",
          "13:32:00",
          "13:35:00",
          "13:36:00",
          "13:39:00",
          "13:40:00",
          "13:41:00",
          "13:44:00",
          "13:45:00",
          "13:47:00",
          "13:49:00",
          "13:50:00",
          "13:51:00",
          "13:55:00",
          "13:58:00",
          "13:59:00",
          "14:00:00",
          "14:05:00",
          "14:10:00",
          "14:12:00",
          "14:15:00",
          "14:19:00",
          "14:20:00",
          "14:23:00",
          "14:25:00",
          "14:27:00",
          "14:30:00",
          "14:32:00",
          "14:35:00",
          "14:37:00",
          "14:40:00",
          "14:41:00",
          "14:45:00",
          "14:47:00",
          "14:48:00",
          "14:50:00",
          "14:51:00",
          "14:53:00",
          "14:55:00",
          "14:58:00",
          "15:00:00",
          "15:01:00",
          "15:05:00",
          "15:07:00",
          "15:08:00",
          "15:10:00",
          "15:12:00",
          "15:13:00",
          "15:15:00",
          "15:20:00",
          "15:25:00",
          "15:30:00",
          "15:37:00",
          "15:38:00",
          "15:40:00",
          "15:45:00",
          "15:46:00",
          "15:50:00",
          "15:51:00",
          "15:53:00",
          "15:55:00",
          "15:59:00",
          "16:00:00",
          "16:02:00",
          "16:04:00",
          "16:05:00",
          "16:10:00",
          "16:15:00",
          "16:16:00",
          "16:18:00",
          "16:20:00",
          "16:21:00",
          "16:22:00",
          "16:25:00",
          "16:30:00",
          "16:32:00",
          "16:35:00",
          "16:36:00",
          "16:40:00",
          "16:45:00",
          "16:50:00",
          "16:52:00",
          "16:54:00",
          "16:55:00",
          "17:00:00",
          "17:02:00",
          "17:03:00",
          "17:05:00",
          "17:06:00",
          "17:10:00",
          "17:11:00",
          "17:13:00",
          "17:15:00",
          "17:17:00",
          "17:18:00",
          "17:20:00",
          "17:23:00",
          "17:24:00",
          "17:25:00",
          "17:30:00",
          "17:31:00",
          "17:32:00",
          "17:33:00",
          "17:34:00",
          "17:35:00",
          "17:38:00",
          "17:40:00",
          "17:44:00",
          "17:45:00",
          "17:47:00",
          "17:48:00",
          "17:50:00",
          "17:54:00",
          "17:55:00",
          "17:57:00",
          "17:58:00",
          "18:00:00",
          "18:04:00",
          "18:05:00",
          "18:06:00",
          "18:08:00",
          "18:10:00",
          "18:12:00",
          "18:13:00",
          "18:15:00",
          "18:16:00",
          "18:18:00",
          "18:20:00",
          "18:25:00",
          "18:26:00",
          "18:30:00",
          "18:33:00",
          "18:34:00",
          "18:35:00",
          "18:36:00",
          "18:39:00",
          "18:40:00",
          "18:42:00",
          "18:43:00",
          "18:44:00",
          "18:45:00",
          "18:46:00",
          "18:47:00",
          "18:48:00",
          "18:50:00",
          "18:54:00",
          "18:55:00",
          "18:59:00",
          "19:00:00",
          "19:05:00",
          "19:06:00",
          "19:07:00",
          "19:08:00",
          "19:10:00",
          "19:13:00",
          "19:15:00",
          "19:20:00",
          "19:21:00",
          "19:25:00",
          "19:30:00",
          "19:34:00",
          "19:35:00",
          "19:36:00",
          "19:38:00",
          "19:40:00",
          "19:42:00",
          "19:45:00",
          "19:50:00",
          "19:52:00",
          "19:54:00",
          "19:55:00",
          "19:56:00",
          "19:57:00",
          "20:00:00",
          "20:02:00",
          "20:04:00",
          "20:05:00",
          "20:06:00",
          "20:09:00",
          "20:10:00",
          "20:13:00",
          "20:15:00",
          "20:17:00",
          "20:20:00",
          "20:21:00",
          "20:25:00",
          "20:27:00",
          "20:30:00",
          "20:35:00",
          "20:40:00",
          "20:44:00",
          "20:45:00",
          "20:50:00",
          "20:51:00",
          "20:55:00",
          "20:56:00",
          "21:00:00",
          "21:01:00",
          "21:05:00",
          "21:07:00",
          "21:10:00",
          "21:15:00",
          "21:18:00",
          "21:20:00",
          "21:21:00",
          "21:25:00",
          "21:29:00",
          "21:30:00",
          "21:33:00",
          "21:35:00",
          "21:40:00",
          "21:42:00",
          "21:44:00",
          "21:45:00",
          "21:50:00",
          "21:55:00",
          "21:57:00",
          "21:58:00",
          "22:00:00",
          "22:05:00",
          "22:08:00",
          "22:10:00",
          "22:14:00",
          "22:15:00",
          "22:16:00",
          "22:17:00",
          "22:20:00",
          "22:25:00",
          "22:27:00",
          "22:28:00",
          "22:30:00",
          "22:32:00",
          "22:35:00",
          "22:40:00",
          "22:41:00",
          "22:45:00",
          "22:48:00",
          "22:50:00",
          "22:59:00",
          "23:00:00",
          "23:05:00",
          "23:08:00",
          "23:10:00",
          "23:11:00",
          "23:15:00",
          "23:20:00",
          "23:26:00",
          "23:30:00",
          "23:35:00",
          "23:37:00",
          "23:40:00",
          "23:45:00",
          "23:50:00",
          "23:55:00",
          "23:58:00"
         ],
         "yaxis": "y"
        }
       ],
       "layout": {
        "barmode": "relative",
        "legend": {
         "tracegroupgap": 0
        },
        "margin": {
         "t": 60
        },
        "template": {
         "data": {
          "bar": [
           {
            "error_x": {
             "color": "#2a3f5f"
            },
            "error_y": {
             "color": "#2a3f5f"
            },
            "marker": {
             "line": {
              "color": "#E5ECF6",
              "width": 0.5
             },
             "pattern": {
              "fillmode": "overlay",
              "size": 10,
              "solidity": 0.2
             }
            },
            "type": "bar"
           }
          ],
          "barpolar": [
           {
            "marker": {
             "line": {
              "color": "#E5ECF6",
              "width": 0.5
             },
             "pattern": {
              "fillmode": "overlay",
              "size": 10,
              "solidity": 0.2
             }
            },
            "type": "barpolar"
           }
          ],
          "carpet": [
           {
            "aaxis": {
             "endlinecolor": "#2a3f5f",
             "gridcolor": "white",
             "linecolor": "white",
             "minorgridcolor": "white",
             "startlinecolor": "#2a3f5f"
            },
            "baxis": {
             "endlinecolor": "#2a3f5f",
             "gridcolor": "white",
             "linecolor": "white",
             "minorgridcolor": "white",
             "startlinecolor": "#2a3f5f"
            },
            "type": "carpet"
           }
          ],
          "choropleth": [
           {
            "colorbar": {
             "outlinewidth": 0,
             "ticks": ""
            },
            "type": "choropleth"
           }
          ],
          "contour": [
           {
            "colorbar": {
             "outlinewidth": 0,
             "ticks": ""
            },
            "colorscale": [
             [
              0,
              "#0d0887"
             ],
             [
              0.1111111111111111,
              "#46039f"
             ],
             [
              0.2222222222222222,
              "#7201a8"
             ],
             [
              0.3333333333333333,
              "#9c179e"
             ],
             [
              0.4444444444444444,
              "#bd3786"
             ],
             [
              0.5555555555555556,
              "#d8576b"
             ],
             [
              0.6666666666666666,
              "#ed7953"
             ],
             [
              0.7777777777777778,
              "#fb9f3a"
             ],
             [
              0.8888888888888888,
              "#fdca26"
             ],
             [
              1,
              "#f0f921"
             ]
            ],
            "type": "contour"
           }
          ],
          "contourcarpet": [
           {
            "colorbar": {
             "outlinewidth": 0,
             "ticks": ""
            },
            "type": "contourcarpet"
           }
          ],
          "heatmap": [
           {
            "colorbar": {
             "outlinewidth": 0,
             "ticks": ""
            },
            "colorscale": [
             [
              0,
              "#0d0887"
             ],
             [
              0.1111111111111111,
              "#46039f"
             ],
             [
              0.2222222222222222,
              "#7201a8"
             ],
             [
              0.3333333333333333,
              "#9c179e"
             ],
             [
              0.4444444444444444,
              "#bd3786"
             ],
             [
              0.5555555555555556,
              "#d8576b"
             ],
             [
              0.6666666666666666,
              "#ed7953"
             ],
             [
              0.7777777777777778,
              "#fb9f3a"
             ],
             [
              0.8888888888888888,
              "#fdca26"
             ],
             [
              1,
              "#f0f921"
             ]
            ],
            "type": "heatmap"
           }
          ],
          "heatmapgl": [
           {
            "colorbar": {
             "outlinewidth": 0,
             "ticks": ""
            },
            "colorscale": [
             [
              0,
              "#0d0887"
             ],
             [
              0.1111111111111111,
              "#46039f"
             ],
             [
              0.2222222222222222,
              "#7201a8"
             ],
             [
              0.3333333333333333,
              "#9c179e"
             ],
             [
              0.4444444444444444,
              "#bd3786"
             ],
             [
              0.5555555555555556,
              "#d8576b"
             ],
             [
              0.6666666666666666,
              "#ed7953"
             ],
             [
              0.7777777777777778,
              "#fb9f3a"
             ],
             [
              0.8888888888888888,
              "#fdca26"
             ],
             [
              1,
              "#f0f921"
             ]
            ],
            "type": "heatmapgl"
           }
          ],
          "histogram": [
           {
            "marker": {
             "pattern": {
              "fillmode": "overlay",
              "size": 10,
              "solidity": 0.2
             }
            },
            "type": "histogram"
           }
          ],
          "histogram2d": [
           {
            "colorbar": {
             "outlinewidth": 0,
             "ticks": ""
            },
            "colorscale": [
             [
              0,
              "#0d0887"
             ],
             [
              0.1111111111111111,
              "#46039f"
             ],
             [
              0.2222222222222222,
              "#7201a8"
             ],
             [
              0.3333333333333333,
              "#9c179e"
             ],
             [
              0.4444444444444444,
              "#bd3786"
             ],
             [
              0.5555555555555556,
              "#d8576b"
             ],
             [
              0.6666666666666666,
              "#ed7953"
             ],
             [
              0.7777777777777778,
              "#fb9f3a"
             ],
             [
              0.8888888888888888,
              "#fdca26"
             ],
             [
              1,
              "#f0f921"
             ]
            ],
            "type": "histogram2d"
           }
          ],
          "histogram2dcontour": [
           {
            "colorbar": {
             "outlinewidth": 0,
             "ticks": ""
            },
            "colorscale": [
             [
              0,
              "#0d0887"
             ],
             [
              0.1111111111111111,
              "#46039f"
             ],
             [
              0.2222222222222222,
              "#7201a8"
             ],
             [
              0.3333333333333333,
              "#9c179e"
             ],
             [
              0.4444444444444444,
              "#bd3786"
             ],
             [
              0.5555555555555556,
              "#d8576b"
             ],
             [
              0.6666666666666666,
              "#ed7953"
             ],
             [
              0.7777777777777778,
              "#fb9f3a"
             ],
             [
              0.8888888888888888,
              "#fdca26"
             ],
             [
              1,
              "#f0f921"
             ]
            ],
            "type": "histogram2dcontour"
           }
          ],
          "mesh3d": [
           {
            "colorbar": {
             "outlinewidth": 0,
             "ticks": ""
            },
            "type": "mesh3d"
           }
          ],
          "parcoords": [
           {
            "line": {
             "colorbar": {
              "outlinewidth": 0,
              "ticks": ""
             }
            },
            "type": "parcoords"
           }
          ],
          "pie": [
           {
            "automargin": true,
            "type": "pie"
           }
          ],
          "scatter": [
           {
            "fillpattern": {
             "fillmode": "overlay",
             "size": 10,
             "solidity": 0.2
            },
            "type": "scatter"
           }
          ],
          "scatter3d": [
           {
            "line": {
             "colorbar": {
              "outlinewidth": 0,
              "ticks": ""
             }
            },
            "marker": {
             "colorbar": {
              "outlinewidth": 0,
              "ticks": ""
             }
            },
            "type": "scatter3d"
           }
          ],
          "scattercarpet": [
           {
            "marker": {
             "colorbar": {
              "outlinewidth": 0,
              "ticks": ""
             }
            },
            "type": "scattercarpet"
           }
          ],
          "scattergeo": [
           {
            "marker": {
             "colorbar": {
              "outlinewidth": 0,
              "ticks": ""
             }
            },
            "type": "scattergeo"
           }
          ],
          "scattergl": [
           {
            "marker": {
             "colorbar": {
              "outlinewidth": 0,
              "ticks": ""
             }
            },
            "type": "scattergl"
           }
          ],
          "scattermapbox": [
           {
            "marker": {
             "colorbar": {
              "outlinewidth": 0,
              "ticks": ""
             }
            },
            "type": "scattermapbox"
           }
          ],
          "scatterpolar": [
           {
            "marker": {
             "colorbar": {
              "outlinewidth": 0,
              "ticks": ""
             }
            },
            "type": "scatterpolar"
           }
          ],
          "scatterpolargl": [
           {
            "marker": {
             "colorbar": {
              "outlinewidth": 0,
              "ticks": ""
             }
            },
            "type": "scatterpolargl"
           }
          ],
          "scatterternary": [
           {
            "marker": {
             "colorbar": {
              "outlinewidth": 0,
              "ticks": ""
             }
            },
            "type": "scatterternary"
           }
          ],
          "surface": [
           {
            "colorbar": {
             "outlinewidth": 0,
             "ticks": ""
            },
            "colorscale": [
             [
              0,
              "#0d0887"
             ],
             [
              0.1111111111111111,
              "#46039f"
             ],
             [
              0.2222222222222222,
              "#7201a8"
             ],
             [
              0.3333333333333333,
              "#9c179e"
             ],
             [
              0.4444444444444444,
              "#bd3786"
             ],
             [
              0.5555555555555556,
              "#d8576b"
             ],
             [
              0.6666666666666666,
              "#ed7953"
             ],
             [
              0.7777777777777778,
              "#fb9f3a"
             ],
             [
              0.8888888888888888,
              "#fdca26"
             ],
             [
              1,
              "#f0f921"
             ]
            ],
            "type": "surface"
           }
          ],
          "table": [
           {
            "cells": {
             "fill": {
              "color": "#EBF0F8"
             },
             "line": {
              "color": "white"
             }
            },
            "header": {
             "fill": {
              "color": "#C8D4E3"
             },
             "line": {
              "color": "white"
             }
            },
            "type": "table"
           }
          ]
         },
         "layout": {
          "annotationdefaults": {
           "arrowcolor": "#2a3f5f",
           "arrowhead": 0,
           "arrowwidth": 1
          },
          "autotypenumbers": "strict",
          "coloraxis": {
           "colorbar": {
            "outlinewidth": 0,
            "ticks": ""
           }
          },
          "colorscale": {
           "diverging": [
            [
             0,
             "#8e0152"
            ],
            [
             0.1,
             "#c51b7d"
            ],
            [
             0.2,
             "#de77ae"
            ],
            [
             0.3,
             "#f1b6da"
            ],
            [
             0.4,
             "#fde0ef"
            ],
            [
             0.5,
             "#f7f7f7"
            ],
            [
             0.6,
             "#e6f5d0"
            ],
            [
             0.7,
             "#b8e186"
            ],
            [
             0.8,
             "#7fbc41"
            ],
            [
             0.9,
             "#4d9221"
            ],
            [
             1,
             "#276419"
            ]
           ],
           "sequential": [
            [
             0,
             "#0d0887"
            ],
            [
             0.1111111111111111,
             "#46039f"
            ],
            [
             0.2222222222222222,
             "#7201a8"
            ],
            [
             0.3333333333333333,
             "#9c179e"
            ],
            [
             0.4444444444444444,
             "#bd3786"
            ],
            [
             0.5555555555555556,
             "#d8576b"
            ],
            [
             0.6666666666666666,
             "#ed7953"
            ],
            [
             0.7777777777777778,
             "#fb9f3a"
            ],
            [
             0.8888888888888888,
             "#fdca26"
            ],
            [
             1,
             "#f0f921"
            ]
           ],
           "sequentialminus": [
            [
             0,
             "#0d0887"
            ],
            [
             0.1111111111111111,
             "#46039f"
            ],
            [
             0.2222222222222222,
             "#7201a8"
            ],
            [
             0.3333333333333333,
             "#9c179e"
            ],
            [
             0.4444444444444444,
             "#bd3786"
            ],
            [
             0.5555555555555556,
             "#d8576b"
            ],
            [
             0.6666666666666666,
             "#ed7953"
            ],
            [
             0.7777777777777778,
             "#fb9f3a"
            ],
            [
             0.8888888888888888,
             "#fdca26"
            ],
            [
             1,
             "#f0f921"
            ]
           ]
          },
          "colorway": [
           "#636efa",
           "#EF553B",
           "#00cc96",
           "#ab63fa",
           "#FFA15A",
           "#19d3f3",
           "#FF6692",
           "#B6E880",
           "#FF97FF",
           "#FECB52"
          ],
          "font": {
           "color": "#2a3f5f"
          },
          "geo": {
           "bgcolor": "white",
           "lakecolor": "white",
           "landcolor": "#E5ECF6",
           "showlakes": true,
           "showland": true,
           "subunitcolor": "white"
          },
          "hoverlabel": {
           "align": "left"
          },
          "hovermode": "closest",
          "mapbox": {
           "style": "light"
          },
          "paper_bgcolor": "white",
          "plot_bgcolor": "#E5ECF6",
          "polar": {
           "angularaxis": {
            "gridcolor": "white",
            "linecolor": "white",
            "ticks": ""
           },
           "bgcolor": "#E5ECF6",
           "radialaxis": {
            "gridcolor": "white",
            "linecolor": "white",
            "ticks": ""
           }
          },
          "scene": {
           "xaxis": {
            "backgroundcolor": "#E5ECF6",
            "gridcolor": "white",
            "gridwidth": 2,
            "linecolor": "white",
            "showbackground": true,
            "ticks": "",
            "zerolinecolor": "white"
           },
           "yaxis": {
            "backgroundcolor": "#E5ECF6",
            "gridcolor": "white",
            "gridwidth": 2,
            "linecolor": "white",
            "showbackground": true,
            "ticks": "",
            "zerolinecolor": "white"
           },
           "zaxis": {
            "backgroundcolor": "#E5ECF6",
            "gridcolor": "white",
            "gridwidth": 2,
            "linecolor": "white",
            "showbackground": true,
            "ticks": "",
            "zerolinecolor": "white"
           }
          },
          "shapedefaults": {
           "line": {
            "color": "#2a3f5f"
           }
          },
          "ternary": {
           "aaxis": {
            "gridcolor": "white",
            "linecolor": "white",
            "ticks": ""
           },
           "baxis": {
            "gridcolor": "white",
            "linecolor": "white",
            "ticks": ""
           },
           "bgcolor": "#E5ECF6",
           "caxis": {
            "gridcolor": "white",
            "linecolor": "white",
            "ticks": ""
           }
          },
          "title": {
           "x": 0.05
          },
          "xaxis": {
           "automargin": true,
           "gridcolor": "white",
           "linecolor": "white",
           "ticks": "",
           "title": {
            "standoff": 15
           },
           "zerolinecolor": "white",
           "zerolinewidth": 2
          },
          "yaxis": {
           "automargin": true,
           "gridcolor": "white",
           "linecolor": "white",
           "ticks": "",
           "title": {
            "standoff": 15
           },
           "zerolinecolor": "white",
           "zerolinewidth": 2
          }
         }
        },
        "xaxis": {
         "anchor": "y",
         "domain": [
          0,
          1
         ],
         "title": {
          "text": "dia_semana"
         }
        },
        "yaxis": {
         "anchor": "x",
         "domain": [
          0,
          1
         ],
         "title": {
          "text": "horario"
         }
        }
       }
      }
     },
     "metadata": {},
     "output_type": "display_data"
    }
   ],
   "source": [
    "a = df.groupby(['dia_semana', 'horario']).sum().reset_index()\n",
    "\n",
    "a.pivot(index='horario', columns='dia_semana', values='id_veiculo')\n",
    "\n",
    "#c = df.groupby(['horario', 'dia_semana']).size().sort_values(ascending=False).head(10).reset_index()\n",
    "\n",
    "c = df.groupby(['dia_semana', 'horario']).size().reset_index()\n",
    "\n",
    "fig = px.bar(c, x=\"dia_semana\", y=\"horario\")\n",
    "\n",
    "fig.show()\n"
   ]
  },
  {
   "cell_type": "code",
   "execution_count": 8,
   "metadata": {},
   "outputs": [
    {
     "data": {
      "text/html": [
       "<div>\n",
       "<style scoped>\n",
       "    .dataframe tbody tr th:only-of-type {\n",
       "        vertical-align: middle;\n",
       "    }\n",
       "\n",
       "    .dataframe tbody tr th {\n",
       "        vertical-align: top;\n",
       "    }\n",
       "\n",
       "    .dataframe thead th {\n",
       "        text-align: right;\n",
       "    }\n",
       "</style>\n",
       "<table border=\"1\" class=\"dataframe\">\n",
       "  <thead>\n",
       "    <tr style=\"text-align: right;\">\n",
       "      <th></th>\n",
       "      <th>dia_semana</th>\n",
       "      <th>horario</th>\n",
       "      <th>0</th>\n",
       "    </tr>\n",
       "  </thead>\n",
       "  <tbody>\n",
       "    <tr>\n",
       "      <th>0</th>\n",
       "      <td>domingo</td>\n",
       "      <td>00:00:00</td>\n",
       "      <td>9</td>\n",
       "    </tr>\n",
       "    <tr>\n",
       "      <th>1</th>\n",
       "      <td>domingo</td>\n",
       "      <td>00:01:00</td>\n",
       "      <td>3</td>\n",
       "    </tr>\n",
       "    <tr>\n",
       "      <th>2</th>\n",
       "      <td>domingo</td>\n",
       "      <td>00:02:00</td>\n",
       "      <td>9</td>\n",
       "    </tr>\n",
       "    <tr>\n",
       "      <th>3</th>\n",
       "      <td>domingo</td>\n",
       "      <td>00:03:00</td>\n",
       "      <td>18</td>\n",
       "    </tr>\n",
       "    <tr>\n",
       "      <th>4</th>\n",
       "      <td>domingo</td>\n",
       "      <td>00:04:00</td>\n",
       "      <td>8</td>\n",
       "    </tr>\n",
       "  </tbody>\n",
       "</table>\n",
       "</div>"
      ],
      "text/plain": [
       "  dia_semana   horario   0\n",
       "0    domingo  00:00:00   9\n",
       "1    domingo  00:01:00   3\n",
       "2    domingo  00:02:00   9\n",
       "3    domingo  00:03:00  18\n",
       "4    domingo  00:04:00   8"
      ]
     },
     "execution_count": 8,
     "metadata": {},
     "output_type": "execute_result"
    }
   ],
   "source": [
    "c.head(5)"
   ]
  },
  {
   "cell_type": "code",
   "execution_count": 5,
   "metadata": {},
   "outputs": [],
   "source": [
    "top10_veiculo = df.groupby('tipo_veiculo').size().sort_values(ascending=False).head(10).reset_index()\n",
    "\n",
    "df2 = df[df['tipo_veiculo'].isin(top10_veiculo['tipo_veiculo'])]"
   ]
  },
  {
   "cell_type": "code",
   "execution_count": 6,
   "metadata": {},
   "outputs": [
    {
     "data": {
      "text/html": [
       "<div>\n",
       "<style scoped>\n",
       "    .dataframe tbody tr th:only-of-type {\n",
       "        vertical-align: middle;\n",
       "    }\n",
       "\n",
       "    .dataframe tbody tr th {\n",
       "        vertical-align: top;\n",
       "    }\n",
       "\n",
       "    .dataframe thead th {\n",
       "        text-align: right;\n",
       "    }\n",
       "</style>\n",
       "<table border=\"1\" class=\"dataframe\">\n",
       "  <thead>\n",
       "    <tr style=\"text-align: right;\">\n",
       "      <th></th>\n",
       "      <th>tipo_veiculo</th>\n",
       "      <th>dia_semana</th>\n",
       "      <th>0</th>\n",
       "    </tr>\n",
       "  </thead>\n",
       "  <tbody>\n",
       "    <tr>\n",
       "      <th>0</th>\n",
       "      <td>Automóvel</td>\n",
       "      <td>domingo</td>\n",
       "      <td>17540</td>\n",
       "    </tr>\n",
       "    <tr>\n",
       "      <th>1</th>\n",
       "      <td>Automóvel</td>\n",
       "      <td>sábado</td>\n",
       "      <td>15228</td>\n",
       "    </tr>\n",
       "    <tr>\n",
       "      <th>2</th>\n",
       "      <td>Automóvel</td>\n",
       "      <td>sexta-feira</td>\n",
       "      <td>12070</td>\n",
       "    </tr>\n",
       "    <tr>\n",
       "      <th>3</th>\n",
       "      <td>Automóvel</td>\n",
       "      <td>segunda-feira</td>\n",
       "      <td>11042</td>\n",
       "    </tr>\n",
       "    <tr>\n",
       "      <th>4</th>\n",
       "      <td>Automóvel</td>\n",
       "      <td>terça-feira</td>\n",
       "      <td>8894</td>\n",
       "    </tr>\n",
       "    <tr>\n",
       "      <th>...</th>\n",
       "      <td>...</td>\n",
       "      <td>...</td>\n",
       "      <td>...</td>\n",
       "    </tr>\n",
       "    <tr>\n",
       "      <th>65</th>\n",
       "      <td>Ônibus</td>\n",
       "      <td>sábado</td>\n",
       "      <td>505</td>\n",
       "    </tr>\n",
       "    <tr>\n",
       "      <th>66</th>\n",
       "      <td>Utilitário</td>\n",
       "      <td>sábado</td>\n",
       "      <td>504</td>\n",
       "    </tr>\n",
       "    <tr>\n",
       "      <th>67</th>\n",
       "      <td>Utilitário</td>\n",
       "      <td>quarta-feira</td>\n",
       "      <td>503</td>\n",
       "    </tr>\n",
       "    <tr>\n",
       "      <th>68</th>\n",
       "      <td>Utilitário</td>\n",
       "      <td>sexta-feira</td>\n",
       "      <td>501</td>\n",
       "    </tr>\n",
       "    <tr>\n",
       "      <th>69</th>\n",
       "      <td>Utilitário</td>\n",
       "      <td>terça-feira</td>\n",
       "      <td>459</td>\n",
       "    </tr>\n",
       "  </tbody>\n",
       "</table>\n",
       "<p>70 rows × 3 columns</p>\n",
       "</div>"
      ],
      "text/plain": [
       "   tipo_veiculo     dia_semana      0\n",
       "0     Automóvel        domingo  17540\n",
       "1     Automóvel         sábado  15228\n",
       "2     Automóvel    sexta-feira  12070\n",
       "3     Automóvel  segunda-feira  11042\n",
       "4     Automóvel    terça-feira   8894\n",
       "..          ...            ...    ...\n",
       "65       Ônibus         sábado    505\n",
       "66   Utilitário         sábado    504\n",
       "67   Utilitário   quarta-feira    503\n",
       "68   Utilitário    sexta-feira    501\n",
       "69   Utilitário    terça-feira    459\n",
       "\n",
       "[70 rows x 3 columns]"
      ]
     },
     "execution_count": 6,
     "metadata": {},
     "output_type": "execute_result"
    }
   ],
   "source": [
    "dataset_veiculos = df2.groupby(['tipo_veiculo', 'dia_semana']).size().sort_values(ascending=False).reset_index()\n",
    "\n",
    "dataset_veiculos"
   ]
  },
  {
   "cell_type": "code",
   "execution_count": 6,
   "metadata": {},
   "outputs": [],
   "source": [
    "ordem_dias_semana = ['segunda-feira', 'terça-feira', 'quarta-feira', 'quinta-feira', 'sexta-feira', 'sábado', 'domingo']\n",
    "\n",
    "dataset_veiculos['dia_semana'] = pd.Categorical(dataset_veiculos['dia_semana'], categories=ordem_dias_semana, ordered=True)\n",
    "\n",
    "dataset_veiculos_ordenado = dataset_veiculos.sort_values('dia_semana')"
   ]
  },
  {
   "cell_type": "code",
   "execution_count": null,
   "metadata": {},
   "outputs": [],
   "source": [
    "\n",
    "mapeamento = {'segunda-feira': 7, 'terça-feira': 6, 'quarta-feira': 5, 'quinta-feira': 4, 'sexta-feira': 3, 'sábado': 2, 'domingo': 1}\n",
    "\n",
    "mapeamento_inverso = {7: 'segunda-feira', 6: 'terça-feira', 5: 'quarta-feira', 4: 'quinta-feira', 3: 'sexta-feira', 2: 'sábado', 1: 'domingo'}\n",
    "\n",
    "df3 = df2\n",
    "\n",
    "# Substituir os termos categóricos pelos números\n",
    "df3['dia_semana'] = df2['dia_semana'].replace(mapeamento)\n",
    "\n",
    "df_ordenado = df3.sort_values(['tipo_veiculo', 'dia_semana'], ascending=False)\n",
    "\n",
    "df_ordenado['dia_semana'] = df_ordenado['dia_semana'].replace(mapeamento_inverso)\n",
    "\n",
    "df_ordenado"
   ]
  },
  {
   "cell_type": "code",
   "execution_count": 8,
   "metadata": {},
   "outputs": [
    {
     "data": {
      "application/vnd.plotly.v1+json": {
       "config": {
        "plotlyServerURL": "https://plot.ly"
       },
       "data": [
        {
         "hovertemplate": "tipo_veiculo=Não Informado<br>dia_semana=%{x}<br>contagem=%{y}<extra></extra>",
         "legendgroup": "Não Informado",
         "line": {
          "color": "#636efa",
          "dash": "solid"
         },
         "marker": {
          "symbol": "circle"
         },
         "mode": "lines+markers",
         "name": "Não Informado",
         "orientation": "v",
         "showlegend": true,
         "type": "scatter",
         "x": [
          "segunda-feira",
          "terça-feira",
          "quarta-feira",
          "quinta-feira",
          "sexta-feira",
          "sábado",
          "domingo"
         ],
         "xaxis": "x",
         "y": [
          941,
          547,
          741,
          848,
          721,
          1030,
          1212
         ],
         "yaxis": "y"
        },
        {
         "hovertemplate": "tipo_veiculo=Caminhão-trator<br>dia_semana=%{x}<br>contagem=%{y}<extra></extra>",
         "legendgroup": "Caminhão-trator",
         "line": {
          "color": "#EF553B",
          "dash": "solid"
         },
         "marker": {
          "symbol": "circle"
         },
         "mode": "lines+markers",
         "name": "Caminhão-trator",
         "orientation": "v",
         "showlegend": true,
         "type": "scatter",
         "x": [
          "segunda-feira",
          "terça-feira",
          "quarta-feira",
          "quinta-feira",
          "sexta-feira",
          "sábado",
          "domingo"
         ],
         "xaxis": "x",
         "y": [
          2262,
          2550,
          2764,
          2613,
          2306,
          2477,
          2317
         ],
         "yaxis": "y"
        },
        {
         "hovertemplate": "tipo_veiculo=Motocicleta<br>dia_semana=%{x}<br>contagem=%{y}<extra></extra>",
         "legendgroup": "Motocicleta",
         "line": {
          "color": "#00cc96",
          "dash": "solid"
         },
         "marker": {
          "symbol": "circle"
         },
         "mode": "lines+markers",
         "name": "Motocicleta",
         "orientation": "v",
         "showlegend": true,
         "type": "scatter",
         "x": [
          "segunda-feira",
          "terça-feira",
          "quarta-feira",
          "quinta-feira",
          "sexta-feira",
          "sábado",
          "domingo"
         ],
         "xaxis": "x",
         "y": [
          6087,
          5691,
          5438,
          5544,
          6502,
          6680,
          7270
         ],
         "yaxis": "y"
        },
        {
         "hovertemplate": "tipo_veiculo=Motoneta<br>dia_semana=%{x}<br>contagem=%{y}<extra></extra>",
         "legendgroup": "Motoneta",
         "line": {
          "color": "#ab63fa",
          "dash": "solid"
         },
         "marker": {
          "symbol": "circle"
         },
         "mode": "lines+markers",
         "name": "Motoneta",
         "orientation": "v",
         "showlegend": true,
         "type": "scatter",
         "x": [
          "segunda-feira",
          "terça-feira",
          "quarta-feira",
          "quinta-feira",
          "sexta-feira",
          "sábado",
          "domingo"
         ],
         "xaxis": "x",
         "y": [
          638,
          658,
          629,
          830,
          535,
          713,
          540
         ],
         "yaxis": "y"
        },
        {
         "hovertemplate": "tipo_veiculo=Caminhonete<br>dia_semana=%{x}<br>contagem=%{y}<extra></extra>",
         "legendgroup": "Caminhonete",
         "line": {
          "color": "#FFA15A",
          "dash": "solid"
         },
         "marker": {
          "symbol": "circle"
         },
         "mode": "lines+markers",
         "name": "Caminhonete",
         "orientation": "v",
         "showlegend": true,
         "type": "scatter",
         "x": [
          "segunda-feira",
          "terça-feira",
          "quarta-feira",
          "quinta-feira",
          "sexta-feira",
          "sábado",
          "domingo"
         ],
         "xaxis": "x",
         "y": [
          3289,
          2428,
          2636,
          2579,
          3081,
          2992,
          3117
         ],
         "yaxis": "y"
        },
        {
         "hovertemplate": "tipo_veiculo=Semireboque<br>dia_semana=%{x}<br>contagem=%{y}<extra></extra>",
         "legendgroup": "Semireboque",
         "line": {
          "color": "#19d3f3",
          "dash": "solid"
         },
         "marker": {
          "symbol": "circle"
         },
         "mode": "lines+markers",
         "name": "Semireboque",
         "orientation": "v",
         "showlegend": true,
         "type": "scatter",
         "x": [
          "segunda-feira",
          "terça-feira",
          "quarta-feira",
          "quinta-feira",
          "sexta-feira",
          "sábado",
          "domingo"
         ],
         "xaxis": "x",
         "y": [
          2362,
          2563,
          3095,
          3004,
          2570,
          2863,
          2428
         ],
         "yaxis": "y"
        },
        {
         "hovertemplate": "tipo_veiculo=Caminhão<br>dia_semana=%{x}<br>contagem=%{y}<extra></extra>",
         "legendgroup": "Caminhão",
         "line": {
          "color": "#FF6692",
          "dash": "solid"
         },
         "marker": {
          "symbol": "circle"
         },
         "mode": "lines+markers",
         "name": "Caminhão",
         "orientation": "v",
         "showlegend": true,
         "type": "scatter",
         "x": [
          "segunda-feira",
          "terça-feira",
          "quarta-feira",
          "quinta-feira",
          "sexta-feira",
          "sábado",
          "domingo"
         ],
         "xaxis": "x",
         "y": [
          1814,
          2383,
          2572,
          1999,
          2293,
          1823,
          1204
         ],
         "yaxis": "y"
        },
        {
         "hovertemplate": "tipo_veiculo=Utilitário<br>dia_semana=%{x}<br>contagem=%{y}<extra></extra>",
         "legendgroup": "Utilitário",
         "line": {
          "color": "#B6E880",
          "dash": "solid"
         },
         "marker": {
          "symbol": "circle"
         },
         "mode": "lines+markers",
         "name": "Utilitário",
         "orientation": "v",
         "showlegend": true,
         "type": "scatter",
         "x": [
          "segunda-feira",
          "terça-feira",
          "quarta-feira",
          "quinta-feira",
          "sexta-feira",
          "sábado",
          "domingo"
         ],
         "xaxis": "x",
         "y": [
          505,
          459,
          503,
          514,
          501,
          504,
          652
         ],
         "yaxis": "y"
        },
        {
         "hovertemplate": "tipo_veiculo=Automóvel<br>dia_semana=%{x}<br>contagem=%{y}<extra></extra>",
         "legendgroup": "Automóvel",
         "line": {
          "color": "#FF97FF",
          "dash": "solid"
         },
         "marker": {
          "symbol": "circle"
         },
         "mode": "lines+markers",
         "name": "Automóvel",
         "orientation": "v",
         "showlegend": true,
         "type": "scatter",
         "x": [
          "segunda-feira",
          "terça-feira",
          "quarta-feira",
          "quinta-feira",
          "sexta-feira",
          "sábado",
          "domingo"
         ],
         "xaxis": "x",
         "y": [
          11042,
          8894,
          8561,
          8465,
          12070,
          15228,
          17540
         ],
         "yaxis": "y"
        },
        {
         "hovertemplate": "tipo_veiculo=Ônibus<br>dia_semana=%{x}<br>contagem=%{y}<extra></extra>",
         "legendgroup": "Ônibus",
         "line": {
          "color": "#FECB52",
          "dash": "solid"
         },
         "marker": {
          "symbol": "circle"
         },
         "mode": "lines+markers",
         "name": "Ônibus",
         "orientation": "v",
         "showlegend": true,
         "type": "scatter",
         "x": [
          "segunda-feira",
          "terça-feira",
          "quarta-feira",
          "quinta-feira",
          "sexta-feira",
          "sábado",
          "domingo"
         ],
         "xaxis": "x",
         "y": [
          1480,
          1969,
          2694,
          1139,
          1091,
          505,
          2885
         ],
         "yaxis": "y"
        }
       ],
       "layout": {
        "legend": {
         "title": {
          "text": "tipo_veiculo"
         },
         "tracegroupgap": 0
        },
        "margin": {
         "t": 60
        },
        "template": {
         "data": {
          "bar": [
           {
            "error_x": {
             "color": "#2a3f5f"
            },
            "error_y": {
             "color": "#2a3f5f"
            },
            "marker": {
             "line": {
              "color": "#E5ECF6",
              "width": 0.5
             },
             "pattern": {
              "fillmode": "overlay",
              "size": 10,
              "solidity": 0.2
             }
            },
            "type": "bar"
           }
          ],
          "barpolar": [
           {
            "marker": {
             "line": {
              "color": "#E5ECF6",
              "width": 0.5
             },
             "pattern": {
              "fillmode": "overlay",
              "size": 10,
              "solidity": 0.2
             }
            },
            "type": "barpolar"
           }
          ],
          "carpet": [
           {
            "aaxis": {
             "endlinecolor": "#2a3f5f",
             "gridcolor": "white",
             "linecolor": "white",
             "minorgridcolor": "white",
             "startlinecolor": "#2a3f5f"
            },
            "baxis": {
             "endlinecolor": "#2a3f5f",
             "gridcolor": "white",
             "linecolor": "white",
             "minorgridcolor": "white",
             "startlinecolor": "#2a3f5f"
            },
            "type": "carpet"
           }
          ],
          "choropleth": [
           {
            "colorbar": {
             "outlinewidth": 0,
             "ticks": ""
            },
            "type": "choropleth"
           }
          ],
          "contour": [
           {
            "colorbar": {
             "outlinewidth": 0,
             "ticks": ""
            },
            "colorscale": [
             [
              0,
              "#0d0887"
             ],
             [
              0.1111111111111111,
              "#46039f"
             ],
             [
              0.2222222222222222,
              "#7201a8"
             ],
             [
              0.3333333333333333,
              "#9c179e"
             ],
             [
              0.4444444444444444,
              "#bd3786"
             ],
             [
              0.5555555555555556,
              "#d8576b"
             ],
             [
              0.6666666666666666,
              "#ed7953"
             ],
             [
              0.7777777777777778,
              "#fb9f3a"
             ],
             [
              0.8888888888888888,
              "#fdca26"
             ],
             [
              1,
              "#f0f921"
             ]
            ],
            "type": "contour"
           }
          ],
          "contourcarpet": [
           {
            "colorbar": {
             "outlinewidth": 0,
             "ticks": ""
            },
            "type": "contourcarpet"
           }
          ],
          "heatmap": [
           {
            "colorbar": {
             "outlinewidth": 0,
             "ticks": ""
            },
            "colorscale": [
             [
              0,
              "#0d0887"
             ],
             [
              0.1111111111111111,
              "#46039f"
             ],
             [
              0.2222222222222222,
              "#7201a8"
             ],
             [
              0.3333333333333333,
              "#9c179e"
             ],
             [
              0.4444444444444444,
              "#bd3786"
             ],
             [
              0.5555555555555556,
              "#d8576b"
             ],
             [
              0.6666666666666666,
              "#ed7953"
             ],
             [
              0.7777777777777778,
              "#fb9f3a"
             ],
             [
              0.8888888888888888,
              "#fdca26"
             ],
             [
              1,
              "#f0f921"
             ]
            ],
            "type": "heatmap"
           }
          ],
          "heatmapgl": [
           {
            "colorbar": {
             "outlinewidth": 0,
             "ticks": ""
            },
            "colorscale": [
             [
              0,
              "#0d0887"
             ],
             [
              0.1111111111111111,
              "#46039f"
             ],
             [
              0.2222222222222222,
              "#7201a8"
             ],
             [
              0.3333333333333333,
              "#9c179e"
             ],
             [
              0.4444444444444444,
              "#bd3786"
             ],
             [
              0.5555555555555556,
              "#d8576b"
             ],
             [
              0.6666666666666666,
              "#ed7953"
             ],
             [
              0.7777777777777778,
              "#fb9f3a"
             ],
             [
              0.8888888888888888,
              "#fdca26"
             ],
             [
              1,
              "#f0f921"
             ]
            ],
            "type": "heatmapgl"
           }
          ],
          "histogram": [
           {
            "marker": {
             "pattern": {
              "fillmode": "overlay",
              "size": 10,
              "solidity": 0.2
             }
            },
            "type": "histogram"
           }
          ],
          "histogram2d": [
           {
            "colorbar": {
             "outlinewidth": 0,
             "ticks": ""
            },
            "colorscale": [
             [
              0,
              "#0d0887"
             ],
             [
              0.1111111111111111,
              "#46039f"
             ],
             [
              0.2222222222222222,
              "#7201a8"
             ],
             [
              0.3333333333333333,
              "#9c179e"
             ],
             [
              0.4444444444444444,
              "#bd3786"
             ],
             [
              0.5555555555555556,
              "#d8576b"
             ],
             [
              0.6666666666666666,
              "#ed7953"
             ],
             [
              0.7777777777777778,
              "#fb9f3a"
             ],
             [
              0.8888888888888888,
              "#fdca26"
             ],
             [
              1,
              "#f0f921"
             ]
            ],
            "type": "histogram2d"
           }
          ],
          "histogram2dcontour": [
           {
            "colorbar": {
             "outlinewidth": 0,
             "ticks": ""
            },
            "colorscale": [
             [
              0,
              "#0d0887"
             ],
             [
              0.1111111111111111,
              "#46039f"
             ],
             [
              0.2222222222222222,
              "#7201a8"
             ],
             [
              0.3333333333333333,
              "#9c179e"
             ],
             [
              0.4444444444444444,
              "#bd3786"
             ],
             [
              0.5555555555555556,
              "#d8576b"
             ],
             [
              0.6666666666666666,
              "#ed7953"
             ],
             [
              0.7777777777777778,
              "#fb9f3a"
             ],
             [
              0.8888888888888888,
              "#fdca26"
             ],
             [
              1,
              "#f0f921"
             ]
            ],
            "type": "histogram2dcontour"
           }
          ],
          "mesh3d": [
           {
            "colorbar": {
             "outlinewidth": 0,
             "ticks": ""
            },
            "type": "mesh3d"
           }
          ],
          "parcoords": [
           {
            "line": {
             "colorbar": {
              "outlinewidth": 0,
              "ticks": ""
             }
            },
            "type": "parcoords"
           }
          ],
          "pie": [
           {
            "automargin": true,
            "type": "pie"
           }
          ],
          "scatter": [
           {
            "fillpattern": {
             "fillmode": "overlay",
             "size": 10,
             "solidity": 0.2
            },
            "type": "scatter"
           }
          ],
          "scatter3d": [
           {
            "line": {
             "colorbar": {
              "outlinewidth": 0,
              "ticks": ""
             }
            },
            "marker": {
             "colorbar": {
              "outlinewidth": 0,
              "ticks": ""
             }
            },
            "type": "scatter3d"
           }
          ],
          "scattercarpet": [
           {
            "marker": {
             "colorbar": {
              "outlinewidth": 0,
              "ticks": ""
             }
            },
            "type": "scattercarpet"
           }
          ],
          "scattergeo": [
           {
            "marker": {
             "colorbar": {
              "outlinewidth": 0,
              "ticks": ""
             }
            },
            "type": "scattergeo"
           }
          ],
          "scattergl": [
           {
            "marker": {
             "colorbar": {
              "outlinewidth": 0,
              "ticks": ""
             }
            },
            "type": "scattergl"
           }
          ],
          "scattermapbox": [
           {
            "marker": {
             "colorbar": {
              "outlinewidth": 0,
              "ticks": ""
             }
            },
            "type": "scattermapbox"
           }
          ],
          "scatterpolar": [
           {
            "marker": {
             "colorbar": {
              "outlinewidth": 0,
              "ticks": ""
             }
            },
            "type": "scatterpolar"
           }
          ],
          "scatterpolargl": [
           {
            "marker": {
             "colorbar": {
              "outlinewidth": 0,
              "ticks": ""
             }
            },
            "type": "scatterpolargl"
           }
          ],
          "scatterternary": [
           {
            "marker": {
             "colorbar": {
              "outlinewidth": 0,
              "ticks": ""
             }
            },
            "type": "scatterternary"
           }
          ],
          "surface": [
           {
            "colorbar": {
             "outlinewidth": 0,
             "ticks": ""
            },
            "colorscale": [
             [
              0,
              "#0d0887"
             ],
             [
              0.1111111111111111,
              "#46039f"
             ],
             [
              0.2222222222222222,
              "#7201a8"
             ],
             [
              0.3333333333333333,
              "#9c179e"
             ],
             [
              0.4444444444444444,
              "#bd3786"
             ],
             [
              0.5555555555555556,
              "#d8576b"
             ],
             [
              0.6666666666666666,
              "#ed7953"
             ],
             [
              0.7777777777777778,
              "#fb9f3a"
             ],
             [
              0.8888888888888888,
              "#fdca26"
             ],
             [
              1,
              "#f0f921"
             ]
            ],
            "type": "surface"
           }
          ],
          "table": [
           {
            "cells": {
             "fill": {
              "color": "#EBF0F8"
             },
             "line": {
              "color": "white"
             }
            },
            "header": {
             "fill": {
              "color": "#C8D4E3"
             },
             "line": {
              "color": "white"
             }
            },
            "type": "table"
           }
          ]
         },
         "layout": {
          "annotationdefaults": {
           "arrowcolor": "#2a3f5f",
           "arrowhead": 0,
           "arrowwidth": 1
          },
          "autotypenumbers": "strict",
          "coloraxis": {
           "colorbar": {
            "outlinewidth": 0,
            "ticks": ""
           }
          },
          "colorscale": {
           "diverging": [
            [
             0,
             "#8e0152"
            ],
            [
             0.1,
             "#c51b7d"
            ],
            [
             0.2,
             "#de77ae"
            ],
            [
             0.3,
             "#f1b6da"
            ],
            [
             0.4,
             "#fde0ef"
            ],
            [
             0.5,
             "#f7f7f7"
            ],
            [
             0.6,
             "#e6f5d0"
            ],
            [
             0.7,
             "#b8e186"
            ],
            [
             0.8,
             "#7fbc41"
            ],
            [
             0.9,
             "#4d9221"
            ],
            [
             1,
             "#276419"
            ]
           ],
           "sequential": [
            [
             0,
             "#0d0887"
            ],
            [
             0.1111111111111111,
             "#46039f"
            ],
            [
             0.2222222222222222,
             "#7201a8"
            ],
            [
             0.3333333333333333,
             "#9c179e"
            ],
            [
             0.4444444444444444,
             "#bd3786"
            ],
            [
             0.5555555555555556,
             "#d8576b"
            ],
            [
             0.6666666666666666,
             "#ed7953"
            ],
            [
             0.7777777777777778,
             "#fb9f3a"
            ],
            [
             0.8888888888888888,
             "#fdca26"
            ],
            [
             1,
             "#f0f921"
            ]
           ],
           "sequentialminus": [
            [
             0,
             "#0d0887"
            ],
            [
             0.1111111111111111,
             "#46039f"
            ],
            [
             0.2222222222222222,
             "#7201a8"
            ],
            [
             0.3333333333333333,
             "#9c179e"
            ],
            [
             0.4444444444444444,
             "#bd3786"
            ],
            [
             0.5555555555555556,
             "#d8576b"
            ],
            [
             0.6666666666666666,
             "#ed7953"
            ],
            [
             0.7777777777777778,
             "#fb9f3a"
            ],
            [
             0.8888888888888888,
             "#fdca26"
            ],
            [
             1,
             "#f0f921"
            ]
           ]
          },
          "colorway": [
           "#636efa",
           "#EF553B",
           "#00cc96",
           "#ab63fa",
           "#FFA15A",
           "#19d3f3",
           "#FF6692",
           "#B6E880",
           "#FF97FF",
           "#FECB52"
          ],
          "font": {
           "color": "#2a3f5f"
          },
          "geo": {
           "bgcolor": "white",
           "lakecolor": "white",
           "landcolor": "#E5ECF6",
           "showlakes": true,
           "showland": true,
           "subunitcolor": "white"
          },
          "hoverlabel": {
           "align": "left"
          },
          "hovermode": "closest",
          "mapbox": {
           "style": "light"
          },
          "paper_bgcolor": "white",
          "plot_bgcolor": "#E5ECF6",
          "polar": {
           "angularaxis": {
            "gridcolor": "white",
            "linecolor": "white",
            "ticks": ""
           },
           "bgcolor": "#E5ECF6",
           "radialaxis": {
            "gridcolor": "white",
            "linecolor": "white",
            "ticks": ""
           }
          },
          "scene": {
           "xaxis": {
            "backgroundcolor": "#E5ECF6",
            "gridcolor": "white",
            "gridwidth": 2,
            "linecolor": "white",
            "showbackground": true,
            "ticks": "",
            "zerolinecolor": "white"
           },
           "yaxis": {
            "backgroundcolor": "#E5ECF6",
            "gridcolor": "white",
            "gridwidth": 2,
            "linecolor": "white",
            "showbackground": true,
            "ticks": "",
            "zerolinecolor": "white"
           },
           "zaxis": {
            "backgroundcolor": "#E5ECF6",
            "gridcolor": "white",
            "gridwidth": 2,
            "linecolor": "white",
            "showbackground": true,
            "ticks": "",
            "zerolinecolor": "white"
           }
          },
          "shapedefaults": {
           "line": {
            "color": "#2a3f5f"
           }
          },
          "ternary": {
           "aaxis": {
            "gridcolor": "white",
            "linecolor": "white",
            "ticks": ""
           },
           "baxis": {
            "gridcolor": "white",
            "linecolor": "white",
            "ticks": ""
           },
           "bgcolor": "#E5ECF6",
           "caxis": {
            "gridcolor": "white",
            "linecolor": "white",
            "ticks": ""
           }
          },
          "title": {
           "x": 0.05
          },
          "xaxis": {
           "automargin": true,
           "gridcolor": "white",
           "linecolor": "white",
           "ticks": "",
           "title": {
            "standoff": 15
           },
           "zerolinecolor": "white",
           "zerolinewidth": 2
          },
          "yaxis": {
           "automargin": true,
           "gridcolor": "white",
           "linecolor": "white",
           "ticks": "",
           "title": {
            "standoff": 15
           },
           "zerolinecolor": "white",
           "zerolinewidth": 2
          }
         }
        },
        "xaxis": {
         "anchor": "y",
         "domain": [
          0,
          1
         ],
         "title": {
          "text": "dia_semana"
         }
        },
        "yaxis": {
         "anchor": "x",
         "domain": [
          0,
          1
         ],
         "title": {
          "text": "contagem"
         }
        }
       }
      }
     },
     "metadata": {},
     "output_type": "display_data"
    }
   ],
   "source": [
    "contagem = df_ordenado.groupby(['tipo_veiculo', 'dia_semana']).size().reset_index(name='contagem')\n",
    "\n",
    "contagem_ordenada = contagem.sort_values(['tipo_veiculo', 'dia_semana', 'contagem'])\n",
    "\n",
    "contagem_ordenada['dia_semana'] = pd.Categorical(contagem_ordenada['dia_semana'], categories=ordem_dias_semana, ordered=True)\n",
    "\n",
    "contagem_ordenada = contagem_ordenada.sort_values('dia_semana')\n",
    "\n",
    "fig = px.line(contagem_ordenada, x='dia_semana', y='contagem', color='tipo_veiculo', markers=True)\n",
    "fig.show()\n"
   ]
  },
  {
   "cell_type": "code",
   "execution_count": 9,
   "metadata": {},
   "outputs": [
    {
     "data": {
      "application/vnd.plotly.v1+json": {
       "config": {
        "plotlyServerURL": "https://plot.ly"
       },
       "data": [
        {
         "alignmentgroup": "True",
         "bingroup": "x",
         "histfunc": "sum",
         "hovertemplate": "tipo_veiculo=Caminhão<br>dia_semana=%{x}<br>sum of 0=%{y}<extra></extra>",
         "legendgroup": "Caminhão",
         "marker": {
          "color": "#636efa",
          "pattern": {
           "shape": ""
          }
         },
         "name": "Caminhão",
         "offsetgroup": "Caminhão",
         "orientation": "v",
         "showlegend": true,
         "type": "histogram",
         "x": [
          "segunda-feira",
          "terça-feira",
          "quarta-feira",
          "quinta-feira",
          "sexta-feira",
          "sábado",
          "domingo"
         ],
         "xaxis": "x",
         "y": [
          1814,
          2383,
          2572,
          1999,
          2293,
          1823,
          1204
         ],
         "yaxis": "y"
        },
        {
         "alignmentgroup": "True",
         "bingroup": "x",
         "histfunc": "sum",
         "hovertemplate": "tipo_veiculo=Utilitário<br>dia_semana=%{x}<br>sum of 0=%{y}<extra></extra>",
         "legendgroup": "Utilitário",
         "marker": {
          "color": "#EF553B",
          "pattern": {
           "shape": ""
          }
         },
         "name": "Utilitário",
         "offsetgroup": "Utilitário",
         "orientation": "v",
         "showlegend": true,
         "type": "histogram",
         "x": [
          "segunda-feira",
          "terça-feira",
          "quarta-feira",
          "quinta-feira",
          "sexta-feira",
          "sábado",
          "domingo"
         ],
         "xaxis": "x",
         "y": [
          505,
          459,
          503,
          514,
          501,
          504,
          652
         ],
         "yaxis": "y"
        },
        {
         "alignmentgroup": "True",
         "bingroup": "x",
         "histfunc": "sum",
         "hovertemplate": "tipo_veiculo=Caminhonete<br>dia_semana=%{x}<br>sum of 0=%{y}<extra></extra>",
         "legendgroup": "Caminhonete",
         "marker": {
          "color": "#00cc96",
          "pattern": {
           "shape": ""
          }
         },
         "name": "Caminhonete",
         "offsetgroup": "Caminhonete",
         "orientation": "v",
         "showlegend": true,
         "type": "histogram",
         "x": [
          "segunda-feira",
          "terça-feira",
          "quarta-feira",
          "quinta-feira",
          "sexta-feira",
          "sábado",
          "domingo"
         ],
         "xaxis": "x",
         "y": [
          3289,
          2428,
          2636,
          2579,
          3081,
          2992,
          3117
         ],
         "yaxis": "y"
        },
        {
         "alignmentgroup": "True",
         "bingroup": "x",
         "histfunc": "sum",
         "hovertemplate": "tipo_veiculo=Automóvel<br>dia_semana=%{x}<br>sum of 0=%{y}<extra></extra>",
         "legendgroup": "Automóvel",
         "marker": {
          "color": "#ab63fa",
          "pattern": {
           "shape": ""
          }
         },
         "name": "Automóvel",
         "offsetgroup": "Automóvel",
         "orientation": "v",
         "showlegend": true,
         "type": "histogram",
         "x": [
          "segunda-feira",
          "terça-feira",
          "quarta-feira",
          "quinta-feira",
          "sexta-feira",
          "sábado",
          "domingo"
         ],
         "xaxis": "x",
         "y": [
          11042,
          8894,
          8561,
          8465,
          12070,
          15228,
          17540
         ],
         "yaxis": "y"
        },
        {
         "alignmentgroup": "True",
         "bingroup": "x",
         "histfunc": "sum",
         "hovertemplate": "tipo_veiculo=Motoneta<br>dia_semana=%{x}<br>sum of 0=%{y}<extra></extra>",
         "legendgroup": "Motoneta",
         "marker": {
          "color": "#FFA15A",
          "pattern": {
           "shape": ""
          }
         },
         "name": "Motoneta",
         "offsetgroup": "Motoneta",
         "orientation": "v",
         "showlegend": true,
         "type": "histogram",
         "x": [
          "segunda-feira",
          "terça-feira",
          "quarta-feira",
          "quinta-feira",
          "sexta-feira",
          "sábado",
          "domingo"
         ],
         "xaxis": "x",
         "y": [
          638,
          658,
          629,
          830,
          535,
          713,
          540
         ],
         "yaxis": "y"
        },
        {
         "alignmentgroup": "True",
         "bingroup": "x",
         "histfunc": "sum",
         "hovertemplate": "tipo_veiculo=Não Informado<br>dia_semana=%{x}<br>sum of 0=%{y}<extra></extra>",
         "legendgroup": "Não Informado",
         "marker": {
          "color": "#19d3f3",
          "pattern": {
           "shape": ""
          }
         },
         "name": "Não Informado",
         "offsetgroup": "Não Informado",
         "orientation": "v",
         "showlegend": true,
         "type": "histogram",
         "x": [
          "segunda-feira",
          "terça-feira",
          "quarta-feira",
          "quinta-feira",
          "sexta-feira",
          "sábado",
          "domingo"
         ],
         "xaxis": "x",
         "y": [
          941,
          547,
          741,
          848,
          721,
          1030,
          1212
         ],
         "yaxis": "y"
        },
        {
         "alignmentgroup": "True",
         "bingroup": "x",
         "histfunc": "sum",
         "hovertemplate": "tipo_veiculo=Ônibus<br>dia_semana=%{x}<br>sum of 0=%{y}<extra></extra>",
         "legendgroup": "Ônibus",
         "marker": {
          "color": "#FF6692",
          "pattern": {
           "shape": ""
          }
         },
         "name": "Ônibus",
         "offsetgroup": "Ônibus",
         "orientation": "v",
         "showlegend": true,
         "type": "histogram",
         "x": [
          "segunda-feira",
          "terça-feira",
          "quarta-feira",
          "quinta-feira",
          "sexta-feira",
          "sábado",
          "domingo"
         ],
         "xaxis": "x",
         "y": [
          1480,
          1969,
          2694,
          1139,
          1091,
          505,
          2885
         ],
         "yaxis": "y"
        },
        {
         "alignmentgroup": "True",
         "bingroup": "x",
         "histfunc": "sum",
         "hovertemplate": "tipo_veiculo=Semireboque<br>dia_semana=%{x}<br>sum of 0=%{y}<extra></extra>",
         "legendgroup": "Semireboque",
         "marker": {
          "color": "#B6E880",
          "pattern": {
           "shape": ""
          }
         },
         "name": "Semireboque",
         "offsetgroup": "Semireboque",
         "orientation": "v",
         "showlegend": true,
         "type": "histogram",
         "x": [
          "segunda-feira",
          "terça-feira",
          "quarta-feira",
          "quinta-feira",
          "sexta-feira",
          "sábado",
          "domingo"
         ],
         "xaxis": "x",
         "y": [
          2362,
          2563,
          3095,
          3004,
          2570,
          2863,
          2428
         ],
         "yaxis": "y"
        },
        {
         "alignmentgroup": "True",
         "bingroup": "x",
         "histfunc": "sum",
         "hovertemplate": "tipo_veiculo=Caminhão-trator<br>dia_semana=%{x}<br>sum of 0=%{y}<extra></extra>",
         "legendgroup": "Caminhão-trator",
         "marker": {
          "color": "#FF97FF",
          "pattern": {
           "shape": ""
          }
         },
         "name": "Caminhão-trator",
         "offsetgroup": "Caminhão-trator",
         "orientation": "v",
         "showlegend": true,
         "type": "histogram",
         "x": [
          "segunda-feira",
          "terça-feira",
          "quarta-feira",
          "quinta-feira",
          "sexta-feira",
          "sábado",
          "domingo"
         ],
         "xaxis": "x",
         "y": [
          2262,
          2550,
          2764,
          2613,
          2306,
          2477,
          2317
         ],
         "yaxis": "y"
        },
        {
         "alignmentgroup": "True",
         "bingroup": "x",
         "histfunc": "sum",
         "hovertemplate": "tipo_veiculo=Motocicleta<br>dia_semana=%{x}<br>sum of 0=%{y}<extra></extra>",
         "legendgroup": "Motocicleta",
         "marker": {
          "color": "#FECB52",
          "pattern": {
           "shape": ""
          }
         },
         "name": "Motocicleta",
         "offsetgroup": "Motocicleta",
         "orientation": "v",
         "showlegend": true,
         "type": "histogram",
         "x": [
          "segunda-feira",
          "terça-feira",
          "quarta-feira",
          "quinta-feira",
          "sexta-feira",
          "sábado",
          "domingo"
         ],
         "xaxis": "x",
         "y": [
          6087,
          5691,
          5438,
          5544,
          6502,
          6680,
          7270
         ],
         "yaxis": "y"
        }
       ],
       "layout": {
        "barmode": "relative",
        "legend": {
         "title": {
          "text": "tipo_veiculo"
         },
         "tracegroupgap": 0
        },
        "margin": {
         "t": 60
        },
        "template": {
         "data": {
          "bar": [
           {
            "error_x": {
             "color": "#2a3f5f"
            },
            "error_y": {
             "color": "#2a3f5f"
            },
            "marker": {
             "line": {
              "color": "#E5ECF6",
              "width": 0.5
             },
             "pattern": {
              "fillmode": "overlay",
              "size": 10,
              "solidity": 0.2
             }
            },
            "type": "bar"
           }
          ],
          "barpolar": [
           {
            "marker": {
             "line": {
              "color": "#E5ECF6",
              "width": 0.5
             },
             "pattern": {
              "fillmode": "overlay",
              "size": 10,
              "solidity": 0.2
             }
            },
            "type": "barpolar"
           }
          ],
          "carpet": [
           {
            "aaxis": {
             "endlinecolor": "#2a3f5f",
             "gridcolor": "white",
             "linecolor": "white",
             "minorgridcolor": "white",
             "startlinecolor": "#2a3f5f"
            },
            "baxis": {
             "endlinecolor": "#2a3f5f",
             "gridcolor": "white",
             "linecolor": "white",
             "minorgridcolor": "white",
             "startlinecolor": "#2a3f5f"
            },
            "type": "carpet"
           }
          ],
          "choropleth": [
           {
            "colorbar": {
             "outlinewidth": 0,
             "ticks": ""
            },
            "type": "choropleth"
           }
          ],
          "contour": [
           {
            "colorbar": {
             "outlinewidth": 0,
             "ticks": ""
            },
            "colorscale": [
             [
              0,
              "#0d0887"
             ],
             [
              0.1111111111111111,
              "#46039f"
             ],
             [
              0.2222222222222222,
              "#7201a8"
             ],
             [
              0.3333333333333333,
              "#9c179e"
             ],
             [
              0.4444444444444444,
              "#bd3786"
             ],
             [
              0.5555555555555556,
              "#d8576b"
             ],
             [
              0.6666666666666666,
              "#ed7953"
             ],
             [
              0.7777777777777778,
              "#fb9f3a"
             ],
             [
              0.8888888888888888,
              "#fdca26"
             ],
             [
              1,
              "#f0f921"
             ]
            ],
            "type": "contour"
           }
          ],
          "contourcarpet": [
           {
            "colorbar": {
             "outlinewidth": 0,
             "ticks": ""
            },
            "type": "contourcarpet"
           }
          ],
          "heatmap": [
           {
            "colorbar": {
             "outlinewidth": 0,
             "ticks": ""
            },
            "colorscale": [
             [
              0,
              "#0d0887"
             ],
             [
              0.1111111111111111,
              "#46039f"
             ],
             [
              0.2222222222222222,
              "#7201a8"
             ],
             [
              0.3333333333333333,
              "#9c179e"
             ],
             [
              0.4444444444444444,
              "#bd3786"
             ],
             [
              0.5555555555555556,
              "#d8576b"
             ],
             [
              0.6666666666666666,
              "#ed7953"
             ],
             [
              0.7777777777777778,
              "#fb9f3a"
             ],
             [
              0.8888888888888888,
              "#fdca26"
             ],
             [
              1,
              "#f0f921"
             ]
            ],
            "type": "heatmap"
           }
          ],
          "heatmapgl": [
           {
            "colorbar": {
             "outlinewidth": 0,
             "ticks": ""
            },
            "colorscale": [
             [
              0,
              "#0d0887"
             ],
             [
              0.1111111111111111,
              "#46039f"
             ],
             [
              0.2222222222222222,
              "#7201a8"
             ],
             [
              0.3333333333333333,
              "#9c179e"
             ],
             [
              0.4444444444444444,
              "#bd3786"
             ],
             [
              0.5555555555555556,
              "#d8576b"
             ],
             [
              0.6666666666666666,
              "#ed7953"
             ],
             [
              0.7777777777777778,
              "#fb9f3a"
             ],
             [
              0.8888888888888888,
              "#fdca26"
             ],
             [
              1,
              "#f0f921"
             ]
            ],
            "type": "heatmapgl"
           }
          ],
          "histogram": [
           {
            "marker": {
             "pattern": {
              "fillmode": "overlay",
              "size": 10,
              "solidity": 0.2
             }
            },
            "type": "histogram"
           }
          ],
          "histogram2d": [
           {
            "colorbar": {
             "outlinewidth": 0,
             "ticks": ""
            },
            "colorscale": [
             [
              0,
              "#0d0887"
             ],
             [
              0.1111111111111111,
              "#46039f"
             ],
             [
              0.2222222222222222,
              "#7201a8"
             ],
             [
              0.3333333333333333,
              "#9c179e"
             ],
             [
              0.4444444444444444,
              "#bd3786"
             ],
             [
              0.5555555555555556,
              "#d8576b"
             ],
             [
              0.6666666666666666,
              "#ed7953"
             ],
             [
              0.7777777777777778,
              "#fb9f3a"
             ],
             [
              0.8888888888888888,
              "#fdca26"
             ],
             [
              1,
              "#f0f921"
             ]
            ],
            "type": "histogram2d"
           }
          ],
          "histogram2dcontour": [
           {
            "colorbar": {
             "outlinewidth": 0,
             "ticks": ""
            },
            "colorscale": [
             [
              0,
              "#0d0887"
             ],
             [
              0.1111111111111111,
              "#46039f"
             ],
             [
              0.2222222222222222,
              "#7201a8"
             ],
             [
              0.3333333333333333,
              "#9c179e"
             ],
             [
              0.4444444444444444,
              "#bd3786"
             ],
             [
              0.5555555555555556,
              "#d8576b"
             ],
             [
              0.6666666666666666,
              "#ed7953"
             ],
             [
              0.7777777777777778,
              "#fb9f3a"
             ],
             [
              0.8888888888888888,
              "#fdca26"
             ],
             [
              1,
              "#f0f921"
             ]
            ],
            "type": "histogram2dcontour"
           }
          ],
          "mesh3d": [
           {
            "colorbar": {
             "outlinewidth": 0,
             "ticks": ""
            },
            "type": "mesh3d"
           }
          ],
          "parcoords": [
           {
            "line": {
             "colorbar": {
              "outlinewidth": 0,
              "ticks": ""
             }
            },
            "type": "parcoords"
           }
          ],
          "pie": [
           {
            "automargin": true,
            "type": "pie"
           }
          ],
          "scatter": [
           {
            "fillpattern": {
             "fillmode": "overlay",
             "size": 10,
             "solidity": 0.2
            },
            "type": "scatter"
           }
          ],
          "scatter3d": [
           {
            "line": {
             "colorbar": {
              "outlinewidth": 0,
              "ticks": ""
             }
            },
            "marker": {
             "colorbar": {
              "outlinewidth": 0,
              "ticks": ""
             }
            },
            "type": "scatter3d"
           }
          ],
          "scattercarpet": [
           {
            "marker": {
             "colorbar": {
              "outlinewidth": 0,
              "ticks": ""
             }
            },
            "type": "scattercarpet"
           }
          ],
          "scattergeo": [
           {
            "marker": {
             "colorbar": {
              "outlinewidth": 0,
              "ticks": ""
             }
            },
            "type": "scattergeo"
           }
          ],
          "scattergl": [
           {
            "marker": {
             "colorbar": {
              "outlinewidth": 0,
              "ticks": ""
             }
            },
            "type": "scattergl"
           }
          ],
          "scattermapbox": [
           {
            "marker": {
             "colorbar": {
              "outlinewidth": 0,
              "ticks": ""
             }
            },
            "type": "scattermapbox"
           }
          ],
          "scatterpolar": [
           {
            "marker": {
             "colorbar": {
              "outlinewidth": 0,
              "ticks": ""
             }
            },
            "type": "scatterpolar"
           }
          ],
          "scatterpolargl": [
           {
            "marker": {
             "colorbar": {
              "outlinewidth": 0,
              "ticks": ""
             }
            },
            "type": "scatterpolargl"
           }
          ],
          "scatterternary": [
           {
            "marker": {
             "colorbar": {
              "outlinewidth": 0,
              "ticks": ""
             }
            },
            "type": "scatterternary"
           }
          ],
          "surface": [
           {
            "colorbar": {
             "outlinewidth": 0,
             "ticks": ""
            },
            "colorscale": [
             [
              0,
              "#0d0887"
             ],
             [
              0.1111111111111111,
              "#46039f"
             ],
             [
              0.2222222222222222,
              "#7201a8"
             ],
             [
              0.3333333333333333,
              "#9c179e"
             ],
             [
              0.4444444444444444,
              "#bd3786"
             ],
             [
              0.5555555555555556,
              "#d8576b"
             ],
             [
              0.6666666666666666,
              "#ed7953"
             ],
             [
              0.7777777777777778,
              "#fb9f3a"
             ],
             [
              0.8888888888888888,
              "#fdca26"
             ],
             [
              1,
              "#f0f921"
             ]
            ],
            "type": "surface"
           }
          ],
          "table": [
           {
            "cells": {
             "fill": {
              "color": "#EBF0F8"
             },
             "line": {
              "color": "white"
             }
            },
            "header": {
             "fill": {
              "color": "#C8D4E3"
             },
             "line": {
              "color": "white"
             }
            },
            "type": "table"
           }
          ]
         },
         "layout": {
          "annotationdefaults": {
           "arrowcolor": "#2a3f5f",
           "arrowhead": 0,
           "arrowwidth": 1
          },
          "autotypenumbers": "strict",
          "coloraxis": {
           "colorbar": {
            "outlinewidth": 0,
            "ticks": ""
           }
          },
          "colorscale": {
           "diverging": [
            [
             0,
             "#8e0152"
            ],
            [
             0.1,
             "#c51b7d"
            ],
            [
             0.2,
             "#de77ae"
            ],
            [
             0.3,
             "#f1b6da"
            ],
            [
             0.4,
             "#fde0ef"
            ],
            [
             0.5,
             "#f7f7f7"
            ],
            [
             0.6,
             "#e6f5d0"
            ],
            [
             0.7,
             "#b8e186"
            ],
            [
             0.8,
             "#7fbc41"
            ],
            [
             0.9,
             "#4d9221"
            ],
            [
             1,
             "#276419"
            ]
           ],
           "sequential": [
            [
             0,
             "#0d0887"
            ],
            [
             0.1111111111111111,
             "#46039f"
            ],
            [
             0.2222222222222222,
             "#7201a8"
            ],
            [
             0.3333333333333333,
             "#9c179e"
            ],
            [
             0.4444444444444444,
             "#bd3786"
            ],
            [
             0.5555555555555556,
             "#d8576b"
            ],
            [
             0.6666666666666666,
             "#ed7953"
            ],
            [
             0.7777777777777778,
             "#fb9f3a"
            ],
            [
             0.8888888888888888,
             "#fdca26"
            ],
            [
             1,
             "#f0f921"
            ]
           ],
           "sequentialminus": [
            [
             0,
             "#0d0887"
            ],
            [
             0.1111111111111111,
             "#46039f"
            ],
            [
             0.2222222222222222,
             "#7201a8"
            ],
            [
             0.3333333333333333,
             "#9c179e"
            ],
            [
             0.4444444444444444,
             "#bd3786"
            ],
            [
             0.5555555555555556,
             "#d8576b"
            ],
            [
             0.6666666666666666,
             "#ed7953"
            ],
            [
             0.7777777777777778,
             "#fb9f3a"
            ],
            [
             0.8888888888888888,
             "#fdca26"
            ],
            [
             1,
             "#f0f921"
            ]
           ]
          },
          "colorway": [
           "#636efa",
           "#EF553B",
           "#00cc96",
           "#ab63fa",
           "#FFA15A",
           "#19d3f3",
           "#FF6692",
           "#B6E880",
           "#FF97FF",
           "#FECB52"
          ],
          "font": {
           "color": "#2a3f5f"
          },
          "geo": {
           "bgcolor": "white",
           "lakecolor": "white",
           "landcolor": "#E5ECF6",
           "showlakes": true,
           "showland": true,
           "subunitcolor": "white"
          },
          "hoverlabel": {
           "align": "left"
          },
          "hovermode": "closest",
          "mapbox": {
           "style": "light"
          },
          "paper_bgcolor": "white",
          "plot_bgcolor": "#E5ECF6",
          "polar": {
           "angularaxis": {
            "gridcolor": "white",
            "linecolor": "white",
            "ticks": ""
           },
           "bgcolor": "#E5ECF6",
           "radialaxis": {
            "gridcolor": "white",
            "linecolor": "white",
            "ticks": ""
           }
          },
          "scene": {
           "xaxis": {
            "backgroundcolor": "#E5ECF6",
            "gridcolor": "white",
            "gridwidth": 2,
            "linecolor": "white",
            "showbackground": true,
            "ticks": "",
            "zerolinecolor": "white"
           },
           "yaxis": {
            "backgroundcolor": "#E5ECF6",
            "gridcolor": "white",
            "gridwidth": 2,
            "linecolor": "white",
            "showbackground": true,
            "ticks": "",
            "zerolinecolor": "white"
           },
           "zaxis": {
            "backgroundcolor": "#E5ECF6",
            "gridcolor": "white",
            "gridwidth": 2,
            "linecolor": "white",
            "showbackground": true,
            "ticks": "",
            "zerolinecolor": "white"
           }
          },
          "shapedefaults": {
           "line": {
            "color": "#2a3f5f"
           }
          },
          "ternary": {
           "aaxis": {
            "gridcolor": "white",
            "linecolor": "white",
            "ticks": ""
           },
           "baxis": {
            "gridcolor": "white",
            "linecolor": "white",
            "ticks": ""
           },
           "bgcolor": "#E5ECF6",
           "caxis": {
            "gridcolor": "white",
            "linecolor": "white",
            "ticks": ""
           }
          },
          "title": {
           "x": 0.05
          },
          "xaxis": {
           "automargin": true,
           "gridcolor": "white",
           "linecolor": "white",
           "ticks": "",
           "title": {
            "standoff": 15
           },
           "zerolinecolor": "white",
           "zerolinewidth": 2
          },
          "yaxis": {
           "automargin": true,
           "gridcolor": "white",
           "linecolor": "white",
           "ticks": "",
           "title": {
            "standoff": 15
           },
           "zerolinecolor": "white",
           "zerolinewidth": 2
          }
         }
        },
        "xaxis": {
         "anchor": "y",
         "domain": [
          0,
          1
         ],
         "title": {
          "text": "dia_semana"
         }
        },
        "yaxis": {
         "anchor": "x",
         "domain": [
          0,
          1
         ],
         "title": {
          "text": "sum of 0"
         }
        }
       }
      }
     },
     "metadata": {},
     "output_type": "display_data"
    }
   ],
   "source": [
    "fig = px.histogram(dataset_veiculos_ordenado, x='dia_semana', y=0, color='tipo_veiculo')\n",
    "fig.show()"
   ]
  },
  {
   "cell_type": "code",
   "execution_count": 10,
   "metadata": {},
   "outputs": [
    {
     "data": {
      "application/vnd.plotly.v1+json": {
       "config": {
        "plotlyServerURL": "https://plot.ly"
       },
       "data": [
        {
         "hovertemplate": "tipo_veiculo=Caminhão<br>dia_semana=%{x}<br>0=%{y}<extra></extra>",
         "legendgroup": "Caminhão",
         "line": {
          "color": "#636efa",
          "dash": "solid"
         },
         "marker": {
          "symbol": "circle"
         },
         "mode": "lines+markers",
         "name": "Caminhão",
         "orientation": "v",
         "showlegend": true,
         "type": "scatter",
         "x": [
          "segunda-feira",
          "terça-feira",
          "quarta-feira",
          "quinta-feira",
          "sexta-feira",
          "sábado",
          "domingo"
         ],
         "xaxis": "x",
         "y": [
          1814,
          2383,
          2572,
          1999,
          2293,
          1823,
          1204
         ],
         "yaxis": "y"
        },
        {
         "hovertemplate": "tipo_veiculo=Utilitário<br>dia_semana=%{x}<br>0=%{y}<extra></extra>",
         "legendgroup": "Utilitário",
         "line": {
          "color": "#EF553B",
          "dash": "solid"
         },
         "marker": {
          "symbol": "circle"
         },
         "mode": "lines+markers",
         "name": "Utilitário",
         "orientation": "v",
         "showlegend": true,
         "type": "scatter",
         "x": [
          "segunda-feira",
          "terça-feira",
          "quarta-feira",
          "quinta-feira",
          "sexta-feira",
          "sábado",
          "domingo"
         ],
         "xaxis": "x",
         "y": [
          505,
          459,
          503,
          514,
          501,
          504,
          652
         ],
         "yaxis": "y"
        },
        {
         "hovertemplate": "tipo_veiculo=Caminhonete<br>dia_semana=%{x}<br>0=%{y}<extra></extra>",
         "legendgroup": "Caminhonete",
         "line": {
          "color": "#00cc96",
          "dash": "solid"
         },
         "marker": {
          "symbol": "circle"
         },
         "mode": "lines+markers",
         "name": "Caminhonete",
         "orientation": "v",
         "showlegend": true,
         "type": "scatter",
         "x": [
          "segunda-feira",
          "terça-feira",
          "quarta-feira",
          "quinta-feira",
          "sexta-feira",
          "sábado",
          "domingo"
         ],
         "xaxis": "x",
         "y": [
          3289,
          2428,
          2636,
          2579,
          3081,
          2992,
          3117
         ],
         "yaxis": "y"
        },
        {
         "hovertemplate": "tipo_veiculo=Automóvel<br>dia_semana=%{x}<br>0=%{y}<extra></extra>",
         "legendgroup": "Automóvel",
         "line": {
          "color": "#ab63fa",
          "dash": "solid"
         },
         "marker": {
          "symbol": "circle"
         },
         "mode": "lines+markers",
         "name": "Automóvel",
         "orientation": "v",
         "showlegend": true,
         "type": "scatter",
         "x": [
          "segunda-feira",
          "terça-feira",
          "quarta-feira",
          "quinta-feira",
          "sexta-feira",
          "sábado",
          "domingo"
         ],
         "xaxis": "x",
         "y": [
          11042,
          8894,
          8561,
          8465,
          12070,
          15228,
          17540
         ],
         "yaxis": "y"
        },
        {
         "hovertemplate": "tipo_veiculo=Motoneta<br>dia_semana=%{x}<br>0=%{y}<extra></extra>",
         "legendgroup": "Motoneta",
         "line": {
          "color": "#FFA15A",
          "dash": "solid"
         },
         "marker": {
          "symbol": "circle"
         },
         "mode": "lines+markers",
         "name": "Motoneta",
         "orientation": "v",
         "showlegend": true,
         "type": "scatter",
         "x": [
          "segunda-feira",
          "terça-feira",
          "quarta-feira",
          "quinta-feira",
          "sexta-feira",
          "sábado",
          "domingo"
         ],
         "xaxis": "x",
         "y": [
          638,
          658,
          629,
          830,
          535,
          713,
          540
         ],
         "yaxis": "y"
        },
        {
         "hovertemplate": "tipo_veiculo=Não Informado<br>dia_semana=%{x}<br>0=%{y}<extra></extra>",
         "legendgroup": "Não Informado",
         "line": {
          "color": "#19d3f3",
          "dash": "solid"
         },
         "marker": {
          "symbol": "circle"
         },
         "mode": "lines+markers",
         "name": "Não Informado",
         "orientation": "v",
         "showlegend": true,
         "type": "scatter",
         "x": [
          "segunda-feira",
          "terça-feira",
          "quarta-feira",
          "quinta-feira",
          "sexta-feira",
          "sábado",
          "domingo"
         ],
         "xaxis": "x",
         "y": [
          941,
          547,
          741,
          848,
          721,
          1030,
          1212
         ],
         "yaxis": "y"
        },
        {
         "hovertemplate": "tipo_veiculo=Ônibus<br>dia_semana=%{x}<br>0=%{y}<extra></extra>",
         "legendgroup": "Ônibus",
         "line": {
          "color": "#FF6692",
          "dash": "solid"
         },
         "marker": {
          "symbol": "circle"
         },
         "mode": "lines+markers",
         "name": "Ônibus",
         "orientation": "v",
         "showlegend": true,
         "type": "scatter",
         "x": [
          "segunda-feira",
          "terça-feira",
          "quarta-feira",
          "quinta-feira",
          "sexta-feira",
          "sábado",
          "domingo"
         ],
         "xaxis": "x",
         "y": [
          1480,
          1969,
          2694,
          1139,
          1091,
          505,
          2885
         ],
         "yaxis": "y"
        },
        {
         "hovertemplate": "tipo_veiculo=Semireboque<br>dia_semana=%{x}<br>0=%{y}<extra></extra>",
         "legendgroup": "Semireboque",
         "line": {
          "color": "#B6E880",
          "dash": "solid"
         },
         "marker": {
          "symbol": "circle"
         },
         "mode": "lines+markers",
         "name": "Semireboque",
         "orientation": "v",
         "showlegend": true,
         "type": "scatter",
         "x": [
          "segunda-feira",
          "terça-feira",
          "quarta-feira",
          "quinta-feira",
          "sexta-feira",
          "sábado",
          "domingo"
         ],
         "xaxis": "x",
         "y": [
          2362,
          2563,
          3095,
          3004,
          2570,
          2863,
          2428
         ],
         "yaxis": "y"
        },
        {
         "hovertemplate": "tipo_veiculo=Caminhão-trator<br>dia_semana=%{x}<br>0=%{y}<extra></extra>",
         "legendgroup": "Caminhão-trator",
         "line": {
          "color": "#FF97FF",
          "dash": "solid"
         },
         "marker": {
          "symbol": "circle"
         },
         "mode": "lines+markers",
         "name": "Caminhão-trator",
         "orientation": "v",
         "showlegend": true,
         "type": "scatter",
         "x": [
          "segunda-feira",
          "terça-feira",
          "quarta-feira",
          "quinta-feira",
          "sexta-feira",
          "sábado",
          "domingo"
         ],
         "xaxis": "x",
         "y": [
          2262,
          2550,
          2764,
          2613,
          2306,
          2477,
          2317
         ],
         "yaxis": "y"
        },
        {
         "hovertemplate": "tipo_veiculo=Motocicleta<br>dia_semana=%{x}<br>0=%{y}<extra></extra>",
         "legendgroup": "Motocicleta",
         "line": {
          "color": "#FECB52",
          "dash": "solid"
         },
         "marker": {
          "symbol": "circle"
         },
         "mode": "lines+markers",
         "name": "Motocicleta",
         "orientation": "v",
         "showlegend": true,
         "type": "scatter",
         "x": [
          "segunda-feira",
          "terça-feira",
          "quarta-feira",
          "quinta-feira",
          "sexta-feira",
          "sábado",
          "domingo"
         ],
         "xaxis": "x",
         "y": [
          6087,
          5691,
          5438,
          5544,
          6502,
          6680,
          7270
         ],
         "yaxis": "y"
        }
       ],
       "layout": {
        "legend": {
         "title": {
          "text": "tipo_veiculo"
         },
         "tracegroupgap": 0
        },
        "margin": {
         "t": 60
        },
        "template": {
         "data": {
          "bar": [
           {
            "error_x": {
             "color": "#2a3f5f"
            },
            "error_y": {
             "color": "#2a3f5f"
            },
            "marker": {
             "line": {
              "color": "#E5ECF6",
              "width": 0.5
             },
             "pattern": {
              "fillmode": "overlay",
              "size": 10,
              "solidity": 0.2
             }
            },
            "type": "bar"
           }
          ],
          "barpolar": [
           {
            "marker": {
             "line": {
              "color": "#E5ECF6",
              "width": 0.5
             },
             "pattern": {
              "fillmode": "overlay",
              "size": 10,
              "solidity": 0.2
             }
            },
            "type": "barpolar"
           }
          ],
          "carpet": [
           {
            "aaxis": {
             "endlinecolor": "#2a3f5f",
             "gridcolor": "white",
             "linecolor": "white",
             "minorgridcolor": "white",
             "startlinecolor": "#2a3f5f"
            },
            "baxis": {
             "endlinecolor": "#2a3f5f",
             "gridcolor": "white",
             "linecolor": "white",
             "minorgridcolor": "white",
             "startlinecolor": "#2a3f5f"
            },
            "type": "carpet"
           }
          ],
          "choropleth": [
           {
            "colorbar": {
             "outlinewidth": 0,
             "ticks": ""
            },
            "type": "choropleth"
           }
          ],
          "contour": [
           {
            "colorbar": {
             "outlinewidth": 0,
             "ticks": ""
            },
            "colorscale": [
             [
              0,
              "#0d0887"
             ],
             [
              0.1111111111111111,
              "#46039f"
             ],
             [
              0.2222222222222222,
              "#7201a8"
             ],
             [
              0.3333333333333333,
              "#9c179e"
             ],
             [
              0.4444444444444444,
              "#bd3786"
             ],
             [
              0.5555555555555556,
              "#d8576b"
             ],
             [
              0.6666666666666666,
              "#ed7953"
             ],
             [
              0.7777777777777778,
              "#fb9f3a"
             ],
             [
              0.8888888888888888,
              "#fdca26"
             ],
             [
              1,
              "#f0f921"
             ]
            ],
            "type": "contour"
           }
          ],
          "contourcarpet": [
           {
            "colorbar": {
             "outlinewidth": 0,
             "ticks": ""
            },
            "type": "contourcarpet"
           }
          ],
          "heatmap": [
           {
            "colorbar": {
             "outlinewidth": 0,
             "ticks": ""
            },
            "colorscale": [
             [
              0,
              "#0d0887"
             ],
             [
              0.1111111111111111,
              "#46039f"
             ],
             [
              0.2222222222222222,
              "#7201a8"
             ],
             [
              0.3333333333333333,
              "#9c179e"
             ],
             [
              0.4444444444444444,
              "#bd3786"
             ],
             [
              0.5555555555555556,
              "#d8576b"
             ],
             [
              0.6666666666666666,
              "#ed7953"
             ],
             [
              0.7777777777777778,
              "#fb9f3a"
             ],
             [
              0.8888888888888888,
              "#fdca26"
             ],
             [
              1,
              "#f0f921"
             ]
            ],
            "type": "heatmap"
           }
          ],
          "heatmapgl": [
           {
            "colorbar": {
             "outlinewidth": 0,
             "ticks": ""
            },
            "colorscale": [
             [
              0,
              "#0d0887"
             ],
             [
              0.1111111111111111,
              "#46039f"
             ],
             [
              0.2222222222222222,
              "#7201a8"
             ],
             [
              0.3333333333333333,
              "#9c179e"
             ],
             [
              0.4444444444444444,
              "#bd3786"
             ],
             [
              0.5555555555555556,
              "#d8576b"
             ],
             [
              0.6666666666666666,
              "#ed7953"
             ],
             [
              0.7777777777777778,
              "#fb9f3a"
             ],
             [
              0.8888888888888888,
              "#fdca26"
             ],
             [
              1,
              "#f0f921"
             ]
            ],
            "type": "heatmapgl"
           }
          ],
          "histogram": [
           {
            "marker": {
             "pattern": {
              "fillmode": "overlay",
              "size": 10,
              "solidity": 0.2
             }
            },
            "type": "histogram"
           }
          ],
          "histogram2d": [
           {
            "colorbar": {
             "outlinewidth": 0,
             "ticks": ""
            },
            "colorscale": [
             [
              0,
              "#0d0887"
             ],
             [
              0.1111111111111111,
              "#46039f"
             ],
             [
              0.2222222222222222,
              "#7201a8"
             ],
             [
              0.3333333333333333,
              "#9c179e"
             ],
             [
              0.4444444444444444,
              "#bd3786"
             ],
             [
              0.5555555555555556,
              "#d8576b"
             ],
             [
              0.6666666666666666,
              "#ed7953"
             ],
             [
              0.7777777777777778,
              "#fb9f3a"
             ],
             [
              0.8888888888888888,
              "#fdca26"
             ],
             [
              1,
              "#f0f921"
             ]
            ],
            "type": "histogram2d"
           }
          ],
          "histogram2dcontour": [
           {
            "colorbar": {
             "outlinewidth": 0,
             "ticks": ""
            },
            "colorscale": [
             [
              0,
              "#0d0887"
             ],
             [
              0.1111111111111111,
              "#46039f"
             ],
             [
              0.2222222222222222,
              "#7201a8"
             ],
             [
              0.3333333333333333,
              "#9c179e"
             ],
             [
              0.4444444444444444,
              "#bd3786"
             ],
             [
              0.5555555555555556,
              "#d8576b"
             ],
             [
              0.6666666666666666,
              "#ed7953"
             ],
             [
              0.7777777777777778,
              "#fb9f3a"
             ],
             [
              0.8888888888888888,
              "#fdca26"
             ],
             [
              1,
              "#f0f921"
             ]
            ],
            "type": "histogram2dcontour"
           }
          ],
          "mesh3d": [
           {
            "colorbar": {
             "outlinewidth": 0,
             "ticks": ""
            },
            "type": "mesh3d"
           }
          ],
          "parcoords": [
           {
            "line": {
             "colorbar": {
              "outlinewidth": 0,
              "ticks": ""
             }
            },
            "type": "parcoords"
           }
          ],
          "pie": [
           {
            "automargin": true,
            "type": "pie"
           }
          ],
          "scatter": [
           {
            "fillpattern": {
             "fillmode": "overlay",
             "size": 10,
             "solidity": 0.2
            },
            "type": "scatter"
           }
          ],
          "scatter3d": [
           {
            "line": {
             "colorbar": {
              "outlinewidth": 0,
              "ticks": ""
             }
            },
            "marker": {
             "colorbar": {
              "outlinewidth": 0,
              "ticks": ""
             }
            },
            "type": "scatter3d"
           }
          ],
          "scattercarpet": [
           {
            "marker": {
             "colorbar": {
              "outlinewidth": 0,
              "ticks": ""
             }
            },
            "type": "scattercarpet"
           }
          ],
          "scattergeo": [
           {
            "marker": {
             "colorbar": {
              "outlinewidth": 0,
              "ticks": ""
             }
            },
            "type": "scattergeo"
           }
          ],
          "scattergl": [
           {
            "marker": {
             "colorbar": {
              "outlinewidth": 0,
              "ticks": ""
             }
            },
            "type": "scattergl"
           }
          ],
          "scattermapbox": [
           {
            "marker": {
             "colorbar": {
              "outlinewidth": 0,
              "ticks": ""
             }
            },
            "type": "scattermapbox"
           }
          ],
          "scatterpolar": [
           {
            "marker": {
             "colorbar": {
              "outlinewidth": 0,
              "ticks": ""
             }
            },
            "type": "scatterpolar"
           }
          ],
          "scatterpolargl": [
           {
            "marker": {
             "colorbar": {
              "outlinewidth": 0,
              "ticks": ""
             }
            },
            "type": "scatterpolargl"
           }
          ],
          "scatterternary": [
           {
            "marker": {
             "colorbar": {
              "outlinewidth": 0,
              "ticks": ""
             }
            },
            "type": "scatterternary"
           }
          ],
          "surface": [
           {
            "colorbar": {
             "outlinewidth": 0,
             "ticks": ""
            },
            "colorscale": [
             [
              0,
              "#0d0887"
             ],
             [
              0.1111111111111111,
              "#46039f"
             ],
             [
              0.2222222222222222,
              "#7201a8"
             ],
             [
              0.3333333333333333,
              "#9c179e"
             ],
             [
              0.4444444444444444,
              "#bd3786"
             ],
             [
              0.5555555555555556,
              "#d8576b"
             ],
             [
              0.6666666666666666,
              "#ed7953"
             ],
             [
              0.7777777777777778,
              "#fb9f3a"
             ],
             [
              0.8888888888888888,
              "#fdca26"
             ],
             [
              1,
              "#f0f921"
             ]
            ],
            "type": "surface"
           }
          ],
          "table": [
           {
            "cells": {
             "fill": {
              "color": "#EBF0F8"
             },
             "line": {
              "color": "white"
             }
            },
            "header": {
             "fill": {
              "color": "#C8D4E3"
             },
             "line": {
              "color": "white"
             }
            },
            "type": "table"
           }
          ]
         },
         "layout": {
          "annotationdefaults": {
           "arrowcolor": "#2a3f5f",
           "arrowhead": 0,
           "arrowwidth": 1
          },
          "autotypenumbers": "strict",
          "coloraxis": {
           "colorbar": {
            "outlinewidth": 0,
            "ticks": ""
           }
          },
          "colorscale": {
           "diverging": [
            [
             0,
             "#8e0152"
            ],
            [
             0.1,
             "#c51b7d"
            ],
            [
             0.2,
             "#de77ae"
            ],
            [
             0.3,
             "#f1b6da"
            ],
            [
             0.4,
             "#fde0ef"
            ],
            [
             0.5,
             "#f7f7f7"
            ],
            [
             0.6,
             "#e6f5d0"
            ],
            [
             0.7,
             "#b8e186"
            ],
            [
             0.8,
             "#7fbc41"
            ],
            [
             0.9,
             "#4d9221"
            ],
            [
             1,
             "#276419"
            ]
           ],
           "sequential": [
            [
             0,
             "#0d0887"
            ],
            [
             0.1111111111111111,
             "#46039f"
            ],
            [
             0.2222222222222222,
             "#7201a8"
            ],
            [
             0.3333333333333333,
             "#9c179e"
            ],
            [
             0.4444444444444444,
             "#bd3786"
            ],
            [
             0.5555555555555556,
             "#d8576b"
            ],
            [
             0.6666666666666666,
             "#ed7953"
            ],
            [
             0.7777777777777778,
             "#fb9f3a"
            ],
            [
             0.8888888888888888,
             "#fdca26"
            ],
            [
             1,
             "#f0f921"
            ]
           ],
           "sequentialminus": [
            [
             0,
             "#0d0887"
            ],
            [
             0.1111111111111111,
             "#46039f"
            ],
            [
             0.2222222222222222,
             "#7201a8"
            ],
            [
             0.3333333333333333,
             "#9c179e"
            ],
            [
             0.4444444444444444,
             "#bd3786"
            ],
            [
             0.5555555555555556,
             "#d8576b"
            ],
            [
             0.6666666666666666,
             "#ed7953"
            ],
            [
             0.7777777777777778,
             "#fb9f3a"
            ],
            [
             0.8888888888888888,
             "#fdca26"
            ],
            [
             1,
             "#f0f921"
            ]
           ]
          },
          "colorway": [
           "#636efa",
           "#EF553B",
           "#00cc96",
           "#ab63fa",
           "#FFA15A",
           "#19d3f3",
           "#FF6692",
           "#B6E880",
           "#FF97FF",
           "#FECB52"
          ],
          "font": {
           "color": "#2a3f5f"
          },
          "geo": {
           "bgcolor": "white",
           "lakecolor": "white",
           "landcolor": "#E5ECF6",
           "showlakes": true,
           "showland": true,
           "subunitcolor": "white"
          },
          "hoverlabel": {
           "align": "left"
          },
          "hovermode": "closest",
          "mapbox": {
           "style": "light"
          },
          "paper_bgcolor": "white",
          "plot_bgcolor": "#E5ECF6",
          "polar": {
           "angularaxis": {
            "gridcolor": "white",
            "linecolor": "white",
            "ticks": ""
           },
           "bgcolor": "#E5ECF6",
           "radialaxis": {
            "gridcolor": "white",
            "linecolor": "white",
            "ticks": ""
           }
          },
          "scene": {
           "xaxis": {
            "backgroundcolor": "#E5ECF6",
            "gridcolor": "white",
            "gridwidth": 2,
            "linecolor": "white",
            "showbackground": true,
            "ticks": "",
            "zerolinecolor": "white"
           },
           "yaxis": {
            "backgroundcolor": "#E5ECF6",
            "gridcolor": "white",
            "gridwidth": 2,
            "linecolor": "white",
            "showbackground": true,
            "ticks": "",
            "zerolinecolor": "white"
           },
           "zaxis": {
            "backgroundcolor": "#E5ECF6",
            "gridcolor": "white",
            "gridwidth": 2,
            "linecolor": "white",
            "showbackground": true,
            "ticks": "",
            "zerolinecolor": "white"
           }
          },
          "shapedefaults": {
           "line": {
            "color": "#2a3f5f"
           }
          },
          "ternary": {
           "aaxis": {
            "gridcolor": "white",
            "linecolor": "white",
            "ticks": ""
           },
           "baxis": {
            "gridcolor": "white",
            "linecolor": "white",
            "ticks": ""
           },
           "bgcolor": "#E5ECF6",
           "caxis": {
            "gridcolor": "white",
            "linecolor": "white",
            "ticks": ""
           }
          },
          "title": {
           "x": 0.05
          },
          "xaxis": {
           "automargin": true,
           "gridcolor": "white",
           "linecolor": "white",
           "ticks": "",
           "title": {
            "standoff": 15
           },
           "zerolinecolor": "white",
           "zerolinewidth": 2
          },
          "yaxis": {
           "automargin": true,
           "gridcolor": "white",
           "linecolor": "white",
           "ticks": "",
           "title": {
            "standoff": 15
           },
           "zerolinecolor": "white",
           "zerolinewidth": 2
          }
         }
        },
        "xaxis": {
         "anchor": "y",
         "domain": [
          0,
          1
         ],
         "title": {
          "text": "dia_semana"
         }
        },
        "yaxis": {
         "anchor": "x",
         "domain": [
          0,
          1
         ],
         "title": {
          "text": "0"
         }
        }
       }
      }
     },
     "metadata": {},
     "output_type": "display_data"
    }
   ],
   "source": [
    "fig = px.line(dataset_veiculos_ordenado, x='dia_semana', y=0, color='tipo_veiculo', markers=True)\n",
    "fig.show()"
   ]
  },
  {
   "cell_type": "code",
   "execution_count": 1,
   "metadata": {},
   "outputs": [
    {
     "ename": "ValueError",
     "evalue": "Mime type rendering requires nbformat>=4.2.0 but it is not installed",
     "output_type": "error",
     "traceback": [
      "\u001b[1;31m---------------------------------------------------------------------------\u001b[0m",
      "\u001b[1;31mValueError\u001b[0m                                Traceback (most recent call last)",
      "\u001b[1;32mc:\\Users\\rafaelcavalcante\\Documents\\GitHub\\dashboard\\src\\teste.ipynb Cell 12\u001b[0m line \u001b[0;36m1\n\u001b[0;32m     <a href='vscode-notebook-cell:/c%3A/Users/rafaelcavalcante/Documents/GitHub/dashboard/src/teste.ipynb#X14sZmlsZQ%3D%3D?line=9'>10</a>\u001b[0m fig\u001b[39m.\u001b[39madd_trace(go\u001b[39m.\u001b[39mBar(y\u001b[39m=\u001b[39m[\u001b[39m1\u001b[39m,\u001b[39m3\u001b[39m,\u001b[39m5\u001b[39m,\u001b[39m7\u001b[39m],), row\u001b[39m=\u001b[39m\u001b[39m1\u001b[39m, col\u001b[39m=\u001b[39m\u001b[39m1\u001b[39m)\n\u001b[0;32m     <a href='vscode-notebook-cell:/c%3A/Users/rafaelcavalcante/Documents/GitHub/dashboard/src/teste.ipynb#X14sZmlsZQ%3D%3D?line=10'>11</a>\u001b[0m fig\u001b[39m.\u001b[39madd_trace(go\u001b[39m.\u001b[39mScatter(y\u001b[39m=\u001b[39m[\u001b[39m4\u001b[39m, \u001b[39m2\u001b[39m, \u001b[39m1\u001b[39m, \u001b[39m6\u001b[39m]), row\u001b[39m=\u001b[39m\u001b[39m1\u001b[39m, col\u001b[39m=\u001b[39m\u001b[39m2\u001b[39m)\n\u001b[1;32m---> <a href='vscode-notebook-cell:/c%3A/Users/rafaelcavalcante/Documents/GitHub/dashboard/src/teste.ipynb#X14sZmlsZQ%3D%3D?line=12'>13</a>\u001b[0m fig\u001b[39m.\u001b[39;49mshow()\n",
      "File \u001b[1;32mc:\\Users\\rafaelcavalcante\\AppData\\Local\\Programs\\Python\\Python312\\Lib\\site-packages\\plotly\\basedatatypes.py:3410\u001b[0m, in \u001b[0;36mBaseFigure.show\u001b[1;34m(self, *args, **kwargs)\u001b[0m\n\u001b[0;32m   3377\u001b[0m \u001b[39m\u001b[39m\u001b[39m\"\"\"\u001b[39;00m\n\u001b[0;32m   3378\u001b[0m \u001b[39mShow a figure using either the default renderer(s) or the renderer(s)\u001b[39;00m\n\u001b[0;32m   3379\u001b[0m \u001b[39mspecified by the renderer argument\u001b[39;00m\n\u001b[1;32m   (...)\u001b[0m\n\u001b[0;32m   3406\u001b[0m \u001b[39mNone\u001b[39;00m\n\u001b[0;32m   3407\u001b[0m \u001b[39m\"\"\"\u001b[39;00m\n\u001b[0;32m   3408\u001b[0m \u001b[39mimport\u001b[39;00m \u001b[39mplotly\u001b[39;00m\u001b[39m.\u001b[39;00m\u001b[39mio\u001b[39;00m \u001b[39mas\u001b[39;00m \u001b[39mpio\u001b[39;00m\n\u001b[1;32m-> 3410\u001b[0m \u001b[39mreturn\u001b[39;00m pio\u001b[39m.\u001b[39;49mshow(\u001b[39mself\u001b[39;49m, \u001b[39m*\u001b[39;49margs, \u001b[39m*\u001b[39;49m\u001b[39m*\u001b[39;49mkwargs)\n",
      "File \u001b[1;32mc:\\Users\\rafaelcavalcante\\AppData\\Local\\Programs\\Python\\Python312\\Lib\\site-packages\\plotly\\io\\_renderers.py:394\u001b[0m, in \u001b[0;36mshow\u001b[1;34m(fig, renderer, validate, **kwargs)\u001b[0m\n\u001b[0;32m    389\u001b[0m         \u001b[39mraise\u001b[39;00m \u001b[39mValueError\u001b[39;00m(\n\u001b[0;32m    390\u001b[0m             \u001b[39m\"\u001b[39m\u001b[39mMime type rendering requires ipython but it is not installed\u001b[39m\u001b[39m\"\u001b[39m\n\u001b[0;32m    391\u001b[0m         )\n\u001b[0;32m    393\u001b[0m     \u001b[39mif\u001b[39;00m \u001b[39mnot\u001b[39;00m nbformat \u001b[39mor\u001b[39;00m Version(nbformat\u001b[39m.\u001b[39m__version__) \u001b[39m<\u001b[39m Version(\u001b[39m\"\u001b[39m\u001b[39m4.2.0\u001b[39m\u001b[39m\"\u001b[39m):\n\u001b[1;32m--> 394\u001b[0m         \u001b[39mraise\u001b[39;00m \u001b[39mValueError\u001b[39;00m(\n\u001b[0;32m    395\u001b[0m             \u001b[39m\"\u001b[39m\u001b[39mMime type rendering requires nbformat>=4.2.0 but it is not installed\u001b[39m\u001b[39m\"\u001b[39m\n\u001b[0;32m    396\u001b[0m         )\n\u001b[0;32m    398\u001b[0m     ipython_display\u001b[39m.\u001b[39mdisplay(bundle, raw\u001b[39m=\u001b[39m\u001b[39mTrue\u001b[39;00m)\n\u001b[0;32m    400\u001b[0m \u001b[39m# external renderers\u001b[39;00m\n",
      "\u001b[1;31mValueError\u001b[0m: Mime type rendering requires nbformat>=4.2.0 but it is not installed"
     ]
    }
   ],
   "source": [
    "from plotly.subplots import make_subplots\n",
    "import plotly.graph_objects as go\n",
    "\n",
    "fig = make_subplots(rows=1, cols=2)\n",
    "\n",
    "\n",
    "#fig.add_trace(px.histogram(dataset_veiculos_ordenado, x='dia_semana', y=0, color='tipo_veiculo'), row=1, col=1)\n",
    "#fig.add_trace(px.line(dataset_veiculos_ordenado, x='dia_semana', y=0, color='tipo_veiculo', markers=True), row=1, col=2)\n",
    "\n",
    "fig.add_trace(go.Bar(y=[1,3,5,7],), row=1, col=1)\n",
    "fig.add_trace(go.Scatter(y=[4, 2, 1, 6]), row=1, col=2)\n",
    "\n",
    "fig.show()"
   ]
  },
  {
   "cell_type": "code",
   "execution_count": 12,
   "metadata": {},
   "outputs": [
    {
     "data": {
      "application/vnd.plotly.v1+json": {
       "config": {
        "plotlyServerURL": "https://plot.ly"
       },
       "data": [
        {
         "alignmentgroup": "True",
         "bingroup": "x",
         "histfunc": "sum",
         "hovertemplate": "tipo_veiculo=Caminhão<br>dia_semana=%{x}<br>sum of 0=%{y}<extra></extra>",
         "legendgroup": "Caminhão",
         "marker": {
          "color": "#636efa",
          "pattern": {
           "shape": ""
          }
         },
         "name": "Caminhão",
         "offsetgroup": "Caminhão",
         "orientation": "v",
         "showlegend": true,
         "type": "histogram",
         "x": [
          "segunda-feira",
          "terça-feira",
          "quarta-feira",
          "quinta-feira",
          "sexta-feira",
          "sábado",
          "domingo"
         ],
         "xaxis": "x",
         "y": [
          1814,
          2383,
          2572,
          1999,
          2293,
          1823,
          1204
         ],
         "yaxis": "y"
        },
        {
         "alignmentgroup": "True",
         "bingroup": "x",
         "histfunc": "sum",
         "hovertemplate": "tipo_veiculo=Utilitário<br>dia_semana=%{x}<br>sum of 0=%{y}<extra></extra>",
         "legendgroup": "Utilitário",
         "marker": {
          "color": "#EF553B",
          "pattern": {
           "shape": ""
          }
         },
         "name": "Utilitário",
         "offsetgroup": "Utilitário",
         "orientation": "v",
         "showlegend": true,
         "type": "histogram",
         "x": [
          "segunda-feira",
          "terça-feira",
          "quarta-feira",
          "quinta-feira",
          "sexta-feira",
          "sábado",
          "domingo"
         ],
         "xaxis": "x2",
         "y": [
          505,
          459,
          503,
          514,
          501,
          504,
          652
         ],
         "yaxis": "y2"
        },
        {
         "alignmentgroup": "True",
         "bingroup": "x",
         "histfunc": "sum",
         "hovertemplate": "tipo_veiculo=Caminhonete<br>dia_semana=%{x}<br>sum of 0=%{y}<extra></extra>",
         "legendgroup": "Caminhonete",
         "marker": {
          "color": "#00cc96",
          "pattern": {
           "shape": ""
          }
         },
         "name": "Caminhonete",
         "offsetgroup": "Caminhonete",
         "orientation": "v",
         "showlegend": true,
         "type": "histogram",
         "x": [
          "segunda-feira",
          "terça-feira",
          "quarta-feira",
          "quinta-feira",
          "sexta-feira",
          "sábado",
          "domingo"
         ],
         "xaxis": "x3",
         "y": [
          3289,
          2428,
          2636,
          2579,
          3081,
          2992,
          3117
         ],
         "yaxis": "y3"
        },
        {
         "alignmentgroup": "True",
         "bingroup": "x",
         "histfunc": "sum",
         "hovertemplate": "tipo_veiculo=Automóvel<br>dia_semana=%{x}<br>sum of 0=%{y}<extra></extra>",
         "legendgroup": "Automóvel",
         "marker": {
          "color": "#ab63fa",
          "pattern": {
           "shape": ""
          }
         },
         "name": "Automóvel",
         "offsetgroup": "Automóvel",
         "orientation": "v",
         "showlegend": true,
         "type": "histogram",
         "x": [
          "segunda-feira",
          "terça-feira",
          "quarta-feira",
          "quinta-feira",
          "sexta-feira",
          "sábado",
          "domingo"
         ],
         "xaxis": "x4",
         "y": [
          11042,
          8894,
          8561,
          8465,
          12070,
          15228,
          17540
         ],
         "yaxis": "y4"
        }
       ],
       "layout": {
        "height": 600,
        "template": {
         "data": {
          "bar": [
           {
            "error_x": {
             "color": "#2a3f5f"
            },
            "error_y": {
             "color": "#2a3f5f"
            },
            "marker": {
             "line": {
              "color": "#E5ECF6",
              "width": 0.5
             },
             "pattern": {
              "fillmode": "overlay",
              "size": 10,
              "solidity": 0.2
             }
            },
            "type": "bar"
           }
          ],
          "barpolar": [
           {
            "marker": {
             "line": {
              "color": "#E5ECF6",
              "width": 0.5
             },
             "pattern": {
              "fillmode": "overlay",
              "size": 10,
              "solidity": 0.2
             }
            },
            "type": "barpolar"
           }
          ],
          "carpet": [
           {
            "aaxis": {
             "endlinecolor": "#2a3f5f",
             "gridcolor": "white",
             "linecolor": "white",
             "minorgridcolor": "white",
             "startlinecolor": "#2a3f5f"
            },
            "baxis": {
             "endlinecolor": "#2a3f5f",
             "gridcolor": "white",
             "linecolor": "white",
             "minorgridcolor": "white",
             "startlinecolor": "#2a3f5f"
            },
            "type": "carpet"
           }
          ],
          "choropleth": [
           {
            "colorbar": {
             "outlinewidth": 0,
             "ticks": ""
            },
            "type": "choropleth"
           }
          ],
          "contour": [
           {
            "colorbar": {
             "outlinewidth": 0,
             "ticks": ""
            },
            "colorscale": [
             [
              0,
              "#0d0887"
             ],
             [
              0.1111111111111111,
              "#46039f"
             ],
             [
              0.2222222222222222,
              "#7201a8"
             ],
             [
              0.3333333333333333,
              "#9c179e"
             ],
             [
              0.4444444444444444,
              "#bd3786"
             ],
             [
              0.5555555555555556,
              "#d8576b"
             ],
             [
              0.6666666666666666,
              "#ed7953"
             ],
             [
              0.7777777777777778,
              "#fb9f3a"
             ],
             [
              0.8888888888888888,
              "#fdca26"
             ],
             [
              1,
              "#f0f921"
             ]
            ],
            "type": "contour"
           }
          ],
          "contourcarpet": [
           {
            "colorbar": {
             "outlinewidth": 0,
             "ticks": ""
            },
            "type": "contourcarpet"
           }
          ],
          "heatmap": [
           {
            "colorbar": {
             "outlinewidth": 0,
             "ticks": ""
            },
            "colorscale": [
             [
              0,
              "#0d0887"
             ],
             [
              0.1111111111111111,
              "#46039f"
             ],
             [
              0.2222222222222222,
              "#7201a8"
             ],
             [
              0.3333333333333333,
              "#9c179e"
             ],
             [
              0.4444444444444444,
              "#bd3786"
             ],
             [
              0.5555555555555556,
              "#d8576b"
             ],
             [
              0.6666666666666666,
              "#ed7953"
             ],
             [
              0.7777777777777778,
              "#fb9f3a"
             ],
             [
              0.8888888888888888,
              "#fdca26"
             ],
             [
              1,
              "#f0f921"
             ]
            ],
            "type": "heatmap"
           }
          ],
          "heatmapgl": [
           {
            "colorbar": {
             "outlinewidth": 0,
             "ticks": ""
            },
            "colorscale": [
             [
              0,
              "#0d0887"
             ],
             [
              0.1111111111111111,
              "#46039f"
             ],
             [
              0.2222222222222222,
              "#7201a8"
             ],
             [
              0.3333333333333333,
              "#9c179e"
             ],
             [
              0.4444444444444444,
              "#bd3786"
             ],
             [
              0.5555555555555556,
              "#d8576b"
             ],
             [
              0.6666666666666666,
              "#ed7953"
             ],
             [
              0.7777777777777778,
              "#fb9f3a"
             ],
             [
              0.8888888888888888,
              "#fdca26"
             ],
             [
              1,
              "#f0f921"
             ]
            ],
            "type": "heatmapgl"
           }
          ],
          "histogram": [
           {
            "marker": {
             "pattern": {
              "fillmode": "overlay",
              "size": 10,
              "solidity": 0.2
             }
            },
            "type": "histogram"
           }
          ],
          "histogram2d": [
           {
            "colorbar": {
             "outlinewidth": 0,
             "ticks": ""
            },
            "colorscale": [
             [
              0,
              "#0d0887"
             ],
             [
              0.1111111111111111,
              "#46039f"
             ],
             [
              0.2222222222222222,
              "#7201a8"
             ],
             [
              0.3333333333333333,
              "#9c179e"
             ],
             [
              0.4444444444444444,
              "#bd3786"
             ],
             [
              0.5555555555555556,
              "#d8576b"
             ],
             [
              0.6666666666666666,
              "#ed7953"
             ],
             [
              0.7777777777777778,
              "#fb9f3a"
             ],
             [
              0.8888888888888888,
              "#fdca26"
             ],
             [
              1,
              "#f0f921"
             ]
            ],
            "type": "histogram2d"
           }
          ],
          "histogram2dcontour": [
           {
            "colorbar": {
             "outlinewidth": 0,
             "ticks": ""
            },
            "colorscale": [
             [
              0,
              "#0d0887"
             ],
             [
              0.1111111111111111,
              "#46039f"
             ],
             [
              0.2222222222222222,
              "#7201a8"
             ],
             [
              0.3333333333333333,
              "#9c179e"
             ],
             [
              0.4444444444444444,
              "#bd3786"
             ],
             [
              0.5555555555555556,
              "#d8576b"
             ],
             [
              0.6666666666666666,
              "#ed7953"
             ],
             [
              0.7777777777777778,
              "#fb9f3a"
             ],
             [
              0.8888888888888888,
              "#fdca26"
             ],
             [
              1,
              "#f0f921"
             ]
            ],
            "type": "histogram2dcontour"
           }
          ],
          "mesh3d": [
           {
            "colorbar": {
             "outlinewidth": 0,
             "ticks": ""
            },
            "type": "mesh3d"
           }
          ],
          "parcoords": [
           {
            "line": {
             "colorbar": {
              "outlinewidth": 0,
              "ticks": ""
             }
            },
            "type": "parcoords"
           }
          ],
          "pie": [
           {
            "automargin": true,
            "type": "pie"
           }
          ],
          "scatter": [
           {
            "fillpattern": {
             "fillmode": "overlay",
             "size": 10,
             "solidity": 0.2
            },
            "type": "scatter"
           }
          ],
          "scatter3d": [
           {
            "line": {
             "colorbar": {
              "outlinewidth": 0,
              "ticks": ""
             }
            },
            "marker": {
             "colorbar": {
              "outlinewidth": 0,
              "ticks": ""
             }
            },
            "type": "scatter3d"
           }
          ],
          "scattercarpet": [
           {
            "marker": {
             "colorbar": {
              "outlinewidth": 0,
              "ticks": ""
             }
            },
            "type": "scattercarpet"
           }
          ],
          "scattergeo": [
           {
            "marker": {
             "colorbar": {
              "outlinewidth": 0,
              "ticks": ""
             }
            },
            "type": "scattergeo"
           }
          ],
          "scattergl": [
           {
            "marker": {
             "colorbar": {
              "outlinewidth": 0,
              "ticks": ""
             }
            },
            "type": "scattergl"
           }
          ],
          "scattermapbox": [
           {
            "marker": {
             "colorbar": {
              "outlinewidth": 0,
              "ticks": ""
             }
            },
            "type": "scattermapbox"
           }
          ],
          "scatterpolar": [
           {
            "marker": {
             "colorbar": {
              "outlinewidth": 0,
              "ticks": ""
             }
            },
            "type": "scatterpolar"
           }
          ],
          "scatterpolargl": [
           {
            "marker": {
             "colorbar": {
              "outlinewidth": 0,
              "ticks": ""
             }
            },
            "type": "scatterpolargl"
           }
          ],
          "scatterternary": [
           {
            "marker": {
             "colorbar": {
              "outlinewidth": 0,
              "ticks": ""
             }
            },
            "type": "scatterternary"
           }
          ],
          "surface": [
           {
            "colorbar": {
             "outlinewidth": 0,
             "ticks": ""
            },
            "colorscale": [
             [
              0,
              "#0d0887"
             ],
             [
              0.1111111111111111,
              "#46039f"
             ],
             [
              0.2222222222222222,
              "#7201a8"
             ],
             [
              0.3333333333333333,
              "#9c179e"
             ],
             [
              0.4444444444444444,
              "#bd3786"
             ],
             [
              0.5555555555555556,
              "#d8576b"
             ],
             [
              0.6666666666666666,
              "#ed7953"
             ],
             [
              0.7777777777777778,
              "#fb9f3a"
             ],
             [
              0.8888888888888888,
              "#fdca26"
             ],
             [
              1,
              "#f0f921"
             ]
            ],
            "type": "surface"
           }
          ],
          "table": [
           {
            "cells": {
             "fill": {
              "color": "#EBF0F8"
             },
             "line": {
              "color": "white"
             }
            },
            "header": {
             "fill": {
              "color": "#C8D4E3"
             },
             "line": {
              "color": "white"
             }
            },
            "type": "table"
           }
          ]
         },
         "layout": {
          "annotationdefaults": {
           "arrowcolor": "#2a3f5f",
           "arrowhead": 0,
           "arrowwidth": 1
          },
          "autotypenumbers": "strict",
          "coloraxis": {
           "colorbar": {
            "outlinewidth": 0,
            "ticks": ""
           }
          },
          "colorscale": {
           "diverging": [
            [
             0,
             "#8e0152"
            ],
            [
             0.1,
             "#c51b7d"
            ],
            [
             0.2,
             "#de77ae"
            ],
            [
             0.3,
             "#f1b6da"
            ],
            [
             0.4,
             "#fde0ef"
            ],
            [
             0.5,
             "#f7f7f7"
            ],
            [
             0.6,
             "#e6f5d0"
            ],
            [
             0.7,
             "#b8e186"
            ],
            [
             0.8,
             "#7fbc41"
            ],
            [
             0.9,
             "#4d9221"
            ],
            [
             1,
             "#276419"
            ]
           ],
           "sequential": [
            [
             0,
             "#0d0887"
            ],
            [
             0.1111111111111111,
             "#46039f"
            ],
            [
             0.2222222222222222,
             "#7201a8"
            ],
            [
             0.3333333333333333,
             "#9c179e"
            ],
            [
             0.4444444444444444,
             "#bd3786"
            ],
            [
             0.5555555555555556,
             "#d8576b"
            ],
            [
             0.6666666666666666,
             "#ed7953"
            ],
            [
             0.7777777777777778,
             "#fb9f3a"
            ],
            [
             0.8888888888888888,
             "#fdca26"
            ],
            [
             1,
             "#f0f921"
            ]
           ],
           "sequentialminus": [
            [
             0,
             "#0d0887"
            ],
            [
             0.1111111111111111,
             "#46039f"
            ],
            [
             0.2222222222222222,
             "#7201a8"
            ],
            [
             0.3333333333333333,
             "#9c179e"
            ],
            [
             0.4444444444444444,
             "#bd3786"
            ],
            [
             0.5555555555555556,
             "#d8576b"
            ],
            [
             0.6666666666666666,
             "#ed7953"
            ],
            [
             0.7777777777777778,
             "#fb9f3a"
            ],
            [
             0.8888888888888888,
             "#fdca26"
            ],
            [
             1,
             "#f0f921"
            ]
           ]
          },
          "colorway": [
           "#636efa",
           "#EF553B",
           "#00cc96",
           "#ab63fa",
           "#FFA15A",
           "#19d3f3",
           "#FF6692",
           "#B6E880",
           "#FF97FF",
           "#FECB52"
          ],
          "font": {
           "color": "#2a3f5f"
          },
          "geo": {
           "bgcolor": "white",
           "lakecolor": "white",
           "landcolor": "#E5ECF6",
           "showlakes": true,
           "showland": true,
           "subunitcolor": "white"
          },
          "hoverlabel": {
           "align": "left"
          },
          "hovermode": "closest",
          "mapbox": {
           "style": "light"
          },
          "paper_bgcolor": "white",
          "plot_bgcolor": "#E5ECF6",
          "polar": {
           "angularaxis": {
            "gridcolor": "white",
            "linecolor": "white",
            "ticks": ""
           },
           "bgcolor": "#E5ECF6",
           "radialaxis": {
            "gridcolor": "white",
            "linecolor": "white",
            "ticks": ""
           }
          },
          "scene": {
           "xaxis": {
            "backgroundcolor": "#E5ECF6",
            "gridcolor": "white",
            "gridwidth": 2,
            "linecolor": "white",
            "showbackground": true,
            "ticks": "",
            "zerolinecolor": "white"
           },
           "yaxis": {
            "backgroundcolor": "#E5ECF6",
            "gridcolor": "white",
            "gridwidth": 2,
            "linecolor": "white",
            "showbackground": true,
            "ticks": "",
            "zerolinecolor": "white"
           },
           "zaxis": {
            "backgroundcolor": "#E5ECF6",
            "gridcolor": "white",
            "gridwidth": 2,
            "linecolor": "white",
            "showbackground": true,
            "ticks": "",
            "zerolinecolor": "white"
           }
          },
          "shapedefaults": {
           "line": {
            "color": "#2a3f5f"
           }
          },
          "ternary": {
           "aaxis": {
            "gridcolor": "white",
            "linecolor": "white",
            "ticks": ""
           },
           "baxis": {
            "gridcolor": "white",
            "linecolor": "white",
            "ticks": ""
           },
           "bgcolor": "#E5ECF6",
           "caxis": {
            "gridcolor": "white",
            "linecolor": "white",
            "ticks": ""
           }
          },
          "title": {
           "x": 0.05
          },
          "xaxis": {
           "automargin": true,
           "gridcolor": "white",
           "linecolor": "white",
           "ticks": "",
           "title": {
            "standoff": 15
           },
           "zerolinecolor": "white",
           "zerolinewidth": 2
          },
          "yaxis": {
           "automargin": true,
           "gridcolor": "white",
           "linecolor": "white",
           "ticks": "",
           "title": {
            "standoff": 15
           },
           "zerolinecolor": "white",
           "zerolinewidth": 2
          }
         }
        },
        "title": {
         "text": "Subplots com Plotly Express"
        },
        "width": 800,
        "xaxis": {
         "anchor": "y",
         "domain": [
          0,
          0.45
         ]
        },
        "xaxis2": {
         "anchor": "y2",
         "domain": [
          0.55,
          1
         ]
        },
        "xaxis3": {
         "anchor": "y3",
         "domain": [
          0,
          0.45
         ]
        },
        "xaxis4": {
         "anchor": "y4",
         "domain": [
          0.55,
          1
         ]
        },
        "yaxis": {
         "anchor": "x",
         "domain": [
          0.575,
          1
         ]
        },
        "yaxis2": {
         "anchor": "x2",
         "domain": [
          0.575,
          1
         ]
        },
        "yaxis3": {
         "anchor": "x3",
         "domain": [
          0,
          0.425
         ]
        },
        "yaxis4": {
         "anchor": "x4",
         "domain": [
          0,
          0.425
         ]
        }
       }
      }
     },
     "metadata": {},
     "output_type": "display_data"
    }
   ],
   "source": [
    "import plotly.express as px\n",
    "from plotly.subplots import make_subplots\n",
    "\n",
    "# Criação dos dados de exemplo\n",
    "data = px.data.iris()\n",
    "\n",
    "# Criação dos subplots\n",
    "fig = make_subplots(rows=2, cols=2)\n",
    "\n",
    "# Adiciona os gráficos aos subplots\n",
    "fig.add_trace(px.histogram(dataset_veiculos_ordenado, x='dia_semana', y=0, color='tipo_veiculo').data[0], row=1, col=1)\n",
    "fig.add_trace(px.histogram(dataset_veiculos_ordenado, x='dia_semana', y=0, color='tipo_veiculo').data[1], row=1, col=2)\n",
    "fig.add_trace(px.histogram(dataset_veiculos_ordenado, x='dia_semana', y=0, color='tipo_veiculo').data[2], row=2, col=1)\n",
    "fig.add_trace(px.histogram(dataset_veiculos_ordenado, x='dia_semana', y=0, color='tipo_veiculo').data[3], row=2, col=2)\n",
    "\n",
    "# Atualiza o layout dos subplots\n",
    "fig.update_layout(height=600, width=800, title_text=\"Subplots com Plotly Express\")\n",
    "\n",
    "# Exibe o gráfico\n",
    "fig.show()"
   ]
  },
  {
   "cell_type": "code",
   "execution_count": null,
   "metadata": {},
   "outputs": [],
   "source": [
    "# Environment used: dash1_8_0_env\n",
    "import pandas as pd     #(version 1.0.0)\n",
    "import plotly           #(version 4.5.0)\n",
    "import plotly.express as px\n",
    "\n",
    "import dash             #(version 1.8.0)\n",
    "import dash_core_components as dcc\n",
    "import dash_html_components as html\n",
    "from dash.dependencies import Input, Output, State\n",
    "from dash.exceptions import PreventUpdate\n",
    "# print(px.data.gapminder()[:15])\n",
    "\n",
    "external_stylesheets = [\"https://codepen.io/chriddyp/pen/bWLwgP.css\"]\n",
    "\n",
    "app = dash.Dash(__name__, external_stylesheets=external_stylesheets)\n",
    "\n",
    "#---------------------------------------------------------------\n",
    "app.layout = html.Div([\n",
    "\n",
    "    html.Div([\n",
    "        dcc.Graph(id='the_graph')\n",
    "    ]),\n",
    "\n",
    "    html.Div([\n",
    "        dcc.Input(id='input_state', type='number', inputMode='numeric', value=2007,\n",
    "                  max=2007, min=1952, step=5, required=True),\n",
    "        html.Button(id='submit_button', n_clicks=0, children='Submit'),\n",
    "        html.Div(id='output_state'),\n",
    "    ],style={'text-align': 'center'}),\n",
    "\n",
    "])\n",
    "\n",
    "#---------------------------------------------------------------\n",
    "@app.callback(\n",
    "    [Output('output_state', 'children'),\n",
    "    Output(component_id='the_graph', component_property='figure')],\n",
    "    [Input(component_id='submit_button', component_property='n_clicks')],\n",
    "    [State(component_id='input_state', component_property='value')]\n",
    ")\n",
    "\n",
    "def update_output(num_clicks, val_selected):\n",
    "    if val_selected is None:\n",
    "        raise PreventUpdate\n",
    "    else:\n",
    "        df = px.data.gapminder().query(\"year=={}\".format(val_selected))\n",
    "        # print(df[:3])\n",
    "\n",
    "        fig = px.choropleth(df, locations=\"iso_alpha\",\n",
    "                    color=\"lifeExp\",\n",
    "                    hover_name=\"country\",\n",
    "                    locationmode=\"ISO-3\",\n",
    "                    projection=\"natural earth\",\n",
    "                    title=\"Expectativa de vida por ano - Brasil\",\n",
    "                    color_continuous_scale=px.colors.sequential.Plasma)\n",
    "        \n",
    "        # Define a visualização inicial para o Brasil\n",
    "        fig.update_geos(fitbounds=\"locations\", visible=False)\n",
    "\n",
    "        # Atualiza o layout para ajustar ao tamanho do mapa\n",
    "        fig.update_layout(height=500, margin={\"r\": 0, \"t\": 0, \"l\": 0, \"b\": 0})\n",
    "\n",
    "        #fig.update_layout(title=dict(font=dict(size=28),x=0.5,xanchor='center'),\n",
    "                          #margin=dict(l=60, r=60, t=50, b=50))\n",
    "\n",
    "        return ('The input value was \"{}\" and the button has been \\\n",
    "                clicked {} times'.format(val_selected, num_clicks), fig)\n",
    "\n",
    "if __name__ == '__main__':\n",
    "    app.run_server(debug=True)"
   ]
  }
 ],
 "metadata": {
  "kernelspec": {
   "display_name": "Python 3",
   "language": "python",
   "name": "python3"
  },
  "language_info": {
   "codemirror_mode": {
    "name": "ipython",
    "version": 3
   },
   "file_extension": ".py",
   "mimetype": "text/x-python",
   "name": "python",
   "nbconvert_exporter": "python",
   "pygments_lexer": "ipython3",
   "version": "3.12.0"
  },
  "orig_nbformat": 4
 },
 "nbformat": 4,
 "nbformat_minor": 2
}
